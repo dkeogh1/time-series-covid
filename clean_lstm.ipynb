{
 "cells": [
  {
   "cell_type": "markdown",
   "metadata": {},
   "source": [
    "# LSTM Covid-19 Data Analysis\n",
    "\n",
    "This notebook walks through implementing lstm neural networks as well as data loading on JHU's covid-19 time-series data, maintained here: https://github.com/CSSEGISandData/COVID-19. In the this walk-through, we use our predictor and data loader classes that are in the ML module in this repo."
   ]
  },
  {
   "cell_type": "code",
   "execution_count": 1,
   "metadata": {},
   "outputs": [],
   "source": [
    "# basic python libs\n",
    "import os, wget, json\n",
    "\n",
    "# deep learning frameowkr tools\n",
    "import torch\n",
    "from torch import nn, optim\n",
    "\n",
    "# data analysis libs\n",
    "import numpy as np, pandas as pd\n",
    "\n",
    "# visualization libs\n",
    "import matplotlib.pyplot as plt\n",
    "from matplotlib import rc\n",
    "import seaborn as sns\n",
    "from pylab import rcParams\n",
    "from pandas.plotting import register_matplotlib_converters\n",
    "\n",
    "# ML pre-processing\n",
    "from sklearn.preprocessing import MinMaxScaler"
   ]
  },
  {
   "cell_type": "code",
   "execution_count": 2,
   "metadata": {},
   "outputs": [],
   "source": [
    "# our predictor and data loader\n",
    "from ML.lstm_torch import LSTM_data_loader, LSTM_Predictor, train_lstm, predict_future\n",
    "\n",
    "import warnings\n",
    "warnings.filterwarnings('ignore')"
   ]
  },
  {
   "cell_type": "markdown",
   "metadata": {},
   "source": [
    "Set all of our visualization preferences."
   ]
  },
  {
   "cell_type": "code",
   "execution_count": 49,
   "metadata": {},
   "outputs": [],
   "source": [
    "%matplotlib inline"
   ]
  },
  {
   "cell_type": "code",
   "execution_count": 50,
   "metadata": {},
   "outputs": [],
   "source": [
    "sns.set(style='whitegrid', palette='muted', font_scale=1.6)\n",
    "sns.set_palette(sns.color_palette(\"husl\", 8))\n",
    "\n",
    "rcParams['figure.figsize'] = 16, 12\n",
    "register_matplotlib_converters()"
   ]
  },
  {
   "cell_type": "code",
   "execution_count": 51,
   "metadata": {},
   "outputs": [
    {
     "data": {
      "text/plain": [
       "<torch._C.Generator at 0x1186817f0>"
      ]
     },
     "execution_count": 51,
     "metadata": {},
     "output_type": "execute_result"
    }
   ],
   "source": [
    "# set our random seed\n",
    "RANDOM_SEED = 26\n",
    "np.random.seed(RANDOM_SEED)\n",
    "torch.manual_seed(RANDOM_SEED)"
   ]
  },
  {
   "cell_type": "markdown",
   "metadata": {},
   "source": [
    "For doing a country-level analysis, we'll want to download the most recent data from the JHU database. That said, up until 3/22, the researchers were reporting state level data. There was functionality built into the the data-loaidng class to subset down to the state-level for project covid -19 growth for each state."
   ]
  },
  {
   "cell_type": "code",
   "execution_count": 23,
   "metadata": {},
   "outputs": [
    {
     "data": {
      "text/plain": [
       "'time_series_covid19_confirmed_global.csv'"
      ]
     },
     "execution_count": 23,
     "metadata": {},
     "output_type": "execute_result"
    }
   ],
   "source": [
    "if os.path.isfile('time_series_covid19_confirmed_global.csv'):\n",
    "    os.remove('time_series_covid19_confirmed_global.csv')\n",
    "    \n",
    "wget.download('https://raw.githubusercontent.com/CSSEGISandData/COVID-19/master/csse_covid_19_data/csse_covid_19_time_series/time_series_covid19_confirmed_global.csv')"
   ]
  },
  {
   "cell_type": "markdown",
   "metadata": {},
   "source": [
    "## World covid-19 Growth Analysis"
   ]
  },
  {
   "cell_type": "markdown",
   "metadata": {},
   "source": [
    "Lets start out with not subsetting our data for modeling -- let's aggregate all of our information over the entire world, largely because as we have more data points and will have a better fitting model. Since we're using long short-term memory machine networks in order to model out confirmed-case growth, if we have a bunch of 0s at the beginning of out time-series data and it begins to ramp up quickly, our model is going to have a hard time fitting to the sudden jump. If we capture as much of that as possible (i.e. use as much of the data as possible) we should see better results."
   ]
  },
  {
   "cell_type": "code",
   "execution_count": 57,
   "metadata": {},
   "outputs": [],
   "source": [
    "tdf = pd.read_csv('time_series_covid19_confirmed_global.csv')"
   ]
  },
  {
   "cell_type": "code",
   "execution_count": 58,
   "metadata": {},
   "outputs": [
    {
     "data": {
      "text/html": [
       "<div>\n",
       "<style scoped>\n",
       "    .dataframe tbody tr th:only-of-type {\n",
       "        vertical-align: middle;\n",
       "    }\n",
       "\n",
       "    .dataframe tbody tr th {\n",
       "        vertical-align: top;\n",
       "    }\n",
       "\n",
       "    .dataframe thead th {\n",
       "        text-align: right;\n",
       "    }\n",
       "</style>\n",
       "<table border=\"1\" class=\"dataframe\">\n",
       "  <thead>\n",
       "    <tr style=\"text-align: right;\">\n",
       "      <th></th>\n",
       "      <th>Province/State</th>\n",
       "      <th>Country/Region</th>\n",
       "      <th>Lat</th>\n",
       "      <th>Long</th>\n",
       "      <th>1/22/20</th>\n",
       "      <th>1/23/20</th>\n",
       "      <th>1/24/20</th>\n",
       "      <th>1/25/20</th>\n",
       "      <th>1/26/20</th>\n",
       "      <th>1/27/20</th>\n",
       "      <th>...</th>\n",
       "      <th>3/16/20</th>\n",
       "      <th>3/17/20</th>\n",
       "      <th>3/18/20</th>\n",
       "      <th>3/19/20</th>\n",
       "      <th>3/20/20</th>\n",
       "      <th>3/21/20</th>\n",
       "      <th>3/22/20</th>\n",
       "      <th>3/23/20</th>\n",
       "      <th>3/24/20</th>\n",
       "      <th>3/25/20</th>\n",
       "    </tr>\n",
       "  </thead>\n",
       "  <tbody>\n",
       "    <tr>\n",
       "      <th>0</th>\n",
       "      <td>NaN</td>\n",
       "      <td>Afghanistan</td>\n",
       "      <td>33.0000</td>\n",
       "      <td>65.0000</td>\n",
       "      <td>0</td>\n",
       "      <td>0</td>\n",
       "      <td>0</td>\n",
       "      <td>0</td>\n",
       "      <td>0</td>\n",
       "      <td>0</td>\n",
       "      <td>...</td>\n",
       "      <td>21</td>\n",
       "      <td>22</td>\n",
       "      <td>22</td>\n",
       "      <td>22</td>\n",
       "      <td>24</td>\n",
       "      <td>24</td>\n",
       "      <td>40</td>\n",
       "      <td>40</td>\n",
       "      <td>74</td>\n",
       "      <td>84</td>\n",
       "    </tr>\n",
       "    <tr>\n",
       "      <th>1</th>\n",
       "      <td>NaN</td>\n",
       "      <td>Albania</td>\n",
       "      <td>41.1533</td>\n",
       "      <td>20.1683</td>\n",
       "      <td>0</td>\n",
       "      <td>0</td>\n",
       "      <td>0</td>\n",
       "      <td>0</td>\n",
       "      <td>0</td>\n",
       "      <td>0</td>\n",
       "      <td>...</td>\n",
       "      <td>51</td>\n",
       "      <td>55</td>\n",
       "      <td>59</td>\n",
       "      <td>64</td>\n",
       "      <td>70</td>\n",
       "      <td>76</td>\n",
       "      <td>89</td>\n",
       "      <td>104</td>\n",
       "      <td>123</td>\n",
       "      <td>146</td>\n",
       "    </tr>\n",
       "    <tr>\n",
       "      <th>2</th>\n",
       "      <td>NaN</td>\n",
       "      <td>Algeria</td>\n",
       "      <td>28.0339</td>\n",
       "      <td>1.6596</td>\n",
       "      <td>0</td>\n",
       "      <td>0</td>\n",
       "      <td>0</td>\n",
       "      <td>0</td>\n",
       "      <td>0</td>\n",
       "      <td>0</td>\n",
       "      <td>...</td>\n",
       "      <td>54</td>\n",
       "      <td>60</td>\n",
       "      <td>74</td>\n",
       "      <td>87</td>\n",
       "      <td>90</td>\n",
       "      <td>139</td>\n",
       "      <td>201</td>\n",
       "      <td>230</td>\n",
       "      <td>264</td>\n",
       "      <td>302</td>\n",
       "    </tr>\n",
       "    <tr>\n",
       "      <th>3</th>\n",
       "      <td>NaN</td>\n",
       "      <td>Andorra</td>\n",
       "      <td>42.5063</td>\n",
       "      <td>1.5218</td>\n",
       "      <td>0</td>\n",
       "      <td>0</td>\n",
       "      <td>0</td>\n",
       "      <td>0</td>\n",
       "      <td>0</td>\n",
       "      <td>0</td>\n",
       "      <td>...</td>\n",
       "      <td>2</td>\n",
       "      <td>39</td>\n",
       "      <td>39</td>\n",
       "      <td>53</td>\n",
       "      <td>75</td>\n",
       "      <td>88</td>\n",
       "      <td>113</td>\n",
       "      <td>133</td>\n",
       "      <td>164</td>\n",
       "      <td>188</td>\n",
       "    </tr>\n",
       "    <tr>\n",
       "      <th>4</th>\n",
       "      <td>NaN</td>\n",
       "      <td>Angola</td>\n",
       "      <td>-11.2027</td>\n",
       "      <td>17.8739</td>\n",
       "      <td>0</td>\n",
       "      <td>0</td>\n",
       "      <td>0</td>\n",
       "      <td>0</td>\n",
       "      <td>0</td>\n",
       "      <td>0</td>\n",
       "      <td>...</td>\n",
       "      <td>0</td>\n",
       "      <td>0</td>\n",
       "      <td>0</td>\n",
       "      <td>0</td>\n",
       "      <td>1</td>\n",
       "      <td>2</td>\n",
       "      <td>2</td>\n",
       "      <td>3</td>\n",
       "      <td>3</td>\n",
       "      <td>3</td>\n",
       "    </tr>\n",
       "  </tbody>\n",
       "</table>\n",
       "<p>5 rows × 68 columns</p>\n",
       "</div>"
      ],
      "text/plain": [
       "  Province/State Country/Region      Lat     Long  1/22/20  1/23/20  1/24/20  \\\n",
       "0            NaN    Afghanistan  33.0000  65.0000        0        0        0   \n",
       "1            NaN        Albania  41.1533  20.1683        0        0        0   \n",
       "2            NaN        Algeria  28.0339   1.6596        0        0        0   \n",
       "3            NaN        Andorra  42.5063   1.5218        0        0        0   \n",
       "4            NaN         Angola -11.2027  17.8739        0        0        0   \n",
       "\n",
       "   1/25/20  1/26/20  1/27/20   ...     3/16/20  3/17/20  3/18/20  3/19/20  \\\n",
       "0        0        0        0   ...          21       22       22       22   \n",
       "1        0        0        0   ...          51       55       59       64   \n",
       "2        0        0        0   ...          54       60       74       87   \n",
       "3        0        0        0   ...           2       39       39       53   \n",
       "4        0        0        0   ...           0        0        0        0   \n",
       "\n",
       "   3/20/20  3/21/20  3/22/20  3/23/20  3/24/20  3/25/20  \n",
       "0       24       24       40       40       74       84  \n",
       "1       70       76       89      104      123      146  \n",
       "2       90      139      201      230      264      302  \n",
       "3       75       88      113      133      164      188  \n",
       "4        1        2        2        3        3        3  \n",
       "\n",
       "[5 rows x 68 columns]"
      ]
     },
     "execution_count": 58,
     "metadata": {},
     "output_type": "execute_result"
    }
   ],
   "source": [
    "tdf.head()"
   ]
  },
  {
   "cell_type": "markdown",
   "metadata": {},
   "source": [
    "The first thing we're going to use is the `LSTM_data_loader` class. Since we're subsetting in a couple different way, for useability we wrapped some of the basic manipulations into a data loader class. Most importantly, we're passing in a dataframe of the format above (how JHU has been provindg their data). If we pass this in and no other arguments, we will simply prep our data to model at the world-level. After that, we can pass in a country name that exists in the `Country/Region` column that we would like to subset by. If we use one of the archived data sets that contains state-level information, we can pass in a state abbreviation as well. In order to do this, we also need to pass in a dictionary where the abbreviation maps to the name of the state (i.e {'WA' : 'Washington'}. This dictionary just helps capture all instances in the dataframe where the state is metnioned)."
   ]
  },
  {
   "cell_type": "code",
   "execution_count": 70,
   "metadata": {},
   "outputs": [],
   "source": [
    "world_data_loader = LSTM_data_loader(df=tdf,\n",
    "                                     region_abr=None,\n",
    "                                     country=None,\n",
    "                                     region_list=None,\n",
    "                                     state_mapper=None)"
   ]
  },
  {
   "cell_type": "markdown",
   "metadata": {},
   "source": [
    "We still need to call the `subset_df` method off of our LSTM data loader as it still removes some columns off of our data that we're not going to want for the next step."
   ]
  },
  {
   "cell_type": "code",
   "execution_count": 71,
   "metadata": {},
   "outputs": [
    {
     "data": {
      "text/html": [
       "<div>\n",
       "<style scoped>\n",
       "    .dataframe tbody tr th:only-of-type {\n",
       "        vertical-align: middle;\n",
       "    }\n",
       "\n",
       "    .dataframe tbody tr th {\n",
       "        vertical-align: top;\n",
       "    }\n",
       "\n",
       "    .dataframe thead th {\n",
       "        text-align: right;\n",
       "    }\n",
       "</style>\n",
       "<table border=\"1\" class=\"dataframe\">\n",
       "  <thead>\n",
       "    <tr style=\"text-align: right;\">\n",
       "      <th></th>\n",
       "      <th>1/22/20</th>\n",
       "      <th>1/23/20</th>\n",
       "      <th>1/24/20</th>\n",
       "      <th>1/25/20</th>\n",
       "      <th>1/26/20</th>\n",
       "      <th>1/27/20</th>\n",
       "      <th>1/28/20</th>\n",
       "      <th>1/29/20</th>\n",
       "      <th>1/30/20</th>\n",
       "      <th>1/31/20</th>\n",
       "      <th>...</th>\n",
       "      <th>3/16/20</th>\n",
       "      <th>3/17/20</th>\n",
       "      <th>3/18/20</th>\n",
       "      <th>3/19/20</th>\n",
       "      <th>3/20/20</th>\n",
       "      <th>3/21/20</th>\n",
       "      <th>3/22/20</th>\n",
       "      <th>3/23/20</th>\n",
       "      <th>3/24/20</th>\n",
       "      <th>3/25/20</th>\n",
       "    </tr>\n",
       "  </thead>\n",
       "  <tbody>\n",
       "    <tr>\n",
       "      <th>0</th>\n",
       "      <td>0</td>\n",
       "      <td>0</td>\n",
       "      <td>0</td>\n",
       "      <td>0</td>\n",
       "      <td>0</td>\n",
       "      <td>0</td>\n",
       "      <td>0</td>\n",
       "      <td>0</td>\n",
       "      <td>0</td>\n",
       "      <td>0</td>\n",
       "      <td>...</td>\n",
       "      <td>21</td>\n",
       "      <td>22</td>\n",
       "      <td>22</td>\n",
       "      <td>22</td>\n",
       "      <td>24</td>\n",
       "      <td>24</td>\n",
       "      <td>40</td>\n",
       "      <td>40</td>\n",
       "      <td>74</td>\n",
       "      <td>84</td>\n",
       "    </tr>\n",
       "    <tr>\n",
       "      <th>1</th>\n",
       "      <td>0</td>\n",
       "      <td>0</td>\n",
       "      <td>0</td>\n",
       "      <td>0</td>\n",
       "      <td>0</td>\n",
       "      <td>0</td>\n",
       "      <td>0</td>\n",
       "      <td>0</td>\n",
       "      <td>0</td>\n",
       "      <td>0</td>\n",
       "      <td>...</td>\n",
       "      <td>51</td>\n",
       "      <td>55</td>\n",
       "      <td>59</td>\n",
       "      <td>64</td>\n",
       "      <td>70</td>\n",
       "      <td>76</td>\n",
       "      <td>89</td>\n",
       "      <td>104</td>\n",
       "      <td>123</td>\n",
       "      <td>146</td>\n",
       "    </tr>\n",
       "    <tr>\n",
       "      <th>2</th>\n",
       "      <td>0</td>\n",
       "      <td>0</td>\n",
       "      <td>0</td>\n",
       "      <td>0</td>\n",
       "      <td>0</td>\n",
       "      <td>0</td>\n",
       "      <td>0</td>\n",
       "      <td>0</td>\n",
       "      <td>0</td>\n",
       "      <td>0</td>\n",
       "      <td>...</td>\n",
       "      <td>54</td>\n",
       "      <td>60</td>\n",
       "      <td>74</td>\n",
       "      <td>87</td>\n",
       "      <td>90</td>\n",
       "      <td>139</td>\n",
       "      <td>201</td>\n",
       "      <td>230</td>\n",
       "      <td>264</td>\n",
       "      <td>302</td>\n",
       "    </tr>\n",
       "    <tr>\n",
       "      <th>3</th>\n",
       "      <td>0</td>\n",
       "      <td>0</td>\n",
       "      <td>0</td>\n",
       "      <td>0</td>\n",
       "      <td>0</td>\n",
       "      <td>0</td>\n",
       "      <td>0</td>\n",
       "      <td>0</td>\n",
       "      <td>0</td>\n",
       "      <td>0</td>\n",
       "      <td>...</td>\n",
       "      <td>2</td>\n",
       "      <td>39</td>\n",
       "      <td>39</td>\n",
       "      <td>53</td>\n",
       "      <td>75</td>\n",
       "      <td>88</td>\n",
       "      <td>113</td>\n",
       "      <td>133</td>\n",
       "      <td>164</td>\n",
       "      <td>188</td>\n",
       "    </tr>\n",
       "    <tr>\n",
       "      <th>4</th>\n",
       "      <td>0</td>\n",
       "      <td>0</td>\n",
       "      <td>0</td>\n",
       "      <td>0</td>\n",
       "      <td>0</td>\n",
       "      <td>0</td>\n",
       "      <td>0</td>\n",
       "      <td>0</td>\n",
       "      <td>0</td>\n",
       "      <td>0</td>\n",
       "      <td>...</td>\n",
       "      <td>0</td>\n",
       "      <td>0</td>\n",
       "      <td>0</td>\n",
       "      <td>0</td>\n",
       "      <td>1</td>\n",
       "      <td>2</td>\n",
       "      <td>2</td>\n",
       "      <td>3</td>\n",
       "      <td>3</td>\n",
       "      <td>3</td>\n",
       "    </tr>\n",
       "  </tbody>\n",
       "</table>\n",
       "<p>5 rows × 64 columns</p>\n",
       "</div>"
      ],
      "text/plain": [
       "   1/22/20  1/23/20  1/24/20  1/25/20  1/26/20  1/27/20  1/28/20  1/29/20  \\\n",
       "0        0        0        0        0        0        0        0        0   \n",
       "1        0        0        0        0        0        0        0        0   \n",
       "2        0        0        0        0        0        0        0        0   \n",
       "3        0        0        0        0        0        0        0        0   \n",
       "4        0        0        0        0        0        0        0        0   \n",
       "\n",
       "   1/30/20  1/31/20   ...     3/16/20  3/17/20  3/18/20  3/19/20  3/20/20  \\\n",
       "0        0        0   ...          21       22       22       22       24   \n",
       "1        0        0   ...          51       55       59       64       70   \n",
       "2        0        0   ...          54       60       74       87       90   \n",
       "3        0        0   ...           2       39       39       53       75   \n",
       "4        0        0   ...           0        0        0        0        1   \n",
       "\n",
       "   3/21/20  3/22/20  3/23/20  3/24/20  3/25/20  \n",
       "0       24       40       40       74       84  \n",
       "1       76       89      104      123      146  \n",
       "2      139      201      230      264      302  \n",
       "3       88      113      133      164      188  \n",
       "4        2        2        3        3        3  \n",
       "\n",
       "[5 rows x 64 columns]"
      ]
     },
     "execution_count": 71,
     "metadata": {},
     "output_type": "execute_result"
    }
   ],
   "source": [
    "world_data_loader.subset_df()\n",
    "world_data_loader.df.head()"
   ]
  },
  {
   "cell_type": "markdown",
   "metadata": {},
   "source": [
    "For plotting out our data, making predictions, and generally working with our data, it's more convenient to have our data in a datetime format, so we transfor switch our axes and cast out time-step information to a date-time type. The `delta` argument determines if our new cases are either the cumulative amount of cases in a country, or the amount of new daily cases. This changes the coontext of what we're predicting and modeling as well. For this, we're sticking with cumulative cases as typically these networks have an easier time fitting to smoother curves. That said, daily differences more excplicitly capture factors such as momemntum and negative swings."
   ]
  },
  {
   "cell_type": "code",
   "execution_count": 72,
   "metadata": {},
   "outputs": [
    {
     "name": "stdout",
     "output_type": "stream",
     "text": [
      "Data in cumulative\n"
     ]
    },
    {
     "data": {
      "text/plain": [
       "2020-01-22     555\n",
       "2020-01-23     654\n",
       "2020-01-24     941\n",
       "2020-01-25    1434\n",
       "2020-01-26    2118\n",
       "dtype: int64"
      ]
     },
     "execution_count": 72,
     "metadata": {},
     "output_type": "execute_result"
    }
   ],
   "source": [
    "world_data_loader.transform_df_datetime(delta=False)\n",
    "world_data_loader.df.head()"
   ]
  },
  {
   "cell_type": "code",
   "execution_count": 67,
   "metadata": {},
   "outputs": [
    {
     "data": {
      "text/plain": [
       "64"
      ]
     },
     "execution_count": 67,
     "metadata": {},
     "output_type": "execute_result"
    }
   ],
   "source": [
    "len(world_data_loader.df)"
   ]
  },
  {
   "cell_type": "markdown",
   "metadata": {},
   "source": [
    "Since we just packaged up a pandas dataframe inside of our loading class, we can still call easy pandas lotting features off of it. Inspecting the plot, we can see that there is significant momentum heading into February (the spike in cases in China) and a drop (a subsuquent dropping off ocf new reported cases there). At that point though, we can see the virus spread picking up again as it had reached other nations."
   ]
  },
  {
   "cell_type": "code",
   "execution_count": 68,
   "metadata": {
    "scrolled": false
   },
   "outputs": [
    {
     "data": {
      "text/plain": [
       "<matplotlib.axes._subplots.AxesSubplot at 0x134f76790>"
      ]
     },
     "execution_count": 68,
     "metadata": {},
     "output_type": "execute_result"
    },
    {
     "data": {
      "image/png": "[encoded data removed]",
      "text/plain": [
       "<Figure size 1152x864 with 1 Axes>"
      ]
     },
     "metadata": {},
     "output_type": "display_data"
    }
   ],
   "source": [
    "world_data_loader.df.plot(label=\"Confirmed Cases\")"
   ]
  },
  {
   "cell_type": "markdown",
   "metadata": {},
   "source": [
    "We can then call a method in the class to create our training and testing data sets. Pass in however much you wantfor the training data, but now we only have 56 days, forthis example I'm just going to pass in the last 5. The default value in the method is 0, which will not create a test data."
   ]
  },
  {
   "cell_type": "code",
   "execution_count": 31,
   "metadata": {},
   "outputs": [],
   "source": [
    "world_data_loader.gen_data_sets(test_data_size=7)"
   ]
  },
  {
   "cell_type": "markdown",
   "metadata": {},
   "source": [
    "We then extract these data sets data sets and do some conversions into torch tensors."
   ]
  },
  {
   "cell_type": "code",
   "execution_count": 32,
   "metadata": {},
   "outputs": [],
   "source": [
    "X_train, y_train = world_data_loader.set_seq()\n",
    "X_test, y_test = world_data_loader.set_seq(train=False)\n",
    "\n",
    "X_train = torch.from_numpy(X_train).float()\n",
    "y_train = torch.from_numpy(y_train).float()\n",
    "X_test = torch.from_numpy(X_test).float()\n",
    "y_test = torch.from_numpy(y_test).float()"
   ]
  },
  {
   "cell_type": "code",
   "execution_count": 33,
   "metadata": {},
   "outputs": [],
   "source": [
    "model = LSTM_Predictor(\n",
    "    features=1,\n",
    "    neurons=512,\n",
    "    sequences=3,\n",
    "    layers=2,\n",
    "    dropout=0.3)"
   ]
  },
  {
   "cell_type": "code",
   "execution_count": 34,
   "metadata": {},
   "outputs": [
    {
     "name": "stdout",
     "output_type": "stream",
     "text": [
      "Epoch 0 train loss: 6.759359359741211 test loss: 8.815042495727539\n",
      "Epoch 40 train loss: 2.077669620513916 test loss: 4.605196475982666\n",
      "Epoch 80 train loss: 1.7559337615966797 test loss: 3.4739794731140137\n",
      "Epoch 120 train loss: 0.1949295550584793 test loss: 0.3112955093383789\n",
      "Epoch 160 train loss: 0.1555720418691635 test loss: 1.4070069789886475\n",
      "Epoch 200 train loss: 0.16037774085998535 test loss: 1.4165215492248535\n",
      "Epoch 240 train loss: 0.19787868857383728 test loss: 1.1000595092773438\n",
      "Epoch 280 train loss: 0.15257638692855835 test loss: 1.1536024808883667\n",
      "Epoch 320 train loss: 0.17425861954689026 test loss: 1.0975145101547241\n",
      "Epoch 360 train loss: 0.170200914144516 test loss: 1.3809974193572998\n",
      "Epoch 400 train loss: 0.15811973810195923 test loss: 1.197411060333252\n",
      "Epoch 440 train loss: 0.1612183004617691 test loss: 1.4146722555160522\n",
      "Epoch 480 train loss: 0.37478378415107727 test loss: 0.8458614349365234\n"
     ]
    }
   ],
   "source": [
    "model, train_hist, test_hist = train_lstm(model,\n",
    "                                          X_train,\n",
    "                                          y_train,\n",
    "                                          X_test,\n",
    "                                          y_test,\n",
    "                                          epochs=500)"
   ]
  },
  {
   "cell_type": "code",
   "execution_count": 35,
   "metadata": {},
   "outputs": [
    {
     "name": "stdout",
     "output_type": "stream",
     "text": [
      "[336952.97 378235.   418045.  ]\n",
      "[307150.8710382  338567.32576919 369265.11678672]\n"
     ]
    }
   ],
   "source": [
    "seq_length = model.sequences\n",
    "\n",
    "outs = predict_future(n_future=len(X_test), \n",
    "                      time_data=X_test, \n",
    "                      sequece_lenth=model.sequences, \n",
    "                      model=model)\n",
    "\n",
    "true_cases = world_data_loader.scaler.inverse_transform(\n",
    "    np.expand_dims(y_test.flatten().numpy(), axis=0)\n",
    ").flatten()\n",
    "print(true_cases)\n",
    "\n",
    "predicted_cases = world_data_loader.scaler.inverse_transform(\n",
    "  np.expand_dims(outs, axis=0)\n",
    ").flatten()\n",
    "print(predicted_cases)"
   ]
  },
  {
   "cell_type": "code",
   "execution_count": 37,
   "metadata": {},
   "outputs": [
    {
     "data": {
      "text/plain": [
       "<matplotlib.legend.Legend at 0x1323dc9d0>"
      ]
     },
     "execution_count": 37,
     "metadata": {},
     "output_type": "execute_result"
    },
    {
     "data": {
      "image/png": "[encoded data removed]",
      "text/plain": [
       "<Figure size 1152x864 with 1 Axes>"
      ]
     },
     "metadata": {},
     "output_type": "display_data"
    }
   ],
   "source": [
    "plt.plot(\n",
    "  world_data_loader.df.index[:len(world_data_loader.train_data)],\n",
    "  world_data_loader.scaler.inverse_transform(world_data_loader.train_data).flatten(),\n",
    "  label='Historical Daily Confirmed'\n",
    ")\n",
    "\n",
    "plt.plot(\n",
    "  world_data_loader.df.index[len(world_data_loader.train_data):len(world_data_loader.train_data) + len(true_cases)],\n",
    "  true_cases,\n",
    "  label='Real Daily Confirmed'\n",
    ")\n",
    "\n",
    "plt.plot(\n",
    "  world_data_loader.df.index[len(world_data_loader.train_data):len(world_data_loader.train_data) + len(true_cases)],\n",
    "  predicted_cases,\n",
    "  label='Predicted Daily Confirmed'\n",
    ")\n",
    "\n",
    "plt.legend()"
   ]
  },
  {
   "cell_type": "markdown",
   "metadata": {},
   "source": [
    "## World - Future"
   ]
  },
  {
   "cell_type": "markdown",
   "metadata": {},
   "source": [
    "For our future, prediction, we the only real modifications that we make to our previous analysis is that we keep all of our data as training data for a better fit, and see what the model outputs!"
   ]
  },
  {
   "cell_type": "code",
   "execution_count": 74,
   "metadata": {},
   "outputs": [
    {
     "name": "stdout",
     "output_type": "stream",
     "text": [
      "Data is converted to daily delta\n",
      "Epoch 0 train loss: 3.2104358673095703\n",
      "Epoch 40 train loss: 0.921194314956665\n",
      "Epoch 80 train loss: 0.6172711253166199\n",
      "Epoch 120 train loss: 0.5533851385116577\n",
      "Epoch 160 train loss: 0.7079004645347595\n",
      "Epoch 200 train loss: 0.642855703830719\n",
      "Epoch 240 train loss: 0.6409525871276855\n",
      "Epoch 280 train loss: 0.7098181247711182\n",
      "Epoch 320 train loss: 0.6129046678543091\n",
      "Epoch 360 train loss: 0.5594758987426758\n",
      "Epoch 400 train loss: 0.6604916453361511\n",
      "Epoch 440 train loss: 0.730443000793457\n",
      "Epoch 480 train loss: 0.6501606702804565\n"
     ]
    }
   ],
   "source": [
    "world_data_loader = LSTM_data_loader(df=tdf,\n",
    "                                     region_abr=None,\n",
    "                                     country=None,\n",
    "                                     region_list=None,\n",
    "                                     state_mapper=None)\n",
    "\n",
    "world_data_loader.subset_df()\n",
    "\n",
    "world_data_loader.transform_df_datetime(delta=True)\n",
    "\n",
    "world_data_loader.gen_data_sets(test_data_size=0)\n",
    "\n",
    "X_train, y_train = world_data_loader.set_seq()\n",
    "X_train = torch.from_numpy(X_train).float()\n",
    "y_train = torch.from_numpy(y_train).float()\n",
    "\n",
    "model = LSTM_Predictor(\n",
    "    features=1,\n",
    "    neurons=512,\n",
    "    sequences=3,\n",
    "    layers=2,\n",
    "    dropout=0.3)\n",
    "\n",
    "model, train_hist, test_hist = train_lstm(model,\n",
    "                                          X_train,\n",
    "                                          y_train,\n",
    "                                          epochs=500)\n"
   ]
  },
  {
   "cell_type": "code",
   "execution_count": 78,
   "metadata": {},
   "outputs": [
    {
     "name": "stdout",
     "output_type": "stream",
     "text": [
      "[ 60296.40656197  62129.96614087  65585.78100908  70052.16161907\n",
      "  75211.12584472  80883.34857881  86952.06012118  93325.11916316\n",
      "  99916.59749436 106638.8515234 ]\n"
     ]
    }
   ],
   "source": [
    "seq_length = model.sequences\n",
    "days_to_predict = 10\n",
    "\n",
    "outs = predict_future(n_future=days_to_predict, \n",
    "                      time_data=X_train, \n",
    "                      sequece_lenth=model.sequences, \n",
    "                      model=model)\n",
    "\n",
    "predicted_cases = world_data_loader.scaler.inverse_transform(\n",
    "  np.expand_dims(outs, axis=0)\n",
    ").flatten()\n",
    "print(predicted_cases)"
   ]
  },
  {
   "cell_type": "markdown",
   "metadata": {},
   "source": [
    "After all that... our model looks pretty inear, predicting an incrase of ~10k cases a day. "
   ]
  },
  {
   "cell_type": "code",
   "execution_count": 79,
   "metadata": {},
   "outputs": [
    {
     "data": {
      "text/plain": [
       "<matplotlib.legend.Legend at 0x134eeb850>"
      ]
     },
     "execution_count": 79,
     "metadata": {},
     "output_type": "execute_result"
    },
    {
     "data": {
      "image/png": "[encoded data removed]",
      "text/plain": [
       "<Figure size 1152x864 with 1 Axes>"
      ]
     },
     "metadata": {},
     "output_type": "display_data"
    }
   ],
   "source": [
    "predicted_index = pd.date_range(\n",
    "  start=world_data_loader.df.index[-1],\n",
    "  periods=10 + 1,\n",
    "  closed='right'\n",
    ")\n",
    "\n",
    "predicted_cases = pd.Series(\n",
    "  data=predicted_cases,\n",
    "  index=predicted_index\n",
    ")\n",
    "\n",
    "plt.plot(predicted_cases, label='Predicted Daily Cases')\n",
    "plt.legend()"
   ]
  },
  {
   "cell_type": "markdown",
   "metadata": {},
   "source": [
    "And our data and predictions together."
   ]
  },
  {
   "cell_type": "code",
   "execution_count": 80,
   "metadata": {},
   "outputs": [
    {
     "data": {
      "text/plain": [
       "<matplotlib.legend.Legend at 0x1333aa850>"
      ]
     },
     "execution_count": 80,
     "metadata": {},
     "output_type": "execute_result"
    },
    {
     "data": {
      "image/png": "[encoded data removed]",
      "text/plain": [
       "<Figure size 1152x864 with 1 Axes>"
      ]
     },
     "metadata": {},
     "output_type": "display_data"
    }
   ],
   "source": [
    "plt.plot(world_data_loader.df, label='Historical Daily Cases')\n",
    "plt.plot(predicted_cases, label='Predicted Daily Cases')\n",
    "plt.legend()"
   ]
  },
  {
   "cell_type": "markdown",
   "metadata": {},
   "source": [
    "## Italian Analysis\n",
    "\n",
    "Okay, lets try something a bit harder that ahs considerabley less data then then aggergating over the whole world. Lets do Italy."
   ]
  },
  {
   "cell_type": "code",
   "execution_count": 96,
   "metadata": {},
   "outputs": [],
   "source": [
    "italy_data_loader = LSTM_data_loader(df=tdf,\n",
    "                                     region_abr=None,\n",
    "                                     country='Italy',\n",
    "                                     region_list=None,\n",
    "                                     state_mapper=None)"
   ]
  },
  {
   "cell_type": "code",
   "execution_count": 97,
   "metadata": {},
   "outputs": [
    {
     "data": {
      "text/html": [
       "<div>\n",
       "<style scoped>\n",
       "    .dataframe tbody tr th:only-of-type {\n",
       "        vertical-align: middle;\n",
       "    }\n",
       "\n",
       "    .dataframe tbody tr th {\n",
       "        vertical-align: top;\n",
       "    }\n",
       "\n",
       "    .dataframe thead th {\n",
       "        text-align: right;\n",
       "    }\n",
       "</style>\n",
       "<table border=\"1\" class=\"dataframe\">\n",
       "  <thead>\n",
       "    <tr style=\"text-align: right;\">\n",
       "      <th></th>\n",
       "      <th>1/22/20</th>\n",
       "      <th>1/23/20</th>\n",
       "      <th>1/24/20</th>\n",
       "      <th>1/25/20</th>\n",
       "      <th>1/26/20</th>\n",
       "      <th>1/27/20</th>\n",
       "      <th>1/28/20</th>\n",
       "      <th>1/29/20</th>\n",
       "      <th>1/30/20</th>\n",
       "      <th>1/31/20</th>\n",
       "      <th>...</th>\n",
       "      <th>3/16/20</th>\n",
       "      <th>3/17/20</th>\n",
       "      <th>3/18/20</th>\n",
       "      <th>3/19/20</th>\n",
       "      <th>3/20/20</th>\n",
       "      <th>3/21/20</th>\n",
       "      <th>3/22/20</th>\n",
       "      <th>3/23/20</th>\n",
       "      <th>3/24/20</th>\n",
       "      <th>3/25/20</th>\n",
       "    </tr>\n",
       "  </thead>\n",
       "  <tbody>\n",
       "    <tr>\n",
       "      <th>0</th>\n",
       "      <td>0</td>\n",
       "      <td>0</td>\n",
       "      <td>0</td>\n",
       "      <td>0</td>\n",
       "      <td>0</td>\n",
       "      <td>0</td>\n",
       "      <td>0</td>\n",
       "      <td>0</td>\n",
       "      <td>0</td>\n",
       "      <td>2</td>\n",
       "      <td>...</td>\n",
       "      <td>27980</td>\n",
       "      <td>31506</td>\n",
       "      <td>35713</td>\n",
       "      <td>41035</td>\n",
       "      <td>47021</td>\n",
       "      <td>53578</td>\n",
       "      <td>59138</td>\n",
       "      <td>63927</td>\n",
       "      <td>69176</td>\n",
       "      <td>74386</td>\n",
       "    </tr>\n",
       "  </tbody>\n",
       "</table>\n",
       "<p>1 rows × 64 columns</p>\n",
       "</div>"
      ],
      "text/plain": [
       "   1/22/20  1/23/20  1/24/20  1/25/20  1/26/20  1/27/20  1/28/20  1/29/20  \\\n",
       "0        0        0        0        0        0        0        0        0   \n",
       "\n",
       "   1/30/20  1/31/20   ...     3/16/20  3/17/20  3/18/20  3/19/20  3/20/20  \\\n",
       "0        0        2   ...       27980    31506    35713    41035    47021   \n",
       "\n",
       "   3/21/20  3/22/20  3/23/20  3/24/20  3/25/20  \n",
       "0    53578    59138    63927    69176    74386  \n",
       "\n",
       "[1 rows x 64 columns]"
      ]
     },
     "execution_count": 97,
     "metadata": {},
     "output_type": "execute_result"
    }
   ],
   "source": [
    "italy_data_loader.subset_df()\n",
    "italy_data_loader.df.head()"
   ]
  },
  {
   "cell_type": "code",
   "execution_count": 98,
   "metadata": {},
   "outputs": [
    {
     "name": "stdout",
     "output_type": "stream",
     "text": [
      "Data is converted to daily delta\n"
     ]
    },
    {
     "data": {
      "text/plain": [
       "2020-01-22    0\n",
       "2020-01-23    0\n",
       "2020-01-24    0\n",
       "2020-01-25    0\n",
       "2020-01-26    0\n",
       "dtype: int64"
      ]
     },
     "execution_count": 98,
     "metadata": {},
     "output_type": "execute_result"
    }
   ],
   "source": [
    "italy_data_loader.transform_df_datetime(delta=True)\n",
    "italy_data_loader.df.head()"
   ]
  },
  {
   "cell_type": "code",
   "execution_count": 99,
   "metadata": {},
   "outputs": [
    {
     "data": {
      "text/plain": [
       "<matplotlib.axes._subplots.AxesSubplot at 0x13de90b10>"
      ]
     },
     "execution_count": 99,
     "metadata": {},
     "output_type": "execute_result"
    },
    {
     "data": {
      "image/png": "[encoded data removed]",
      "text/plain": [
       "<Figure size 1152x864 with 1 Axes>"
      ]
     },
     "metadata": {},
     "output_type": "display_data"
    }
   ],
   "source": [
    "italy_data_loader.df.plot(label=\"Confirmed Cases\")"
   ]
  },
  {
   "cell_type": "code",
   "execution_count": 100,
   "metadata": {},
   "outputs": [],
   "source": [
    "italy_data_loader.gen_data_sets(test_data_size=7)"
   ]
  },
  {
   "cell_type": "code",
   "execution_count": 104,
   "metadata": {},
   "outputs": [],
   "source": [
    "X_train, y_train = italy_data_loader.set_seq(sequence_lenth=3)\n",
    "X_test, y_test = italy_data_loader.set_seq(train=False)\n",
    "\n",
    "X_train = torch.from_numpy(X_train).float()\n",
    "y_train = torch.from_numpy(y_train).float()\n",
    "X_test = torch.from_numpy(X_test).float()\n",
    "y_test = torch.from_numpy(y_test).float()"
   ]
  },
  {
   "cell_type": "code",
   "execution_count": 105,
   "metadata": {},
   "outputs": [],
   "source": [
    "model = LSTM_Predictor(\n",
    "    features=1,\n",
    "    neurons=512,\n",
    "    sequences=3,\n",
    "    layers=2,\n",
    "    dropout=0.3)"
   ]
  },
  {
   "cell_type": "code",
   "execution_count": 106,
   "metadata": {},
   "outputs": [
    {
     "name": "stdout",
     "output_type": "stream",
     "text": [
      "Epoch 0 train loss: 3.563279628753662 test loss: 3.1148581504821777\n",
      "Epoch 40 train loss: 1.7726671695709229 test loss: 1.2026842832565308\n",
      "Epoch 80 train loss: 0.8070232272148132 test loss: 0.040909651666879654\n",
      "Epoch 120 train loss: 0.7843297123908997 test loss: 0.02490665763616562\n",
      "Epoch 160 train loss: 0.790210485458374 test loss: 0.03408311679959297\n",
      "Epoch 200 train loss: 0.7581338882446289 test loss: 0.03448687493801117\n",
      "Epoch 240 train loss: 0.7759703397750854 test loss: 0.05889744684100151\n",
      "Epoch 280 train loss: 0.7854222059249878 test loss: 0.03985629975795746\n"
     ]
    }
   ],
   "source": [
    "model, train_hist, test_hist = train_lstm(model,\n",
    "                                          X_train,\n",
    "                                          y_train,\n",
    "                                          X_test,\n",
    "                                          y_test,\n",
    "                                          epochs=300)"
   ]
  },
  {
   "cell_type": "code",
   "execution_count": 107,
   "metadata": {},
   "outputs": [
    {
     "name": "stdout",
     "output_type": "stream",
     "text": [
      "[5560.     4789.     5249.0005]\n",
      "[5999.37832737 6600.94187355 7190.41852903]\n"
     ]
    }
   ],
   "source": [
    "seq_length = model.sequences\n",
    "\n",
    "outs = predict_future(n_future=len(X_test), \n",
    "                      time_data=X_test, \n",
    "                      sequece_lenth=model.sequences, \n",
    "                      model=model)\n",
    "\n",
    "true_cases = italy_data_loader.scaler.inverse_transform(\n",
    "    np.expand_dims(y_test.flatten().numpy(), axis=0)\n",
    ").flatten()\n",
    "print(true_cases)\n",
    "\n",
    "predicted_cases = italy_data_loader.scaler.inverse_transform(\n",
    "  np.expand_dims(outs, axis=0)\n",
    ").flatten()\n",
    "print(predicted_cases)"
   ]
  },
  {
   "cell_type": "code",
   "execution_count": 108,
   "metadata": {},
   "outputs": [
    {
     "data": {
      "text/plain": [
       "<matplotlib.legend.Legend at 0x13e601b50>"
      ]
     },
     "execution_count": 108,
     "metadata": {},
     "output_type": "execute_result"
    },
    {
     "data": {
      "image/png": "[encoded data removed]",
      "text/plain": [
       "<Figure size 1152x864 with 1 Axes>"
      ]
     },
     "metadata": {},
     "output_type": "display_data"
    }
   ],
   "source": [
    "plt.plot(\n",
    "  italy_data_loader.df.index[:len(italy_data_loader.train_data)],\n",
    "  italy_data_loader.scaler.inverse_transform(italy_data_loader.train_data).flatten(),\n",
    "  label='Historical Daily Confirmed'\n",
    ")\n",
    "\n",
    "plt.plot(\n",
    "  italy_data_loader.df.index[len(italy_data_loader.train_data):len(italy_data_loader.train_data) + len(true_cases)],\n",
    "  true_cases,\n",
    "  label='Real Daily Confirmed'\n",
    ")\n",
    "\n",
    "plt.plot(\n",
    "  italy_data_loader.df.index[len(italy_data_loader.train_data):len(italy_data_loader.train_data) + len(true_cases)],\n",
    "  predicted_cases,\n",
    "  label='Predicted Daily Confirmed'\n",
    ")\n",
    "\n",
    "plt.legend()"
   ]
  },
  {
   "cell_type": "markdown",
   "metadata": {},
   "source": [
    "## Italy - Future"
   ]
  },
  {
   "cell_type": "code",
   "execution_count": 116,
   "metadata": {},
   "outputs": [
    {
     "name": "stdout",
     "output_type": "stream",
     "text": [
      "Data is converted to daily delta\n",
      "Epoch 0 train loss: 6.604455471038818\n",
      "Epoch 40 train loss: 1.1903146505355835\n",
      "Epoch 80 train loss: 1.1992837190628052\n",
      "Epoch 120 train loss: 1.614452600479126\n",
      "Epoch 160 train loss: 1.0853201150894165\n",
      "Epoch 200 train loss: 0.9237119555473328\n",
      "Epoch 240 train loss: 0.8818630576133728\n",
      "Epoch 280 train loss: 0.8902077078819275\n",
      "Epoch 320 train loss: 0.7985752820968628\n",
      "Epoch 360 train loss: 0.7746910452842712\n",
      "Epoch 400 train loss: 0.7956010103225708\n",
      "Epoch 440 train loss: 0.7053218483924866\n",
      "Epoch 480 train loss: 0.7581348419189453\n"
     ]
    }
   ],
   "source": [
    "italy_data_loader = LSTM_data_loader(df=tdf,\n",
    "                                     region_abr=None,\n",
    "                                     country=\"Italy\",\n",
    "                                     region_list=None,\n",
    "                                     state_mapper=None)\n",
    "\n",
    "italy_data_loader.subset_df()\n",
    "\n",
    "italy_data_loader.transform_df_datetime(delta=True)\n",
    "\n",
    "italy_data_loader.gen_data_sets(test_data_size=0)\n",
    "\n",
    "X_train, y_train = italy_data_loader.set_seq()\n",
    "X_train = torch.from_numpy(X_train).float()\n",
    "y_train = torch.from_numpy(y_train).float()\n",
    "\n",
    "model = LSTM_Predictor(\n",
    "    features=1,\n",
    "    neurons=512,\n",
    "    sequences=3,\n",
    "    layers=2,\n",
    "    dropout=0.3)\n",
    "\n",
    "model, train_hist, test_hist = train_lstm(model,\n",
    "                                          X_train,\n",
    "                                          y_train,\n",
    "                                          epochs=500)\n"
   ]
  },
  {
   "cell_type": "code",
   "execution_count": 117,
   "metadata": {},
   "outputs": [
    {
     "name": "stdout",
     "output_type": "stream",
     "text": [
      "[48154.83944678 50071.79837537 51800.59592128 53342.28725016\n",
      " 54705.44337237 55901.09342158 56942.43581057 57843.84790814\n",
      " 58620.07845426 59285.54608119]\n"
     ]
    }
   ],
   "source": [
    "seq_length = model.sequences\n",
    "days_to_predict = 10\n",
    "\n",
    "outs = predict_future(n_future=days_to_predict, \n",
    "                      time_data=X_train, \n",
    "                      sequece_lenth=model.sequences, \n",
    "                      model=model)\n",
    "\n",
    "predicted_cases = world_data_loader.scaler.inverse_transform(\n",
    "  np.expand_dims(outs, axis=0)\n",
    ").flatten()\n",
    "print(predicted_cases)"
   ]
  },
  {
   "cell_type": "code",
   "execution_count": 118,
   "metadata": {},
   "outputs": [
    {
     "data": {
      "text/plain": [
       "<matplotlib.legend.Legend at 0x13e75da10>"
      ]
     },
     "execution_count": 118,
     "metadata": {},
     "output_type": "execute_result"
    },
    {
     "data": {
      "image/png": "[encoded data removed]",
      "text/plain": [
       "<Figure size 1152x864 with 1 Axes>"
      ]
     },
     "metadata": {},
     "output_type": "display_data"
    }
   ],
   "source": [
    "predicted_index = pd.date_range(\n",
    "  start=world_data_loader.df.index[-1],\n",
    "  periods=10 + 1,\n",
    "  closed='right'\n",
    ")\n",
    "\n",
    "predicted_cases = pd.Series(\n",
    "  data=predicted_cases,\n",
    "  index=predicted_index\n",
    ")\n",
    "\n",
    "plt.plot(predicted_cases, label='Predicted Daily Cases')\n",
    "plt.legend()"
   ]
  },
  {
   "cell_type": "code",
   "execution_count": 121,
   "metadata": {},
   "outputs": [
    {
     "data": {
      "text/plain": [
       "<matplotlib.legend.Legend at 0x1365d0790>"
      ]
     },
     "execution_count": 121,
     "metadata": {},
     "output_type": "execute_result"
    },
    {
     "data": {
      "image/png": "[encoded data removed]",
      "text/plain": [
       "<Figure size 1152x864 with 1 Axes>"
      ]
     },
     "metadata": {},
     "output_type": "display_data"
    }
   ],
   "source": [
    "plt.plot(world_data_loader.df, label='Historical Daily Cases')\n",
    "plt.plot(predicted_cases, label='Predicted Daily Cases')\n",
    "plt.legend()"
   ]
  },
  {
   "cell_type": "markdown",
   "metadata": {},
   "source": [
    "Lets collect data for prediction for all of the countries in our data set."
   ]
  },
  {
   "cell_type": "markdown",
   "metadata": {},
   "source": [
    "## US States Analysis"
   ]
  },
  {
   "cell_type": "markdown",
   "metadata": {},
   "source": [
    "### CA"
   ]
  },
  {
   "cell_type": "markdown",
   "metadata": {},
   "source": [
    "To do our analyses on US States, we can just feed in an abbreviation, but we have a good amount of disparatae naming that takes place in our data set that looks like so."
   ]
  },
  {
   "cell_type": "code",
   "execution_count": 80,
   "metadata": {},
   "outputs": [],
   "source": [
    "states_df = pd.read_csv('./data/jhu_data/time_series_19-covid-Confirmed_3_22.csv')\n",
    "states_df.drop(columns=['Unnamed: 0'],inplace=True)"
   ]
  },
  {
   "cell_type": "code",
   "execution_count": 81,
   "metadata": {},
   "outputs": [
    {
     "data": {
      "text/html": [
       "<div>\n",
       "<style scoped>\n",
       "    .dataframe tbody tr th:only-of-type {\n",
       "        vertical-align: middle;\n",
       "    }\n",
       "\n",
       "    .dataframe tbody tr th {\n",
       "        vertical-align: top;\n",
       "    }\n",
       "\n",
       "    .dataframe thead th {\n",
       "        text-align: right;\n",
       "    }\n",
       "</style>\n",
       "<table border=\"1\" class=\"dataframe\">\n",
       "  <thead>\n",
       "    <tr style=\"text-align: right;\">\n",
       "      <th></th>\n",
       "      <th>Province/State</th>\n",
       "      <th>Country/Region</th>\n",
       "      <th>Lat</th>\n",
       "      <th>Long</th>\n",
       "      <th>1/22/20</th>\n",
       "      <th>1/23/20</th>\n",
       "      <th>1/24/20</th>\n",
       "      <th>1/25/20</th>\n",
       "      <th>1/26/20</th>\n",
       "      <th>1/27/20</th>\n",
       "      <th>...</th>\n",
       "      <th>3/13/20</th>\n",
       "      <th>3/14/20</th>\n",
       "      <th>3/15/20</th>\n",
       "      <th>3/16/20</th>\n",
       "      <th>3/17/20</th>\n",
       "      <th>3/18/20</th>\n",
       "      <th>3/19/20</th>\n",
       "      <th>3/20/20</th>\n",
       "      <th>3/21/20</th>\n",
       "      <th>3/22/20</th>\n",
       "    </tr>\n",
       "  </thead>\n",
       "  <tbody>\n",
       "    <tr>\n",
       "      <th>98</th>\n",
       "      <td>Washington</td>\n",
       "      <td>US</td>\n",
       "      <td>47.4009</td>\n",
       "      <td>-121.4905</td>\n",
       "      <td>0</td>\n",
       "      <td>0</td>\n",
       "      <td>0</td>\n",
       "      <td>0</td>\n",
       "      <td>0</td>\n",
       "      <td>0</td>\n",
       "      <td>...</td>\n",
       "      <td>568</td>\n",
       "      <td>572</td>\n",
       "      <td>643</td>\n",
       "      <td>904</td>\n",
       "      <td>1076</td>\n",
       "      <td>1014</td>\n",
       "      <td>1376</td>\n",
       "      <td>1524</td>\n",
       "      <td>1793</td>\n",
       "      <td>1996</td>\n",
       "    </tr>\n",
       "    <tr>\n",
       "      <th>99</th>\n",
       "      <td>New York</td>\n",
       "      <td>US</td>\n",
       "      <td>42.1657</td>\n",
       "      <td>-74.9481</td>\n",
       "      <td>0</td>\n",
       "      <td>0</td>\n",
       "      <td>0</td>\n",
       "      <td>0</td>\n",
       "      <td>0</td>\n",
       "      <td>0</td>\n",
       "      <td>...</td>\n",
       "      <td>421</td>\n",
       "      <td>525</td>\n",
       "      <td>732</td>\n",
       "      <td>967</td>\n",
       "      <td>1706</td>\n",
       "      <td>2495</td>\n",
       "      <td>5365</td>\n",
       "      <td>8310</td>\n",
       "      <td>11710</td>\n",
       "      <td>15793</td>\n",
       "    </tr>\n",
       "    <tr>\n",
       "      <th>100</th>\n",
       "      <td>California</td>\n",
       "      <td>US</td>\n",
       "      <td>36.1162</td>\n",
       "      <td>-119.6816</td>\n",
       "      <td>0</td>\n",
       "      <td>0</td>\n",
       "      <td>0</td>\n",
       "      <td>0</td>\n",
       "      <td>0</td>\n",
       "      <td>0</td>\n",
       "      <td>...</td>\n",
       "      <td>282</td>\n",
       "      <td>340</td>\n",
       "      <td>426</td>\n",
       "      <td>557</td>\n",
       "      <td>698</td>\n",
       "      <td>751</td>\n",
       "      <td>952</td>\n",
       "      <td>1177</td>\n",
       "      <td>1364</td>\n",
       "      <td>1642</td>\n",
       "    </tr>\n",
       "    <tr>\n",
       "      <th>101</th>\n",
       "      <td>Massachusetts</td>\n",
       "      <td>US</td>\n",
       "      <td>42.2302</td>\n",
       "      <td>-71.5301</td>\n",
       "      <td>0</td>\n",
       "      <td>0</td>\n",
       "      <td>0</td>\n",
       "      <td>0</td>\n",
       "      <td>0</td>\n",
       "      <td>0</td>\n",
       "      <td>...</td>\n",
       "      <td>123</td>\n",
       "      <td>138</td>\n",
       "      <td>164</td>\n",
       "      <td>197</td>\n",
       "      <td>218</td>\n",
       "      <td>218</td>\n",
       "      <td>328</td>\n",
       "      <td>413</td>\n",
       "      <td>525</td>\n",
       "      <td>646</td>\n",
       "    </tr>\n",
       "    <tr>\n",
       "      <th>102</th>\n",
       "      <td>Diamond Princess</td>\n",
       "      <td>US</td>\n",
       "      <td>35.4437</td>\n",
       "      <td>139.6380</td>\n",
       "      <td>0</td>\n",
       "      <td>0</td>\n",
       "      <td>0</td>\n",
       "      <td>0</td>\n",
       "      <td>0</td>\n",
       "      <td>0</td>\n",
       "      <td>...</td>\n",
       "      <td>46</td>\n",
       "      <td>46</td>\n",
       "      <td>46</td>\n",
       "      <td>47</td>\n",
       "      <td>47</td>\n",
       "      <td>47</td>\n",
       "      <td>47</td>\n",
       "      <td>49</td>\n",
       "      <td>49</td>\n",
       "      <td>49</td>\n",
       "    </tr>\n",
       "  </tbody>\n",
       "</table>\n",
       "<p>5 rows × 65 columns</p>\n",
       "</div>"
      ],
      "text/plain": [
       "       Province/State Country/Region      Lat      Long  1/22/20  1/23/20  \\\n",
       "98         Washington             US  47.4009 -121.4905        0        0   \n",
       "99           New York             US  42.1657  -74.9481        0        0   \n",
       "100        California             US  36.1162 -119.6816        0        0   \n",
       "101     Massachusetts             US  42.2302  -71.5301        0        0   \n",
       "102  Diamond Princess             US  35.4437  139.6380        0        0   \n",
       "\n",
       "     1/24/20  1/25/20  1/26/20  1/27/20   ...     3/13/20  3/14/20  3/15/20  \\\n",
       "98         0        0        0        0   ...         568      572      643   \n",
       "99         0        0        0        0   ...         421      525      732   \n",
       "100        0        0        0        0   ...         282      340      426   \n",
       "101        0        0        0        0   ...         123      138      164   \n",
       "102        0        0        0        0   ...          46       46       46   \n",
       "\n",
       "     3/16/20  3/17/20  3/18/20  3/19/20  3/20/20  3/21/20  3/22/20  \n",
       "98       904     1076     1014     1376     1524     1793     1996  \n",
       "99       967     1706     2495     5365     8310    11710    15793  \n",
       "100      557      698      751      952     1177     1364     1642  \n",
       "101      197      218      218      328      413      525      646  \n",
       "102       47       47       47       47       49       49       49  \n",
       "\n",
       "[5 rows x 65 columns]"
      ]
     },
     "execution_count": 81,
     "metadata": {},
     "output_type": "execute_result"
    }
   ],
   "source": [
    "# some state names\n",
    "states_df[states_df['Country/Region']=='US'][:5]"
   ]
  },
  {
   "cell_type": "code",
   "execution_count": 82,
   "metadata": {},
   "outputs": [
    {
     "data": {
      "text/html": [
       "<div>\n",
       "<style scoped>\n",
       "    .dataframe tbody tr th:only-of-type {\n",
       "        vertical-align: middle;\n",
       "    }\n",
       "\n",
       "    .dataframe tbody tr th {\n",
       "        vertical-align: top;\n",
       "    }\n",
       "\n",
       "    .dataframe thead th {\n",
       "        text-align: right;\n",
       "    }\n",
       "</style>\n",
       "<table border=\"1\" class=\"dataframe\">\n",
       "  <thead>\n",
       "    <tr style=\"text-align: right;\">\n",
       "      <th></th>\n",
       "      <th>Province/State</th>\n",
       "      <th>Country/Region</th>\n",
       "      <th>Lat</th>\n",
       "      <th>Long</th>\n",
       "      <th>1/22/20</th>\n",
       "      <th>1/23/20</th>\n",
       "      <th>1/24/20</th>\n",
       "      <th>1/25/20</th>\n",
       "      <th>1/26/20</th>\n",
       "      <th>1/27/20</th>\n",
       "      <th>...</th>\n",
       "      <th>3/13/20</th>\n",
       "      <th>3/14/20</th>\n",
       "      <th>3/15/20</th>\n",
       "      <th>3/16/20</th>\n",
       "      <th>3/17/20</th>\n",
       "      <th>3/18/20</th>\n",
       "      <th>3/19/20</th>\n",
       "      <th>3/20/20</th>\n",
       "      <th>3/21/20</th>\n",
       "      <th>3/22/20</th>\n",
       "    </tr>\n",
       "  </thead>\n",
       "  <tbody>\n",
       "    <tr>\n",
       "      <th>417</th>\n",
       "      <td>Puerto Rico</td>\n",
       "      <td>US</td>\n",
       "      <td>18.2208</td>\n",
       "      <td>-66.5901</td>\n",
       "      <td>0</td>\n",
       "      <td>0</td>\n",
       "      <td>0</td>\n",
       "      <td>0</td>\n",
       "      <td>0</td>\n",
       "      <td>0</td>\n",
       "      <td>...</td>\n",
       "      <td>0</td>\n",
       "      <td>3</td>\n",
       "      <td>5</td>\n",
       "      <td>5</td>\n",
       "      <td>5</td>\n",
       "      <td>5</td>\n",
       "      <td>5</td>\n",
       "      <td>14</td>\n",
       "      <td>21</td>\n",
       "      <td>23</td>\n",
       "    </tr>\n",
       "    <tr>\n",
       "      <th>431</th>\n",
       "      <td>Guam</td>\n",
       "      <td>US</td>\n",
       "      <td>13.4443</td>\n",
       "      <td>144.7937</td>\n",
       "      <td>0</td>\n",
       "      <td>0</td>\n",
       "      <td>0</td>\n",
       "      <td>0</td>\n",
       "      <td>0</td>\n",
       "      <td>0</td>\n",
       "      <td>...</td>\n",
       "      <td>0</td>\n",
       "      <td>0</td>\n",
       "      <td>3</td>\n",
       "      <td>3</td>\n",
       "      <td>3</td>\n",
       "      <td>5</td>\n",
       "      <td>12</td>\n",
       "      <td>14</td>\n",
       "      <td>15</td>\n",
       "      <td>27</td>\n",
       "    </tr>\n",
       "    <tr>\n",
       "      <th>448</th>\n",
       "      <td>Virgin Islands</td>\n",
       "      <td>US</td>\n",
       "      <td>18.3358</td>\n",
       "      <td>-64.8963</td>\n",
       "      <td>0</td>\n",
       "      <td>0</td>\n",
       "      <td>0</td>\n",
       "      <td>0</td>\n",
       "      <td>0</td>\n",
       "      <td>0</td>\n",
       "      <td>...</td>\n",
       "      <td>0</td>\n",
       "      <td>1</td>\n",
       "      <td>1</td>\n",
       "      <td>1</td>\n",
       "      <td>2</td>\n",
       "      <td>2</td>\n",
       "      <td>3</td>\n",
       "      <td>3</td>\n",
       "      <td>3</td>\n",
       "      <td>3</td>\n",
       "    </tr>\n",
       "    <tr>\n",
       "      <th>491</th>\n",
       "      <td>United States Virgin Islands</td>\n",
       "      <td>US</td>\n",
       "      <td>18.3358</td>\n",
       "      <td>-64.8963</td>\n",
       "      <td>0</td>\n",
       "      <td>0</td>\n",
       "      <td>0</td>\n",
       "      <td>0</td>\n",
       "      <td>0</td>\n",
       "      <td>0</td>\n",
       "      <td>...</td>\n",
       "      <td>0</td>\n",
       "      <td>0</td>\n",
       "      <td>0</td>\n",
       "      <td>0</td>\n",
       "      <td>0</td>\n",
       "      <td>0</td>\n",
       "      <td>0</td>\n",
       "      <td>0</td>\n",
       "      <td>0</td>\n",
       "      <td>0</td>\n",
       "    </tr>\n",
       "    <tr>\n",
       "      <th>492</th>\n",
       "      <td>US</td>\n",
       "      <td>US</td>\n",
       "      <td>37.0902</td>\n",
       "      <td>-95.7129</td>\n",
       "      <td>0</td>\n",
       "      <td>0</td>\n",
       "      <td>0</td>\n",
       "      <td>0</td>\n",
       "      <td>0</td>\n",
       "      <td>0</td>\n",
       "      <td>...</td>\n",
       "      <td>0</td>\n",
       "      <td>0</td>\n",
       "      <td>0</td>\n",
       "      <td>0</td>\n",
       "      <td>0</td>\n",
       "      <td>0</td>\n",
       "      <td>0</td>\n",
       "      <td>0</td>\n",
       "      <td>0</td>\n",
       "      <td>0</td>\n",
       "    </tr>\n",
       "  </tbody>\n",
       "</table>\n",
       "<p>5 rows × 65 columns</p>\n",
       "</div>"
      ],
      "text/plain": [
       "                   Province/State Country/Region      Lat      Long  1/22/20  \\\n",
       "417                   Puerto Rico             US  18.2208  -66.5901        0   \n",
       "431                          Guam             US  13.4443  144.7937        0   \n",
       "448                Virgin Islands             US  18.3358  -64.8963        0   \n",
       "491  United States Virgin Islands             US  18.3358  -64.8963        0   \n",
       "492                            US             US  37.0902  -95.7129        0   \n",
       "\n",
       "     1/23/20  1/24/20  1/25/20  1/26/20  1/27/20   ...     3/13/20  3/14/20  \\\n",
       "417        0        0        0        0        0   ...           0        3   \n",
       "431        0        0        0        0        0   ...           0        0   \n",
       "448        0        0        0        0        0   ...           0        1   \n",
       "491        0        0        0        0        0   ...           0        0   \n",
       "492        0        0        0        0        0   ...           0        0   \n",
       "\n",
       "     3/15/20  3/16/20  3/17/20  3/18/20  3/19/20  3/20/20  3/21/20  3/22/20  \n",
       "417        5        5        5        5        5       14       21       23  \n",
       "431        3        3        3        5       12       14       15       27  \n",
       "448        1        1        2        2        3        3        3        3  \n",
       "491        0        0        0        0        0        0        0        0  \n",
       "492        0        0        0        0        0        0        0        0  \n",
       "\n",
       "[5 rows x 65 columns]"
      ]
     },
     "execution_count": 82,
     "metadata": {},
     "output_type": "execute_result"
    }
   ],
   "source": [
    "# some mixed types\n",
    "states_df[states_df['Country/Region']=='US'][-5:]"
   ]
  },
  {
   "cell_type": "markdown",
   "metadata": {},
   "source": [
    "So lets get some of this from a hand json we were already using for geospatial information in our visualization to get some name metadata."
   ]
  },
  {
   "cell_type": "code",
   "execution_count": 83,
   "metadata": {},
   "outputs": [],
   "source": [
    "with open('./data/geo_data/us-states.json', 'r') as f:\n",
    "    us_states = json.load(f)\n",
    "    \n",
    "state_abrs = [x['id'] for x in us_states['features']]\n",
    "\n",
    "state_mapper_lst = [{x['properties']['name']:x['id']} for x in us_states['features']]\n",
    "\n",
    "state_mapper_lst\n",
    "state_mapper = {}\n",
    "for s in state_mapper_lst:\n",
    "    state_mapper.update(s)"
   ]
  },
  {
   "cell_type": "markdown",
   "metadata": {},
   "source": [
    "First, lets pick a state that has a considerable outbreak, California."
   ]
  },
  {
   "cell_type": "code",
   "execution_count": 92,
   "metadata": {},
   "outputs": [],
   "source": [
    "wa_data_loader = LSTM_data_loader(df=states_df,\n",
    "                          region_abr='WA',\n",
    "                          country='US',\n",
    "                          region_list=None,\n",
    "                          state_mapper=state_mapper)"
   ]
  },
  {
   "cell_type": "code",
   "execution_count": 93,
   "metadata": {},
   "outputs": [
    {
     "data": {
      "text/html": [
       "<div>\n",
       "<style scoped>\n",
       "    .dataframe tbody tr th:only-of-type {\n",
       "        vertical-align: middle;\n",
       "    }\n",
       "\n",
       "    .dataframe tbody tr th {\n",
       "        vertical-align: top;\n",
       "    }\n",
       "\n",
       "    .dataframe thead th {\n",
       "        text-align: right;\n",
       "    }\n",
       "</style>\n",
       "<table border=\"1\" class=\"dataframe\">\n",
       "  <thead>\n",
       "    <tr style=\"text-align: right;\">\n",
       "      <th></th>\n",
       "      <th>1/22/20</th>\n",
       "      <th>1/23/20</th>\n",
       "      <th>1/24/20</th>\n",
       "      <th>1/25/20</th>\n",
       "      <th>1/26/20</th>\n",
       "      <th>1/27/20</th>\n",
       "      <th>1/28/20</th>\n",
       "      <th>1/29/20</th>\n",
       "      <th>1/30/20</th>\n",
       "      <th>1/31/20</th>\n",
       "      <th>...</th>\n",
       "      <th>3/13/20</th>\n",
       "      <th>3/14/20</th>\n",
       "      <th>3/15/20</th>\n",
       "      <th>3/16/20</th>\n",
       "      <th>3/17/20</th>\n",
       "      <th>3/18/20</th>\n",
       "      <th>3/19/20</th>\n",
       "      <th>3/20/20</th>\n",
       "      <th>3/21/20</th>\n",
       "      <th>3/22/20</th>\n",
       "    </tr>\n",
       "  </thead>\n",
       "  <tbody>\n",
       "    <tr>\n",
       "      <th>0</th>\n",
       "      <td>0</td>\n",
       "      <td>0</td>\n",
       "      <td>0</td>\n",
       "      <td>0</td>\n",
       "      <td>0</td>\n",
       "      <td>0</td>\n",
       "      <td>0</td>\n",
       "      <td>0</td>\n",
       "      <td>0</td>\n",
       "      <td>0</td>\n",
       "      <td>...</td>\n",
       "      <td>0</td>\n",
       "      <td>0</td>\n",
       "      <td>0</td>\n",
       "      <td>0</td>\n",
       "      <td>0</td>\n",
       "      <td>0</td>\n",
       "      <td>0</td>\n",
       "      <td>0</td>\n",
       "      <td>0</td>\n",
       "      <td>0</td>\n",
       "    </tr>\n",
       "    <tr>\n",
       "      <th>1</th>\n",
       "      <td>0</td>\n",
       "      <td>0</td>\n",
       "      <td>0</td>\n",
       "      <td>0</td>\n",
       "      <td>0</td>\n",
       "      <td>0</td>\n",
       "      <td>0</td>\n",
       "      <td>0</td>\n",
       "      <td>0</td>\n",
       "      <td>0</td>\n",
       "      <td>...</td>\n",
       "      <td>0</td>\n",
       "      <td>0</td>\n",
       "      <td>0</td>\n",
       "      <td>0</td>\n",
       "      <td>0</td>\n",
       "      <td>0</td>\n",
       "      <td>0</td>\n",
       "      <td>0</td>\n",
       "      <td>0</td>\n",
       "      <td>0</td>\n",
       "    </tr>\n",
       "    <tr>\n",
       "      <th>2</th>\n",
       "      <td>0</td>\n",
       "      <td>0</td>\n",
       "      <td>0</td>\n",
       "      <td>0</td>\n",
       "      <td>0</td>\n",
       "      <td>0</td>\n",
       "      <td>0</td>\n",
       "      <td>0</td>\n",
       "      <td>0</td>\n",
       "      <td>0</td>\n",
       "      <td>...</td>\n",
       "      <td>0</td>\n",
       "      <td>0</td>\n",
       "      <td>0</td>\n",
       "      <td>0</td>\n",
       "      <td>0</td>\n",
       "      <td>0</td>\n",
       "      <td>0</td>\n",
       "      <td>0</td>\n",
       "      <td>0</td>\n",
       "      <td>0</td>\n",
       "    </tr>\n",
       "    <tr>\n",
       "      <th>3</th>\n",
       "      <td>0</td>\n",
       "      <td>0</td>\n",
       "      <td>0</td>\n",
       "      <td>0</td>\n",
       "      <td>0</td>\n",
       "      <td>0</td>\n",
       "      <td>0</td>\n",
       "      <td>0</td>\n",
       "      <td>0</td>\n",
       "      <td>0</td>\n",
       "      <td>...</td>\n",
       "      <td>0</td>\n",
       "      <td>0</td>\n",
       "      <td>0</td>\n",
       "      <td>0</td>\n",
       "      <td>0</td>\n",
       "      <td>0</td>\n",
       "      <td>0</td>\n",
       "      <td>0</td>\n",
       "      <td>0</td>\n",
       "      <td>0</td>\n",
       "    </tr>\n",
       "    <tr>\n",
       "      <th>4</th>\n",
       "      <td>1</td>\n",
       "      <td>1</td>\n",
       "      <td>1</td>\n",
       "      <td>1</td>\n",
       "      <td>1</td>\n",
       "      <td>1</td>\n",
       "      <td>1</td>\n",
       "      <td>1</td>\n",
       "      <td>1</td>\n",
       "      <td>1</td>\n",
       "      <td>...</td>\n",
       "      <td>0</td>\n",
       "      <td>0</td>\n",
       "      <td>0</td>\n",
       "      <td>0</td>\n",
       "      <td>0</td>\n",
       "      <td>0</td>\n",
       "      <td>0</td>\n",
       "      <td>0</td>\n",
       "      <td>0</td>\n",
       "      <td>0</td>\n",
       "    </tr>\n",
       "  </tbody>\n",
       "</table>\n",
       "<p>5 rows × 61 columns</p>\n",
       "</div>"
      ],
      "text/plain": [
       "   1/22/20  1/23/20  1/24/20  1/25/20  1/26/20  1/27/20  1/28/20  1/29/20  \\\n",
       "0        0        0        0        0        0        0        0        0   \n",
       "1        0        0        0        0        0        0        0        0   \n",
       "2        0        0        0        0        0        0        0        0   \n",
       "3        0        0        0        0        0        0        0        0   \n",
       "4        1        1        1        1        1        1        1        1   \n",
       "\n",
       "   1/30/20  1/31/20   ...     3/13/20  3/14/20  3/15/20  3/16/20  3/17/20  \\\n",
       "0        0        0   ...           0        0        0        0        0   \n",
       "1        0        0   ...           0        0        0        0        0   \n",
       "2        0        0   ...           0        0        0        0        0   \n",
       "3        0        0   ...           0        0        0        0        0   \n",
       "4        1        1   ...           0        0        0        0        0   \n",
       "\n",
       "   3/18/20  3/19/20  3/20/20  3/21/20  3/22/20  \n",
       "0        0        0        0        0        0  \n",
       "1        0        0        0        0        0  \n",
       "2        0        0        0        0        0  \n",
       "3        0        0        0        0        0  \n",
       "4        0        0        0        0        0  \n",
       "\n",
       "[5 rows x 61 columns]"
      ]
     },
     "execution_count": 93,
     "metadata": {},
     "output_type": "execute_result"
    }
   ],
   "source": [
    "wa_data_loader.subset_df()\n",
    "wa_data_loader.df.head()"
   ]
  },
  {
   "cell_type": "code",
   "execution_count": 94,
   "metadata": {},
   "outputs": [
    {
     "name": "stdout",
     "output_type": "stream",
     "text": [
      "Data in cumulative\n"
     ]
    },
    {
     "data": {
      "text/plain": [
       "2020-01-22    1\n",
       "2020-01-23    1\n",
       "2020-01-24    1\n",
       "2020-01-25    1\n",
       "2020-01-26    1\n",
       "dtype: int64"
      ]
     },
     "execution_count": 94,
     "metadata": {},
     "output_type": "execute_result"
    }
   ],
   "source": [
    "wa_data_loader.transform_df_datetime()\n",
    "wa_data_loader.df.head()"
   ]
  },
  {
   "cell_type": "code",
   "execution_count": 95,
   "metadata": {},
   "outputs": [
    {
     "data": {
      "text/plain": [
       "<matplotlib.axes._subplots.AxesSubplot at 0x13502d810>"
      ]
     },
     "execution_count": 95,
     "metadata": {},
     "output_type": "execute_result"
    },
    {
     "data": {
      "image/png": "[encoded data removed]",
      "text/plain": [
       "<Figure size 1152x864 with 1 Axes>"
      ]
     },
     "metadata": {},
     "output_type": "display_data"
    }
   ],
   "source": [
    "wa_data_loader.df.plot(label=\"Confirmed Cases\")"
   ]
  },
  {
   "cell_type": "code",
   "execution_count": 112,
   "metadata": {},
   "outputs": [],
   "source": [
    "wa_data_loader.gen_data_sets(test_data_size=9)"
   ]
  },
  {
   "cell_type": "code",
   "execution_count": 113,
   "metadata": {},
   "outputs": [
    {
     "data": {
      "text/plain": [
       "array([[1.00705467],\n",
       "       [1.13227513],\n",
       "       [1.59259259],\n",
       "       [1.89594356],\n",
       "       [1.78659612],\n",
       "       [2.42504409],\n",
       "       [2.68606702],\n",
       "       [3.16049383],\n",
       "       [3.51851852]])"
      ]
     },
     "execution_count": 113,
     "metadata": {},
     "output_type": "execute_result"
    }
   ],
   "source": [
    "wa_data_loader.test_data"
   ]
  },
  {
   "cell_type": "code",
   "execution_count": 114,
   "metadata": {},
   "outputs": [],
   "source": [
    "X_train, y_train = ca_data_loader.set_seq(train=True, sequence_lenth=3)\n",
    "X_test, y_test = ca_data_loader.set_seq(train=False, sequence_lenth=3)\n",
    "\n",
    "X_train = torch.from_numpy(X_train).float()\n",
    "y_train = torch.from_numpy(y_train).float()\n",
    "X_test = torch.from_numpy(X_test).float()\n",
    "y_test = torch.from_numpy(y_test).float()"
   ]
  },
  {
   "cell_type": "code",
   "execution_count": 115,
   "metadata": {},
   "outputs": [
    {
     "data": {
      "text/plain": [
       "52"
      ]
     },
     "execution_count": 115,
     "metadata": {},
     "output_type": "execute_result"
    }
   ],
   "source": [
    "len(X_train)"
   ]
  },
  {
   "cell_type": "code",
   "execution_count": 66,
   "metadata": {},
   "outputs": [],
   "source": [
    "model = LSTM_Predictor(\n",
    "    features=1,\n",
    "    neurons=512,\n",
    "    sequences=3,\n",
    "    layers=2,\n",
    "    dropout=0.3)"
   ]
  },
  {
   "cell_type": "code",
   "execution_count": 67,
   "metadata": {},
   "outputs": [
    {
     "name": "stdout",
     "output_type": "stream",
     "text": [
      "Epoch 0 train loss: 2.236250877380371 test loss: 4.03095006942749\n",
      "Epoch 40 train loss: 1.0426058769226074 test loss: 3.0140223503112793\n",
      "Epoch 80 train loss: 0.3049560487270355 test loss: 1.301385521888733\n",
      "Epoch 120 train loss: 0.2944057583808899 test loss: 1.4257220029830933\n",
      "Epoch 160 train loss: 0.27429354190826416 test loss: 1.3283854722976685\n",
      "Epoch 200 train loss: 0.28727132081985474 test loss: 1.3310052156448364\n",
      "Epoch 240 train loss: 0.28152066469192505 test loss: 1.3347845077514648\n",
      "Epoch 280 train loss: 0.2957763373851776 test loss: 1.373891830444336\n"
     ]
    }
   ],
   "source": [
    "model, train_hist, test_hist = train_lstm(model,\n",
    "                                          X_train,\n",
    "                                          y_train,\n",
    "                                          X_test,\n",
    "                                          y_test,\n",
    "                                          epochs=300)"
   ]
  },
  {
   "cell_type": "code",
   "execution_count": 69,
   "metadata": {},
   "outputs": [
    {
     "data": {
      "text/plain": [
       "tensor([[[1.0759],\n",
       "         [1.3639],\n",
       "         [1.6862]]])"
      ]
     },
     "execution_count": 69,
     "metadata": {},
     "output_type": "execute_result"
    }
   ],
   "source": [
    "X_test"
   ]
  },
  {
   "cell_type": "code",
   "execution_count": 68,
   "metadata": {},
   "outputs": [
    {
     "name": "stdout",
     "output_type": "stream",
     "text": [
      "[1116.8224]\n",
      "[664.42988169]\n"
     ]
    }
   ],
   "source": [
    "seq_length = model.sequences\n",
    "\n",
    "with torch.no_grad():\n",
    "    test_seq = X_test[:1]\n",
    "    preds = []\n",
    "    for _ in range(len(X_test)):\n",
    "        y_test_pred = model(test_seq)\n",
    "        pred = torch.flatten(y_test_pred).item()\n",
    "        preds.append(pred)\n",
    "        new_seq = test_seq.numpy().flatten()\n",
    "        new_seq = np.append(new_seq, [pred])\n",
    "        new_seq = new_seq[1:]\n",
    "        test_seq = torch.as_tensor(new_seq).view(1, seq_length, 1).float()\n",
    "        \n",
    "true_cases = wa_data_loader.scaler.inverse_transform(\n",
    "    np.expand_dims(y_test.flatten().numpy(), axis=0)\n",
    ").flatten()\n",
    "print(true_cases)\n",
    "\n",
    "predicted_cases = wa_data_loader.scaler.inverse_transform(\n",
    "  np.expand_dims(preds, axis=0)\n",
    ").flatten()\n",
    "print(predicted_cases)"
   ]
  },
  {
   "cell_type": "code",
   "execution_count": 27,
   "metadata": {},
   "outputs": [
    {
     "data": {
      "text/plain": [
       "<matplotlib.legend.Legend at 0x134af2d10>"
      ]
     },
     "execution_count": 27,
     "metadata": {},
     "output_type": "execute_result"
    },
    {
     "data": {
      "image/png": "[encoded data removed]",
      "text/plain": [
       "<Figure size 432x288 with 1 Axes>"
      ]
     },
     "metadata": {
      "needs_background": "light"
     },
     "output_type": "display_data"
    }
   ],
   "source": [
    "plt.plot(\n",
    "  ca_data_loader.df.index[:len(ca_data_loader.train_data)],\n",
    "  ca_data_loader.scaler.inverse_transform(ca_data_loader.train_data).flatten(),\n",
    "  label='Historical Daily Confirmed'\n",
    ")\n",
    "\n",
    "plt.plot(\n",
    "  ca_data_loader.df.index[len(ca_data_loader.train_data):len(ca_data_loader.train_data) + len(true_cases)],\n",
    "  true_cases,\n",
    "  label='Real Daily Confirmed'\n",
    ")\n",
    "\n",
    "plt.plot(\n",
    "  ca_data_loader.df.index[len(ca_data_loader.train_data):len(ca_data_loader.train_data) + len(true_cases)],\n",
    "  predicted_cases,\n",
    "  label='Predicted Daily Confirmed'\n",
    ")\n",
    "\n",
    "plt.legend()"
   ]
  },
  {
   "cell_type": "markdown",
   "metadata": {},
   "source": [
    "### CO"
   ]
  },
  {
   "cell_type": "markdown",
   "metadata": {},
   "source": [
    "Lets try a state with some cases, but considerable less data, Colorado."
   ]
  },
  {
   "cell_type": "code",
   "execution_count": 15,
   "metadata": {},
   "outputs": [],
   "source": [
    "co_data_loader = LSTM_data_loader(df=tdf,\n",
    "                          region_abr='CO',\n",
    "                          country='US',\n",
    "                          region_list=state_abrs,\n",
    "                          state_mapper=state_mapper)"
   ]
  },
  {
   "cell_type": "code",
   "execution_count": 16,
   "metadata": {},
   "outputs": [
    {
     "data": {
      "text/html": [
       "<div>\n",
       "<style scoped>\n",
       "    .dataframe tbody tr th:only-of-type {\n",
       "        vertical-align: middle;\n",
       "    }\n",
       "\n",
       "    .dataframe tbody tr th {\n",
       "        vertical-align: top;\n",
       "    }\n",
       "\n",
       "    .dataframe thead th {\n",
       "        text-align: right;\n",
       "    }\n",
       "</style>\n",
       "<table border=\"1\" class=\"dataframe\">\n",
       "  <thead>\n",
       "    <tr style=\"text-align: right;\">\n",
       "      <th></th>\n",
       "      <th>1/22/20</th>\n",
       "      <th>1/23/20</th>\n",
       "      <th>1/24/20</th>\n",
       "      <th>1/25/20</th>\n",
       "      <th>1/26/20</th>\n",
       "      <th>1/27/20</th>\n",
       "      <th>1/28/20</th>\n",
       "      <th>1/29/20</th>\n",
       "      <th>1/30/20</th>\n",
       "      <th>1/31/20</th>\n",
       "      <th>...</th>\n",
       "      <th>3/8/20</th>\n",
       "      <th>3/9/20</th>\n",
       "      <th>3/10/20</th>\n",
       "      <th>3/11/20</th>\n",
       "      <th>3/12/20</th>\n",
       "      <th>3/13/20</th>\n",
       "      <th>3/14/20</th>\n",
       "      <th>3/15/20</th>\n",
       "      <th>3/16/20</th>\n",
       "      <th>3/17/20</th>\n",
       "    </tr>\n",
       "  </thead>\n",
       "  <tbody>\n",
       "    <tr>\n",
       "      <th>0</th>\n",
       "      <td>0</td>\n",
       "      <td>0</td>\n",
       "      <td>0</td>\n",
       "      <td>0</td>\n",
       "      <td>0</td>\n",
       "      <td>0</td>\n",
       "      <td>0</td>\n",
       "      <td>0</td>\n",
       "      <td>0</td>\n",
       "      <td>0</td>\n",
       "      <td>...</td>\n",
       "      <td>7</td>\n",
       "      <td>7</td>\n",
       "      <td>15</td>\n",
       "      <td>34</td>\n",
       "      <td>45</td>\n",
       "      <td>49</td>\n",
       "      <td>101</td>\n",
       "      <td>131</td>\n",
       "      <td>160</td>\n",
       "      <td>160</td>\n",
       "    </tr>\n",
       "  </tbody>\n",
       "</table>\n",
       "<p>1 rows × 56 columns</p>\n",
       "</div>"
      ],
      "text/plain": [
       "   1/22/20  1/23/20  1/24/20  1/25/20  1/26/20  1/27/20  1/28/20  1/29/20  \\\n",
       "0        0        0        0        0        0        0        0        0   \n",
       "\n",
       "   1/30/20  1/31/20   ...     3/8/20  3/9/20  3/10/20  3/11/20  3/12/20  \\\n",
       "0        0        0   ...          7       7       15       34       45   \n",
       "\n",
       "   3/13/20  3/14/20  3/15/20  3/16/20  3/17/20  \n",
       "0       49      101      131      160      160  \n",
       "\n",
       "[1 rows x 56 columns]"
      ]
     },
     "execution_count": 16,
     "metadata": {},
     "output_type": "execute_result"
    }
   ],
   "source": [
    "co_data_loader.subset_df()\n",
    "co_data_loader.df.head()"
   ]
  },
  {
   "cell_type": "code",
   "execution_count": 17,
   "metadata": {},
   "outputs": [
    {
     "data": {
      "text/plain": [
       "2020-01-22    0\n",
       "2020-01-23    0\n",
       "2020-01-24    0\n",
       "2020-01-25    0\n",
       "2020-01-26    0\n",
       "dtype: int64"
      ]
     },
     "execution_count": 17,
     "metadata": {},
     "output_type": "execute_result"
    }
   ],
   "source": [
    "co_data_loader.transform_df_datetime()\n",
    "co_data_loader.df.head()"
   ]
  },
  {
   "cell_type": "code",
   "execution_count": 18,
   "metadata": {},
   "outputs": [
    {
     "data": {
      "text/plain": [
       "<matplotlib.axes._subplots.AxesSubplot at 0x12dfda1d0>"
      ]
     },
     "execution_count": 18,
     "metadata": {},
     "output_type": "execute_result"
    },
    {
     "data": {
      "image/png": "[encoded data removed]",
      "text/plain": [
       "<Figure size 1008x720 with 1 Axes>"
      ]
     },
     "metadata": {
      "image/png": {
       "height": 621,
       "width": 827
      }
     },
     "output_type": "display_data"
    }
   ],
   "source": [
    "co_data_loader.df.plot(label=\"Confirmed Cases\")"
   ]
  },
  {
   "cell_type": "code",
   "execution_count": 19,
   "metadata": {},
   "outputs": [],
   "source": [
    "co_data_loader.gen_data_sets(test_data_size=0)"
   ]
  },
  {
   "cell_type": "code",
   "execution_count": 20,
   "metadata": {},
   "outputs": [],
   "source": [
    "X_train, y_train = co_data_loader.set_seq()\n",
    "# X_test, y_test = co_data_loader.set_seq(train=False)\n",
    "\n",
    "X_train = torch.from_numpy(X_train).float()\n",
    "y_train = torch.from_numpy(y_train).float()\n",
    "# X_test = torch.from_numpy(X_test).float()\n",
    "# y_test = torch.from_numpy(y_test).float()"
   ]
  },
  {
   "cell_type": "code",
   "execution_count": 21,
   "metadata": {},
   "outputs": [],
   "source": [
    "model = LSTM_Predictor(\n",
    "    features=1,\n",
    "    neurons=512,\n",
    "    sequences=3,\n",
    "    layers=2,\n",
    "    dropout=0.3)"
   ]
  },
  {
   "cell_type": "code",
   "execution_count": 22,
   "metadata": {},
   "outputs": [
    {
     "name": "stdout",
     "output_type": "stream",
     "text": [
      "Epoch 0 train loss: 2.1966371536254883\n",
      "Epoch 20 train loss: 2.0544867515563965\n",
      "Epoch 40 train loss: 2.043541431427002\n",
      "Epoch 60 train loss: 2.028346538543701\n",
      "Epoch 80 train loss: 2.0070838928222656\n",
      "Epoch 100 train loss: 1.9903323650360107\n",
      "Epoch 120 train loss: 1.9673469066619873\n",
      "Epoch 140 train loss: 1.926859974861145\n",
      "Epoch 160 train loss: 1.8918440341949463\n",
      "Epoch 180 train loss: 1.8268221616744995\n",
      "Epoch 200 train loss: 1.730825662612915\n",
      "Epoch 220 train loss: 1.580679178237915\n",
      "Epoch 240 train loss: 1.3450826406478882\n",
      "Epoch 260 train loss: 1.008018136024475\n",
      "Epoch 280 train loss: 0.6542141437530518\n"
     ]
    }
   ],
   "source": [
    "model, train_hist, test_hist = train_lstm(model,\n",
    "                                          X_train,\n",
    "                                          y_train,\n",
    "                                          epochs=300)"
   ]
  },
  {
   "cell_type": "code",
   "execution_count": 131,
   "metadata": {},
   "outputs": [
    {
     "name": "stdout",
     "output_type": "stream",
     "text": [
      "[101. 131. 160.]\n",
      "[55.27002096 56.60356522 56.55660868]\n"
     ]
    }
   ],
   "source": [
    "seq_length = model.sequences\n",
    "\n",
    "with torch.no_grad():\n",
    "    test_seq = X_test[:1]\n",
    "    preds = []\n",
    "    for _ in range(len(X_test)):\n",
    "        y_test_pred = model(test_seq)\n",
    "        pred = torch.flatten(y_test_pred).item()\n",
    "        preds.append(pred)\n",
    "        new_seq = test_seq.numpy().flatten()\n",
    "        new_seq = np.append(new_seq, [pred])\n",
    "        new_seq = new_seq[1:]\n",
    "        test_seq = torch.as_tensor(new_seq).view(1, seq_length, 1).float()\n",
    "        \n",
    "true_cases = co_data_loader.scaler.inverse_transform(\n",
    "    np.expand_dims(y_test.flatten().numpy(), axis=0)\n",
    ").flatten()\n",
    "print(true_cases)\n",
    "\n",
    "predicted_cases = co_data_loader.scaler.inverse_transform(\n",
    "  np.expand_dims(preds, axis=0)\n",
    ").flatten()\n",
    "print(predicted_cases)"
   ]
  },
  {
   "cell_type": "code",
   "execution_count": 132,
   "metadata": {},
   "outputs": [
    {
     "data": {
      "text/plain": [
       "<matplotlib.legend.Legend at 0x138b0d610>"
      ]
     },
     "execution_count": 132,
     "metadata": {},
     "output_type": "execute_result"
    },
    {
     "data": {
      "image/png": "[encoded data removed]",
      "text/plain": [
       "<Figure size 1008x720 with 1 Axes>"
      ]
     },
     "metadata": {
      "image/png": {
       "height": 579,
       "width": 853
      }
     },
     "output_type": "display_data"
    }
   ],
   "source": [
    "plt.plot(\n",
    "  co_data_loader.df.index[:len(italy_data_loader.train_data)],\n",
    "  co_data_loader.scaler.inverse_transform(italy_data_loader.train_data).flatten(),\n",
    "  label='Historical Daily Confirmed'\n",
    ")\n",
    "\n",
    "plt.plot(\n",
    "  co_data_loader.df.index[len(co_data_loader.train_data):len(co_data_loader.train_data) + len(true_cases)],\n",
    "  true_cases,\n",
    "  label='Real Daily Confirmed'\n",
    ")\n",
    "\n",
    "plt.plot(\n",
    "  co_data_loader.df.index[len(co_data_loader.train_data):len(co_data_loader.train_data) + len(true_cases)],\n",
    "  predicted_cases,\n",
    "  label='Predicted Daily Confirmed'\n",
    ")\n",
    "\n",
    "plt.legend()"
   ]
  },
  {
   "cell_type": "code",
   "execution_count": 63,
   "metadata": {},
   "outputs": [
    {
     "data": {
      "text/html": [
       "<div>\n",
       "<style scoped>\n",
       "    .dataframe tbody tr th:only-of-type {\n",
       "        vertical-align: middle;\n",
       "    }\n",
       "\n",
       "    .dataframe tbody tr th {\n",
       "        vertical-align: top;\n",
       "    }\n",
       "\n",
       "    .dataframe thead th {\n",
       "        text-align: right;\n",
       "    }\n",
       "</style>\n",
       "<table border=\"1\" class=\"dataframe\">\n",
       "  <thead>\n",
       "    <tr style=\"text-align: right;\">\n",
       "      <th></th>\n",
       "      <th>Province/State</th>\n",
       "      <th>Country/Region</th>\n",
       "      <th>Lat</th>\n",
       "      <th>Long</th>\n",
       "      <th>1/22/20</th>\n",
       "      <th>1/23/20</th>\n",
       "      <th>1/24/20</th>\n",
       "      <th>1/25/20</th>\n",
       "      <th>1/26/20</th>\n",
       "      <th>1/27/20</th>\n",
       "      <th>...</th>\n",
       "      <th>3/8/20</th>\n",
       "      <th>3/9/20</th>\n",
       "      <th>3/10/20</th>\n",
       "      <th>3/11/20</th>\n",
       "      <th>3/12/20</th>\n",
       "      <th>3/13/20</th>\n",
       "      <th>3/14/20</th>\n",
       "      <th>3/15/20</th>\n",
       "      <th>3/16/20</th>\n",
       "      <th>3/17/20</th>\n",
       "    </tr>\n",
       "  </thead>\n",
       "  <tbody>\n",
       "    <tr>\n",
       "      <th>0</th>\n",
       "      <td>NaN</td>\n",
       "      <td>Thailand</td>\n",
       "      <td>15.0000</td>\n",
       "      <td>101.0000</td>\n",
       "      <td>2</td>\n",
       "      <td>3</td>\n",
       "      <td>5</td>\n",
       "      <td>7</td>\n",
       "      <td>8</td>\n",
       "      <td>8</td>\n",
       "      <td>...</td>\n",
       "      <td>50</td>\n",
       "      <td>50</td>\n",
       "      <td>53</td>\n",
       "      <td>59</td>\n",
       "      <td>70</td>\n",
       "      <td>75</td>\n",
       "      <td>82</td>\n",
       "      <td>114</td>\n",
       "      <td>147</td>\n",
       "      <td>177</td>\n",
       "    </tr>\n",
       "    <tr>\n",
       "      <th>1</th>\n",
       "      <td>NaN</td>\n",
       "      <td>Japan</td>\n",
       "      <td>36.0000</td>\n",
       "      <td>138.0000</td>\n",
       "      <td>2</td>\n",
       "      <td>1</td>\n",
       "      <td>2</td>\n",
       "      <td>2</td>\n",
       "      <td>4</td>\n",
       "      <td>4</td>\n",
       "      <td>...</td>\n",
       "      <td>502</td>\n",
       "      <td>511</td>\n",
       "      <td>581</td>\n",
       "      <td>639</td>\n",
       "      <td>639</td>\n",
       "      <td>701</td>\n",
       "      <td>773</td>\n",
       "      <td>839</td>\n",
       "      <td>825</td>\n",
       "      <td>878</td>\n",
       "    </tr>\n",
       "    <tr>\n",
       "      <th>2</th>\n",
       "      <td>NaN</td>\n",
       "      <td>Singapore</td>\n",
       "      <td>1.2833</td>\n",
       "      <td>103.8333</td>\n",
       "      <td>0</td>\n",
       "      <td>1</td>\n",
       "      <td>3</td>\n",
       "      <td>3</td>\n",
       "      <td>4</td>\n",
       "      <td>5</td>\n",
       "      <td>...</td>\n",
       "      <td>150</td>\n",
       "      <td>150</td>\n",
       "      <td>160</td>\n",
       "      <td>178</td>\n",
       "      <td>178</td>\n",
       "      <td>200</td>\n",
       "      <td>212</td>\n",
       "      <td>226</td>\n",
       "      <td>243</td>\n",
       "      <td>266</td>\n",
       "    </tr>\n",
       "    <tr>\n",
       "      <th>3</th>\n",
       "      <td>NaN</td>\n",
       "      <td>Nepal</td>\n",
       "      <td>28.1667</td>\n",
       "      <td>84.2500</td>\n",
       "      <td>0</td>\n",
       "      <td>0</td>\n",
       "      <td>0</td>\n",
       "      <td>1</td>\n",
       "      <td>1</td>\n",
       "      <td>1</td>\n",
       "      <td>...</td>\n",
       "      <td>1</td>\n",
       "      <td>1</td>\n",
       "      <td>1</td>\n",
       "      <td>1</td>\n",
       "      <td>1</td>\n",
       "      <td>1</td>\n",
       "      <td>1</td>\n",
       "      <td>1</td>\n",
       "      <td>1</td>\n",
       "      <td>1</td>\n",
       "    </tr>\n",
       "    <tr>\n",
       "      <th>4</th>\n",
       "      <td>NaN</td>\n",
       "      <td>Malaysia</td>\n",
       "      <td>2.5000</td>\n",
       "      <td>112.5000</td>\n",
       "      <td>0</td>\n",
       "      <td>0</td>\n",
       "      <td>0</td>\n",
       "      <td>3</td>\n",
       "      <td>4</td>\n",
       "      <td>4</td>\n",
       "      <td>...</td>\n",
       "      <td>99</td>\n",
       "      <td>117</td>\n",
       "      <td>129</td>\n",
       "      <td>149</td>\n",
       "      <td>149</td>\n",
       "      <td>197</td>\n",
       "      <td>238</td>\n",
       "      <td>428</td>\n",
       "      <td>566</td>\n",
       "      <td>673</td>\n",
       "    </tr>\n",
       "  </tbody>\n",
       "</table>\n",
       "<p>5 rows × 60 columns</p>\n",
       "</div>"
      ],
      "text/plain": [
       "  Province/State Country/Region      Lat      Long  1/22/20  1/23/20  1/24/20  \\\n",
       "0            NaN       Thailand  15.0000  101.0000        2        3        5   \n",
       "1            NaN          Japan  36.0000  138.0000        2        1        2   \n",
       "2            NaN      Singapore   1.2833  103.8333        0        1        3   \n",
       "3            NaN          Nepal  28.1667   84.2500        0        0        0   \n",
       "4            NaN       Malaysia   2.5000  112.5000        0        0        0   \n",
       "\n",
       "   1/25/20  1/26/20  1/27/20   ...     3/8/20  3/9/20  3/10/20  3/11/20  \\\n",
       "0        7        8        8   ...         50      50       53       59   \n",
       "1        2        4        4   ...        502     511      581      639   \n",
       "2        3        4        5   ...        150     150      160      178   \n",
       "3        1        1        1   ...          1       1        1        1   \n",
       "4        3        4        4   ...         99     117      129      149   \n",
       "\n",
       "   3/12/20  3/13/20  3/14/20  3/15/20  3/16/20  3/17/20  \n",
       "0       70       75       82      114      147      177  \n",
       "1      639      701      773      839      825      878  \n",
       "2      178      200      212      226      243      266  \n",
       "3        1        1        1        1        1        1  \n",
       "4      149      197      238      428      566      673  \n",
       "\n",
       "[5 rows x 60 columns]"
      ]
     },
     "execution_count": 63,
     "metadata": {},
     "output_type": "execute_result"
    }
   ],
   "source": [
    "test_dl.df.head()"
   ]
  },
  {
   "cell_type": "code",
   "execution_count": 64,
   "metadata": {},
   "outputs": [],
   "source": [
    "test_dl.subset_df()\n",
    "test_dl.transform_df_datetime()\n",
    "test_dl.gen_data_sets(test_data_size=5)\n",
    "\n",
    "X_train, y_train = test_dl.set_seq()\n",
    "X_test, y_test = test_dl.set_seq(train=False)\n",
    "\n",
    "X_train = torch.from_numpy(X_train).float()\n",
    "y_train = torch.from_numpy(y_train).float()\n",
    "X_test = torch.from_numpy(X_test).float()\n",
    "y_test = torch.from_numpy(y_test).float()"
   ]
  },
  {
   "cell_type": "code",
   "execution_count": 65,
   "metadata": {},
   "outputs": [
    {
     "data": {
      "text/plain": [
       "<matplotlib.axes._subplots.AxesSubplot at 0x13344a610>"
      ]
     },
     "execution_count": 65,
     "metadata": {},
     "output_type": "execute_result"
    },
    {
     "data": {
      "image/png": "[encoded data removed]",
      "text/plain": [
       "<Figure size 1008x720 with 1 Axes>"
      ]
     },
     "metadata": {
      "image/png": {
       "height": 621,
       "width": 834
      }
     },
     "output_type": "display_data"
    }
   ],
   "source": [
    "test_dl.df.plot()"
   ]
  },
  {
   "cell_type": "code",
   "execution_count": 18,
   "metadata": {},
   "outputs": [],
   "source": [
    "test_dl.gen_data_sets(test_data_size=5)"
   ]
  },
  {
   "cell_type": "code",
   "execution_count": 22,
   "metadata": {},
   "outputs": [
    {
     "data": {
      "text/plain": [
       "(5, 1)"
      ]
     },
     "execution_count": 22,
     "metadata": {},
     "output_type": "execute_result"
    }
   ],
   "source": [
    "test_dl.test_data.shape"
   ]
  },
  {
   "cell_type": "code",
   "execution_count": 28,
   "metadata": {},
   "outputs": [],
   "source": [
    "X_train, y_train = test_dl.set_seq()\n",
    "X_test, y_test = test_dl.set_seq(train=False)"
   ]
  },
  {
   "cell_type": "code",
   "execution_count": 29,
   "metadata": {},
   "outputs": [],
   "source": [
    "X_test, y_test = test_dl.set_seq(train=False)"
   ]
  },
  {
   "cell_type": "code",
   "execution_count": 30,
   "metadata": {},
   "outputs": [],
   "source": [
    "X_train, y_train = test_dl.set_seq()\n",
    "X_test, y_test = test_dl.set_seq(train=False)\n",
    "\n",
    "X_train = torch.from_numpy(X_train).float()\n",
    "y_train = torch.from_numpy(y_train).float()\n",
    "\n",
    "X_test = torch.from_numpy(X_test).float()\n",
    "y_test = torch.from_numpy(y_test).float()"
   ]
  },
  {
   "cell_type": "code",
   "execution_count": 31,
   "metadata": {},
   "outputs": [
    {
     "data": {
      "text/plain": [
       "torch.Size([1, 1])"
      ]
     },
     "execution_count": 31,
     "metadata": {},
     "output_type": "execute_result"
    }
   ],
   "source": [
    "y_test.shape"
   ]
  },
  {
   "cell_type": "code",
   "execution_count": 66,
   "metadata": {},
   "outputs": [],
   "source": [
    "class CoronaVirusPredictor(nn.Module):\n",
    "\n",
    "  def __init__(self, n_features, n_hidden, seq_len, n_layers=2):\n",
    "    super(CoronaVirusPredictor, self).__init__()\n",
    "\n",
    "    self.n_hidden = n_hidden\n",
    "    self.seq_len = seq_len\n",
    "    self.n_layers = n_layers\n",
    "\n",
    "    self.lstm = nn.LSTM(\n",
    "      input_size=n_features,\n",
    "      hidden_size=n_hidden,\n",
    "      num_layers=n_layers,\n",
    "      dropout=0.3\n",
    "    )\n",
    "\n",
    "    self.linear = nn.Linear(in_features=n_hidden, out_features=1)\n",
    "\n",
    "  def reset_hidden_state(self):\n",
    "    self.hidden = (\n",
    "        torch.zeros(self.n_layers, self.seq_len, self.n_hidden),\n",
    "        torch.zeros(self.n_layers, self.seq_len, self.n_hidden)\n",
    "    )\n",
    "\n",
    "  def forward(self, sequences):\n",
    "    lstm_out, self.hidden = self.lstm(\n",
    "      sequences.view(len(sequences), self.seq_len, -1),\n",
    "      self.hidden\n",
    "    )\n",
    "    last_time_step = \\\n",
    "      lstm_out.view(self.seq_len, len(sequences), self.n_hidden)[-1]\n",
    "    y_pred = self.linear(last_time_step)\n",
    "    return y_pred"
   ]
  },
  {
   "cell_type": "code",
   "execution_count": 67,
   "metadata": {},
   "outputs": [],
   "source": [
    "def train_model(model, train_data, train_labels, test_data=None,test_labels=None, n_epochs=300):\n",
    "    \n",
    "  loss_fn = torch.nn.MSELoss(reduction='sum')\n",
    "\n",
    "  optimiser = torch.optim.Adam(model.parameters(), lr=1e-4, weight_decay=0.1)\n",
    "\n",
    "  train_hist = np.zeros(n_epochs)\n",
    "  test_hist = np.zeros(n_epochs)\n",
    "\n",
    "  for t in range(n_epochs):\n",
    "    model.reset_hidden_state()\n",
    "\n",
    "    y_pred = model(X_train)\n",
    "\n",
    "    loss = loss_fn(y_pred.float(), y_train)\n",
    "\n",
    "    if test_data is not None:\n",
    "      with torch.no_grad():\n",
    "        y_test_pred = model(X_test)\n",
    "        test_loss = loss_fn(y_test_pred.float(), y_test)\n",
    "      test_hist[t] = test_loss.item()\n",
    "\n",
    "      if t % 10 == 0:\n",
    "        print(f'Epoch {t} train loss: {loss.item()} test loss: {test_loss.item()}')\n",
    "    elif t % 10 == 0:\n",
    "      print(f'Epoch {t} train loss: {loss.item()}')\n",
    "\n",
    "    train_hist[t] = loss.item()\n",
    "\n",
    "    optimiser.zero_grad()\n",
    "\n",
    "    loss.backward()\n",
    "\n",
    "    optimiser.step()\n",
    "\n",
    "  return model.eval(), train_hist, test_hist"
   ]
  },
  {
   "cell_type": "code",
   "execution_count": 68,
   "metadata": {},
   "outputs": [
    {
     "data": {
      "text/plain": [
       "3"
      ]
     },
     "execution_count": 68,
     "metadata": {},
     "output_type": "execute_result"
    }
   ],
   "source": [
    "test_dl.sequence_lenth"
   ]
  },
  {
   "cell_type": "code",
   "execution_count": null,
   "metadata": {},
   "outputs": [
    {
     "name": "stdout",
     "output_type": "stream",
     "text": [
      "AL\n",
      "Epoch 0 train loss: 0.015116780996322632 test loss: 840.7821044921875\n",
      "Epoch 10 train loss: 0.000842939771246165 test loss: 841.9154663085938\n",
      "Epoch 20 train loss: 0.00034307068563066423 test loss: 841.4600219726562\n",
      "Epoch 30 train loss: 6.466620834544301e-05 test loss: 841.6046752929688\n",
      "Epoch 40 train loss: 4.568230360746384e-05 test loss: 841.0740356445312\n",
      "Epoch 50 train loss: 5.4447704314952716e-05 test loss: 841.3905639648438\n",
      "Epoch 60 train loss: 3.3299300412181765e-05 test loss: 841.512939453125\n",
      "Epoch 70 train loss: 2.7880714696948417e-05 test loss: 841.5054321289062\n",
      "Epoch 80 train loss: 1.38671493914444e-05 test loss: 841.2974853515625\n",
      "Epoch 90 train loss: 2.727984610828571e-05 test loss: 841.1526489257812\n",
      "Epoch 100 train loss: 1.6872987544047646e-05 test loss: 841.3693237304688\n",
      "Epoch 110 train loss: 1.7924165149452165e-05 test loss: 841.260986328125\n",
      "Epoch 120 train loss: 9.405270247953013e-06 test loss: 841.2653198242188\n",
      "Epoch 130 train loss: 1.1219893167435657e-05 test loss: 841.19970703125\n",
      "Epoch 140 train loss: 1.0444467079651076e-05 test loss: 841.2374267578125\n",
      "Epoch 150 train loss: 4.785856162925484e-06 test loss: 841.2476806640625\n",
      "Epoch 160 train loss: 1.2857604815508239e-05 test loss: 841.2642211914062\n",
      "Epoch 170 train loss: 9.533338015899062e-06 test loss: 841.14306640625\n",
      "Epoch 180 train loss: 6.482977823907277e-06 test loss: 841.0888061523438\n",
      "Epoch 190 train loss: 6.845490588602843e-06 test loss: 841.112060546875\n",
      "Epoch 200 train loss: 7.495416411984479e-06 test loss: 841.1292114257812\n",
      "Epoch 210 train loss: 6.227904123079497e-06 test loss: 841.0593872070312\n",
      "Epoch 220 train loss: 6.14309783486533e-06 test loss: 841.0797729492188\n",
      "Epoch 230 train loss: 6.8359627221070696e-06 test loss: 841.1064453125\n",
      "Epoch 240 train loss: 7.125054253265262e-06 test loss: 841.0681762695312\n",
      "Epoch 250 train loss: 4.632011496141786e-06 test loss: 841.0526733398438\n",
      "Epoch 260 train loss: 4.951936716679484e-06 test loss: 841.0472412109375\n",
      "Epoch 270 train loss: 4.38328515883768e-06 test loss: 841.042236328125\n",
      "Epoch 280 train loss: 4.310606527724303e-06 test loss: 841.0558471679688\n",
      "Epoch 290 train loss: 4.29501506005181e-06 test loss: 841.0407104492188\n",
      "AK\n",
      "Epoch 0 train loss: 0.025691455230116844 test loss: 1.0530613660812378\n",
      "Epoch 10 train loss: 0.00047665665624663234 test loss: 0.9928259253501892\n",
      "Epoch 20 train loss: 3.309134626761079e-05 test loss: 0.9998418092727661\n",
      "Epoch 30 train loss: 0.0003049444640055299 test loss: 1.0052523612976074\n",
      "Epoch 40 train loss: 3.912761530955322e-05 test loss: 1.000884771347046\n",
      "Epoch 50 train loss: 3.6038585676578805e-05 test loss: 1.0035814046859741\n",
      "Epoch 60 train loss: 3.19469218084123e-05 test loss: 0.9981017708778381\n",
      "Epoch 70 train loss: 1.901205541798845e-05 test loss: 0.9992407560348511\n",
      "Epoch 80 train loss: 3.049375482078176e-05 test loss: 1.000950813293457\n",
      "Epoch 90 train loss: 1.90488117368659e-05 test loss: 1.0003986358642578\n",
      "Epoch 100 train loss: 1.949287070601713e-05 test loss: 1.0007072687149048\n",
      "Epoch 110 train loss: 2.3207352569443174e-05 test loss: 0.999439537525177\n",
      "Epoch 120 train loss: 2.1714336980949156e-05 test loss: 1.002024531364441\n",
      "Epoch 130 train loss: 1.553410584165249e-05 test loss: 1.0022060871124268\n",
      "Epoch 140 train loss: 1.1741776688722894e-05 test loss: 1.0026549100875854\n",
      "Epoch 150 train loss: 8.40844677441055e-06 test loss: 1.0019216537475586\n",
      "Epoch 160 train loss: 6.885170478199143e-06 test loss: 1.0009994506835938\n",
      "Epoch 170 train loss: 8.309962140629068e-06 test loss: 1.0006481409072876\n",
      "Epoch 180 train loss: 7.439813543896889e-06 test loss: 1.0007342100143433\n",
      "Epoch 190 train loss: 8.996547876449768e-06 test loss: 1.0002586841583252\n",
      "Epoch 200 train loss: 8.841922863211948e-06 test loss: 1.0011144876480103\n",
      "Epoch 210 train loss: 6.770422260160558e-06 test loss: 1.0011790990829468\n",
      "Epoch 220 train loss: 9.597921234671958e-06 test loss: 1.0007187128067017\n",
      "Epoch 230 train loss: 7.942547199490946e-06 test loss: 1.0012472867965698\n",
      "Epoch 240 train loss: 6.761493295925902e-06 test loss: 1.0009002685546875\n",
      "Epoch 250 train loss: 6.2439526118396316e-06 test loss: 1.0005520582199097\n",
      "Epoch 260 train loss: 5.265486379357753e-06 test loss: 1.000820517539978\n",
      "Epoch 270 train loss: 8.197466740966775e-06 test loss: 1.0011731386184692\n",
      "Epoch 280 train loss: 5.44307658856269e-06 test loss: 1.000953197479248\n",
      "Epoch 290 train loss: 6.4997134359146e-06 test loss: 1.0008221864700317\n",
      "AZ\n",
      "Epoch 0 train loss: 2.4524412155151367 test loss: 3.9713683128356934\n",
      "Epoch 10 train loss: 1.4627060890197754 test loss: 3.55600643157959\n",
      "Epoch 20 train loss: 1.3137457370758057 test loss: 3.3284225463867188\n",
      "Epoch 30 train loss: 1.3181055784225464 test loss: 3.3303701877593994\n",
      "Epoch 40 train loss: 1.3154240846633911 test loss: 3.3886125087738037\n",
      "Epoch 50 train loss: 1.3087217807769775 test loss: 3.378767967224121\n",
      "Epoch 60 train loss: 1.2994880676269531 test loss: 3.346710681915283\n",
      "Epoch 70 train loss: 1.299144983291626 test loss: 3.3282299041748047\n",
      "Epoch 80 train loss: 1.2956818342208862 test loss: 3.3338589668273926\n",
      "Epoch 90 train loss: 1.29457688331604 test loss: 3.3348805904388428\n",
      "Epoch 100 train loss: 1.2919425964355469 test loss: 3.317028760910034\n",
      "Epoch 110 train loss: 1.2940753698349 test loss: 3.323702573776245\n",
      "Epoch 120 train loss: 1.2900676727294922 test loss: 3.3162970542907715\n",
      "Epoch 130 train loss: 1.2793991565704346 test loss: 3.290684223175049\n",
      "Epoch 140 train loss: 1.2775505781173706 test loss: 3.2969090938568115\n",
      "Epoch 150 train loss: 1.2731651067733765 test loss: 3.2853753566741943\n",
      "Epoch 160 train loss: 1.2752019166946411 test loss: 3.270127058029175\n",
      "Epoch 170 train loss: 1.2669813632965088 test loss: 3.2690463066101074\n",
      "Epoch 180 train loss: 1.2710657119750977 test loss: 3.259296178817749\n",
      "Epoch 190 train loss: 1.2569847106933594 test loss: 3.2510852813720703\n",
      "Epoch 200 train loss: 1.2608506679534912 test loss: 3.2487637996673584\n",
      "Epoch 210 train loss: 1.2397892475128174 test loss: 3.228837251663208\n",
      "Epoch 220 train loss: 1.238863468170166 test loss: 3.209552526473999\n",
      "Epoch 230 train loss: 1.235536813735962 test loss: 3.206743001937866\n",
      "Epoch 240 train loss: 1.2348285913467407 test loss: 3.1965155601501465\n",
      "Epoch 250 train loss: 1.227689504623413 test loss: 3.189121961593628\n",
      "Epoch 260 train loss: 1.210135817527771 test loss: 3.184053897857666\n",
      "Epoch 270 train loss: 1.2169119119644165 test loss: 3.1517138481140137\n",
      "Epoch 280 train loss: 1.2113720178604126 test loss: 3.145679235458374\n",
      "Epoch 290 train loss: 1.1950182914733887 test loss: 3.107456684112549\n",
      "AR\n",
      "Epoch 0 train loss: 0.027567973360419273 test loss: 13.386916160583496\n",
      "Epoch 10 train loss: 0.027308786287903786 test loss: 13.41533374786377\n",
      "Epoch 20 train loss: 0.027645479887723923 test loss: 13.411194801330566\n",
      "Epoch 30 train loss: 0.026894891634583473 test loss: 13.403670310974121\n",
      "Epoch 40 train loss: 0.02703523263335228 test loss: 13.418610572814941\n",
      "Epoch 50 train loss: 0.027310868725180626 test loss: 13.41983699798584\n",
      "Epoch 60 train loss: 0.027218855917453766 test loss: 13.413490295410156\n",
      "Epoch 70 train loss: 0.027473334223031998 test loss: 13.419316291809082\n",
      "Epoch 80 train loss: 0.02744457870721817 test loss: 13.425091743469238\n",
      "Epoch 90 train loss: 0.02698352560400963 test loss: 13.413804054260254\n",
      "Epoch 100 train loss: 0.027177153155207634 test loss: 13.412318229675293\n",
      "Epoch 110 train loss: 0.027202237397432327 test loss: 13.419328689575195\n",
      "Epoch 120 train loss: 0.027108436450362206 test loss: 13.42302131652832\n",
      "Epoch 130 train loss: 0.027246370911598206 test loss: 13.42224407196045\n",
      "Epoch 140 train loss: 0.027192873880267143 test loss: 13.420086860656738\n",
      "Epoch 150 train loss: 0.027274642139673233 test loss: 13.42196273803711\n",
      "Epoch 160 train loss: 0.027078116312623024 test loss: 13.420464515686035\n",
      "Epoch 170 train loss: 0.027216032147407532 test loss: 13.419271469116211\n",
      "Epoch 180 train loss: 0.02716030366718769 test loss: 13.421252250671387\n",
      "Epoch 190 train loss: 0.027184931561350822 test loss: 13.419672966003418\n",
      "Epoch 200 train loss: 0.027301697060465813 test loss: 13.418551445007324\n",
      "Epoch 210 train loss: 0.027171704918146133 test loss: 13.417587280273438\n",
      "Epoch 220 train loss: 0.02712121419608593 test loss: 13.419479370117188\n",
      "Epoch 230 train loss: 0.02724113129079342 test loss: 13.419059753417969\n"
     ]
    },
    {
     "name": "stdout",
     "output_type": "stream",
     "text": [
      "Epoch 240 train loss: 0.02716771699488163 test loss: 13.419187545776367\n",
      "Epoch 250 train loss: 0.02716328576207161 test loss: 13.418224334716797\n",
      "Epoch 260 train loss: 0.027191972360014915 test loss: 13.418869018554688\n",
      "Epoch 270 train loss: 0.027178103104233742 test loss: 13.418645858764648\n",
      "Epoch 280 train loss: 0.027196185663342476 test loss: 13.419631004333496\n",
      "Epoch 290 train loss: 0.027194391936063766 test loss: 13.419716835021973\n",
      "CA\n",
      "Epoch 0 train loss: 1.5589170455932617 test loss: 6.199007987976074\n",
      "Epoch 10 train loss: 1.336113691329956 test loss: 5.893967151641846\n",
      "Epoch 20 train loss: 1.3174742460250854 test loss: 5.796813011169434\n",
      "Epoch 30 train loss: 1.3210148811340332 test loss: 5.830250263214111\n",
      "Epoch 40 train loss: 1.3108105659484863 test loss: 5.846858978271484\n",
      "Epoch 50 train loss: 1.3056042194366455 test loss: 5.788836479187012\n",
      "Epoch 60 train loss: 1.2994680404663086 test loss: 5.788129806518555\n",
      "Epoch 70 train loss: 1.2997872829437256 test loss: 5.785080909729004\n",
      "Epoch 80 train loss: 1.2873544692993164 test loss: 5.7622575759887695\n",
      "Epoch 90 train loss: 1.2814096212387085 test loss: 5.749790191650391\n",
      "Epoch 100 train loss: 1.2815303802490234 test loss: 5.739104270935059\n",
      "Epoch 110 train loss: 1.2698813676834106 test loss: 5.707244396209717\n",
      "Epoch 120 train loss: 1.2619140148162842 test loss: 5.691285610198975\n",
      "Epoch 130 train loss: 1.2557709217071533 test loss: 5.686349868774414\n",
      "Epoch 140 train loss: 1.243915319442749 test loss: 5.651571273803711\n",
      "Epoch 150 train loss: 1.239270567893982 test loss: 5.637037754058838\n",
      "Epoch 160 train loss: 1.2220542430877686 test loss: 5.582395076751709\n",
      "Epoch 170 train loss: 1.2168430089950562 test loss: 5.578160762786865\n",
      "Epoch 180 train loss: 1.194713830947876 test loss: 5.526209354400635\n",
      "Epoch 190 train loss: 1.1678946018218994 test loss: 5.472610950469971\n",
      "Epoch 200 train loss: 1.1547702550888062 test loss: 5.420203685760498\n",
      "Epoch 210 train loss: 1.1176018714904785 test loss: 5.333041191101074\n",
      "Epoch 220 train loss: 1.0888864994049072 test loss: 5.28274393081665\n",
      "Epoch 230 train loss: 1.0555622577667236 test loss: 5.2232160568237305\n",
      "Epoch 240 train loss: 1.0046968460083008 test loss: 5.087038516998291\n",
      "Epoch 250 train loss: 0.9369087219238281 test loss: 4.946145057678223\n",
      "Epoch 260 train loss: 0.8621058464050293 test loss: 4.815820693969727\n",
      "Epoch 270 train loss: 0.7711843252182007 test loss: 4.565227508544922\n",
      "Epoch 280 train loss: 0.6370985507965088 test loss: 4.226687908172607\n",
      "Epoch 290 train loss: 0.47292667627334595 test loss: 3.799546718597412\n",
      "CO\n",
      "Epoch 0 train loss: 0.8527979254722595 test loss: 12.795591354370117\n",
      "Epoch 10 train loss: 0.7040753364562988 test loss: 12.444791793823242\n",
      "Epoch 20 train loss: 0.7038436532020569 test loss: 12.381186485290527\n",
      "Epoch 30 train loss: 0.7049639225006104 test loss: 12.416387557983398\n",
      "Epoch 40 train loss: 0.7063331604003906 test loss: 12.41986083984375\n",
      "Epoch 50 train loss: 0.7017372846603394 test loss: 12.396430015563965\n",
      "Epoch 60 train loss: 0.6987737417221069 test loss: 12.36430835723877\n",
      "Epoch 70 train loss: 0.7023930549621582 test loss: 12.387887001037598\n",
      "Epoch 80 train loss: 0.699726402759552 test loss: 12.371859550476074\n",
      "Epoch 90 train loss: 0.6992998719215393 test loss: 12.376363754272461\n",
      "Epoch 100 train loss: 0.698079526424408 test loss: 12.373924255371094\n",
      "Epoch 110 train loss: 0.6996057033538818 test loss: 12.367425918579102\n",
      "Epoch 120 train loss: 0.697618842124939 test loss: 12.367240905761719\n",
      "Epoch 130 train loss: 0.6981825828552246 test loss: 12.361804008483887\n",
      "Epoch 140 train loss: 0.7000104188919067 test loss: 12.360163688659668\n",
      "Epoch 150 train loss: 0.7010493278503418 test loss: 12.35429573059082\n",
      "Epoch 160 train loss: 0.6993595957756042 test loss: 12.362353324890137\n",
      "Epoch 170 train loss: 0.6994234919548035 test loss: 12.357495307922363\n",
      "Epoch 180 train loss: 0.6999516487121582 test loss: 12.365748405456543\n",
      "Epoch 190 train loss: 0.7013195753097534 test loss: 12.3603515625\n",
      "Epoch 200 train loss: 0.7012304067611694 test loss: 12.365168571472168\n",
      "Epoch 210 train loss: 0.7009648084640503 test loss: 12.363042831420898\n",
      "Epoch 220 train loss: 0.6998794078826904 test loss: 12.370174407958984\n",
      "Epoch 230 train loss: 0.7003711462020874 test loss: 12.367749214172363\n",
      "Epoch 240 train loss: 0.7005444765090942 test loss: 12.367579460144043\n",
      "Epoch 250 train loss: 0.700671911239624 test loss: 12.371187210083008\n",
      "Epoch 260 train loss: 0.7003510594367981 test loss: 12.371081352233887\n",
      "Epoch 270 train loss: 0.7018647789955139 test loss: 12.37238597869873\n",
      "Epoch 280 train loss: 0.7007381916046143 test loss: 12.37768840789795\n",
      "Epoch 290 train loss: 0.7016541957855225 test loss: 12.375088691711426\n",
      "CT\n",
      "Epoch 0 train loss: 0.5404881238937378 test loss: 36.064552307128906\n",
      "Epoch 10 train loss: 0.4997844398021698 test loss: 35.676719665527344\n",
      "Epoch 20 train loss: 0.5006443858146667 test loss: 35.67384338378906\n",
      "Epoch 30 train loss: 0.4995415210723877 test loss: 35.75995635986328\n",
      "Epoch 40 train loss: 0.49687522649765015 test loss: 35.69520950317383\n",
      "Epoch 50 train loss: 0.5003789663314819 test loss: 35.716331481933594\n",
      "Epoch 60 train loss: 0.4990795850753784 test loss: 35.692447662353516\n",
      "Epoch 70 train loss: 0.49952125549316406 test loss: 35.72080993652344\n",
      "Epoch 80 train loss: 0.4982365667819977 test loss: 35.720542907714844\n",
      "Epoch 90 train loss: 0.4982258677482605 test loss: 35.68722152709961\n",
      "Epoch 100 train loss: 0.49850159883499146 test loss: 35.71739959716797\n",
      "Epoch 110 train loss: 0.49916189908981323 test loss: 35.725650787353516\n",
      "Epoch 120 train loss: 0.4996127784252167 test loss: 35.72922897338867\n",
      "Epoch 130 train loss: 0.4996543228626251 test loss: 35.712608337402344\n",
      "Epoch 140 train loss: 0.49813076853752136 test loss: 35.71326446533203\n",
      "Epoch 150 train loss: 0.4975765347480774 test loss: 35.71046447753906\n",
      "Epoch 160 train loss: 0.4985557794570923 test loss: 35.71347427368164\n",
      "Epoch 170 train loss: 0.49837660789489746 test loss: 35.722618103027344\n",
      "Epoch 180 train loss: 0.4991520047187805 test loss: 35.722320556640625\n",
      "Epoch 190 train loss: 0.4979890286922455 test loss: 35.71768569946289\n",
      "Epoch 200 train loss: 0.4984525740146637 test loss: 35.72952651977539\n",
      "Epoch 210 train loss: 0.49908769130706787 test loss: 35.72446823120117\n",
      "Epoch 220 train loss: 0.49871766567230225 test loss: 35.72698974609375\n",
      "Epoch 230 train loss: 0.4993472993373871 test loss: 35.730716705322266\n",
      "Epoch 240 train loss: 0.4987594485282898 test loss: 35.73001480102539\n",
      "Epoch 250 train loss: 0.49897459149360657 test loss: 35.7349967956543\n",
      "Epoch 260 train loss: 0.498347669839859 test loss: 35.736328125\n",
      "Epoch 270 train loss: 0.498883992433548 test loss: 35.73454666137695\n",
      "Epoch 280 train loss: 0.49825233221054077 test loss: 35.7371711730957\n",
      "Epoch 290 train loss: 0.49874377250671387 test loss: 35.74123001098633\n",
      "DE\n",
      "Epoch 0 train loss: 0.9794790148735046 test loss: 63.634708404541016\n",
      "Epoch 10 train loss: 0.9812707304954529 test loss: 63.65571594238281\n",
      "Epoch 20 train loss: 0.9808393716812134 test loss: 63.59469985961914\n",
      "Epoch 30 train loss: 0.9812631011009216 test loss: 63.63390350341797\n",
      "Epoch 40 train loss: 0.9801325798034668 test loss: 63.64961242675781\n",
      "Epoch 50 train loss: 0.9782203435897827 test loss: 63.63038635253906\n",
      "Epoch 60 train loss: 0.9764126539230347 test loss: 63.61348342895508\n",
      "Epoch 70 train loss: 0.9782408475875854 test loss: 63.580902099609375\n",
      "Epoch 80 train loss: 0.978243350982666 test loss: 63.6165657043457\n",
      "Epoch 90 train loss: 0.980375349521637 test loss: 63.69701385498047\n",
      "Epoch 100 train loss: 0.9790415167808533 test loss: 63.622066497802734\n",
      "Epoch 110 train loss: 0.9798096418380737 test loss: 63.65128707885742\n",
      "Epoch 120 train loss: 0.978471577167511 test loss: 63.64909362792969\n",
      "Epoch 130 train loss: 0.9786088466644287 test loss: 63.66999053955078\n",
      "Epoch 140 train loss: 0.9789300560951233 test loss: 63.66255569458008\n",
      "Epoch 150 train loss: 0.9782602190971375 test loss: 63.658531188964844\n",
      "Epoch 160 train loss: 0.9792060852050781 test loss: 63.66483688354492\n",
      "Epoch 170 train loss: 0.9799723029136658 test loss: 63.655067443847656\n",
      "Epoch 180 train loss: 0.9795981049537659 test loss: 63.654937744140625\n",
      "Epoch 190 train loss: 0.9786087274551392 test loss: 63.656063079833984\n",
      "Epoch 200 train loss: 0.977985680103302 test loss: 63.659854888916016\n"
     ]
    },
    {
     "name": "stdout",
     "output_type": "stream",
     "text": [
      "Epoch 210 train loss: 0.9788953065872192 test loss: 63.66207504272461\n",
      "Epoch 220 train loss: 0.9792458415031433 test loss: 63.6580810546875\n",
      "Epoch 230 train loss: 0.9785518646240234 test loss: 63.65434646606445\n",
      "Epoch 240 train loss: 0.9784905910491943 test loss: 63.65913772583008\n",
      "Epoch 250 train loss: 0.9786286950111389 test loss: 63.66182327270508\n",
      "Epoch 260 train loss: 0.9789419770240784 test loss: 63.670166015625\n",
      "Epoch 270 train loss: 0.9783501029014587 test loss: 63.65839385986328\n",
      "Epoch 280 train loss: 0.9782195091247559 test loss: 63.66166687011719\n",
      "Epoch 290 train loss: 0.9786189794540405 test loss: 63.65826416015625\n",
      "FL\n",
      "Epoch 0 train loss: 1.0808014869689941 test loss: 19.559371948242188\n",
      "Epoch 10 train loss: 0.9819851517677307 test loss: 19.15243911743164\n",
      "Epoch 20 train loss: 0.9718008041381836 test loss: 19.061920166015625\n",
      "Epoch 30 train loss: 0.9792823791503906 test loss: 19.129440307617188\n",
      "Epoch 40 train loss: 0.9691051840782166 test loss: 19.09193229675293\n",
      "Epoch 50 train loss: 0.9733755588531494 test loss: 19.051786422729492\n",
      "Epoch 60 train loss: 0.970805287361145 test loss: 19.03944206237793\n",
      "Epoch 70 train loss: 0.9761759638786316 test loss: 19.034225463867188\n",
      "Epoch 80 train loss: 0.9690471887588501 test loss: 19.06292724609375\n",
      "Epoch 90 train loss: 0.9668517708778381 test loss: 19.005584716796875\n",
      "Epoch 100 train loss: 0.9656601548194885 test loss: 19.003522872924805\n",
      "Epoch 110 train loss: 0.9651188850402832 test loss: 18.97281265258789\n",
      "Epoch 120 train loss: 0.965025782585144 test loss: 18.99274444580078\n",
      "Epoch 130 train loss: 0.9629949927330017 test loss: 18.9793643951416\n",
      "Epoch 140 train loss: 0.9641059041023254 test loss: 18.981922149658203\n",
      "Epoch 150 train loss: 0.9640604257583618 test loss: 18.961286544799805\n",
      "Epoch 160 train loss: 0.9635960459709167 test loss: 18.9754581451416\n",
      "Epoch 170 train loss: 0.9641432166099548 test loss: 18.947689056396484\n",
      "Epoch 180 train loss: 0.9599287509918213 test loss: 18.933170318603516\n",
      "Epoch 190 train loss: 0.9638705849647522 test loss: 18.94247055053711\n",
      "Epoch 200 train loss: 0.9630118608474731 test loss: 18.94046974182129\n",
      "Epoch 210 train loss: 0.9614789485931396 test loss: 18.948606491088867\n",
      "Epoch 220 train loss: 0.9604066014289856 test loss: 18.9338436126709\n",
      "Epoch 230 train loss: 0.9586591720581055 test loss: 18.90645980834961\n",
      "Epoch 240 train loss: 0.9550890326499939 test loss: 18.923112869262695\n",
      "Epoch 250 train loss: 0.9566153287887573 test loss: 18.889184951782227\n",
      "Epoch 260 train loss: 0.9591601490974426 test loss: 18.916852951049805\n",
      "Epoch 270 train loss: 0.9599361419677734 test loss: 18.92140007019043\n",
      "Epoch 280 train loss: 0.9584932327270508 test loss: 18.92875099182129\n",
      "Epoch 290 train loss: 0.9598057866096497 test loss: 18.905485153198242\n",
      "GA\n",
      "Epoch 0 train loss: 0.9360434412956238 test loss: 14.993026733398438\n",
      "Epoch 10 train loss: 0.9243714809417725 test loss: 14.834561347961426\n",
      "Epoch 20 train loss: 0.9173225164413452 test loss: 14.857593536376953\n",
      "Epoch 30 train loss: 0.9161083698272705 test loss: 14.81257438659668\n",
      "Epoch 40 train loss: 0.9214730858802795 test loss: 14.815264701843262\n",
      "Epoch 50 train loss: 0.9157490730285645 test loss: 14.790773391723633\n",
      "Epoch 60 train loss: 0.9196546077728271 test loss: 14.78533935546875\n",
      "Epoch 70 train loss: 0.9140639305114746 test loss: 14.782437324523926\n",
      "Epoch 80 train loss: 0.9166439175605774 test loss: 14.764906883239746\n",
      "Epoch 90 train loss: 0.9129992723464966 test loss: 14.771453857421875\n",
      "Epoch 100 train loss: 0.9138330221176147 test loss: 14.764159202575684\n",
      "Epoch 110 train loss: 0.9161838293075562 test loss: 14.780906677246094\n",
      "Epoch 120 train loss: 0.9141594171524048 test loss: 14.764602661132812\n",
      "Epoch 130 train loss: 0.9142671227455139 test loss: 14.75625991821289\n",
      "Epoch 140 train loss: 0.912121593952179 test loss: 14.763566017150879\n",
      "Epoch 150 train loss: 0.9151672124862671 test loss: 14.753711700439453\n",
      "Epoch 160 train loss: 0.9147348999977112 test loss: 14.750105857849121\n",
      "Epoch 170 train loss: 0.9154532551765442 test loss: 14.757547378540039\n",
      "Epoch 180 train loss: 0.9135999083518982 test loss: 14.752159118652344\n",
      "Epoch 190 train loss: 0.9158442616462708 test loss: 14.76928997039795\n",
      "Epoch 200 train loss: 0.9135542511940002 test loss: 14.755704879760742\n",
      "Epoch 210 train loss: 0.914861798286438 test loss: 14.765869140625\n",
      "Epoch 220 train loss: 0.9149395227432251 test loss: 14.770173072814941\n",
      "Epoch 230 train loss: 0.9159848690032959 test loss: 14.786352157592773\n",
      "Epoch 240 train loss: 0.9172672629356384 test loss: 14.782127380371094\n",
      "Epoch 250 train loss: 0.9160196781158447 test loss: 14.786171913146973\n",
      "Epoch 260 train loss: 0.9163414239883423 test loss: 14.785477638244629\n",
      "Epoch 270 train loss: 0.9180735349655151 test loss: 14.78960132598877\n",
      "Epoch 280 train loss: 0.9184677004814148 test loss: 14.807705879211426\n",
      "Epoch 290 train loss: 0.9174403548240662 test loss: 14.798561096191406\n",
      "HI\n",
      "Epoch 0 train loss: 3.035979986190796 test loss: 12.499197959899902\n",
      "Epoch 10 train loss: 2.4873220920562744 test loss: 11.829986572265625\n",
      "Epoch 20 train loss: 2.4674065113067627 test loss: 11.593795776367188\n",
      "Epoch 30 train loss: 2.444854259490967 test loss: 11.60939884185791\n",
      "Epoch 40 train loss: 2.4444570541381836 test loss: 11.639245986938477\n",
      "Epoch 50 train loss: 2.4323978424072266 test loss: 11.575494766235352\n",
      "Epoch 60 train loss: 2.419832706451416 test loss: 11.505498886108398\n",
      "Epoch 70 train loss: 2.4059059619903564 test loss: 11.47040843963623\n",
      "Epoch 80 train loss: 2.376594066619873 test loss: 11.382905006408691\n",
      "Epoch 90 train loss: 2.365724563598633 test loss: 11.335012435913086\n",
      "Epoch 100 train loss: 2.341212272644043 test loss: 11.287368774414062\n",
      "Epoch 110 train loss: 2.3301000595092773 test loss: 11.247771263122559\n",
      "Epoch 120 train loss: 2.323072910308838 test loss: 11.14431381225586\n",
      "Epoch 130 train loss: 2.2875707149505615 test loss: 11.02298355102539\n",
      "Epoch 140 train loss: 2.2707929611206055 test loss: 10.933143615722656\n",
      "Epoch 150 train loss: 2.213359832763672 test loss: 10.844138145446777\n",
      "Epoch 160 train loss: 2.1807339191436768 test loss: 10.674131393432617\n",
      "Epoch 170 train loss: 2.144958734512329 test loss: 10.488565444946289\n",
      "Epoch 180 train loss: 2.0769827365875244 test loss: 10.320579528808594\n",
      "Epoch 190 train loss: 2.0154600143432617 test loss: 10.055410385131836\n",
      "Epoch 200 train loss: 1.9327210187911987 test loss: 9.81859016418457\n",
      "Epoch 210 train loss: 1.8092131614685059 test loss: 9.39369010925293\n",
      "Epoch 220 train loss: 1.7055120468139648 test loss: 9.039505004882812\n",
      "Epoch 230 train loss: 1.5642502307891846 test loss: 8.630752563476562\n",
      "Epoch 240 train loss: 1.4010255336761475 test loss: 7.935125827789307\n",
      "Epoch 250 train loss: 1.2513867616653442 test loss: 7.164198875427246\n",
      "Epoch 260 train loss: 1.0907679796218872 test loss: 6.4165358543396\n",
      "Epoch 270 train loss: 0.9069198369979858 test loss: 5.639712333679199\n",
      "Epoch 280 train loss: 0.7321311235427856 test loss: 4.836804389953613\n",
      "Epoch 290 train loss: 0.6135115623474121 test loss: 4.519333362579346\n",
      "ID\n",
      "Epoch 0 train loss: 0.017031973227858543 test loss: 24.801986694335938\n",
      "Epoch 10 train loss: 0.0008649150258861482 test loss: 25.030054092407227\n",
      "Epoch 20 train loss: 0.00028341347933746874 test loss: 24.949256896972656\n",
      "Epoch 30 train loss: 9.600214980309829e-05 test loss: 24.97473907470703\n",
      "Epoch 40 train loss: 3.5422730434220284e-05 test loss: 25.01197052001953\n",
      "Epoch 50 train loss: 0.00011192200327059254 test loss: 24.975419998168945\n",
      "Epoch 60 train loss: 3.1214847695082426e-05 test loss: 24.98716926574707\n",
      "Epoch 70 train loss: 4.283040470909327e-05 test loss: 24.991378784179688\n",
      "Epoch 80 train loss: 2.9492726753233e-05 test loss: 25.00589942932129\n",
      "Epoch 90 train loss: 2.300718188052997e-05 test loss: 24.99643325805664\n",
      "Epoch 100 train loss: 1.2986818546778522e-05 test loss: 25.009828567504883\n",
      "Epoch 110 train loss: 2.0325456716818735e-05 test loss: 24.987531661987305\n",
      "Epoch 120 train loss: 1.6657295418553986e-05 test loss: 25.00950813293457\n",
      "Epoch 130 train loss: 8.162327503669076e-06 test loss: 25.000791549682617\n",
      "Epoch 140 train loss: 1.2578442692756653e-05 test loss: 25.000568389892578\n",
      "Epoch 150 train loss: 6.838928584329551e-06 test loss: 25.0047550201416\n",
      "Epoch 160 train loss: 1.4112094504525885e-05 test loss: 24.993663787841797\n",
      "Epoch 170 train loss: 5.415980012912769e-06 test loss: 24.998817443847656\n"
     ]
    },
    {
     "name": "stdout",
     "output_type": "stream",
     "text": [
      "Epoch 180 train loss: 5.682180926669389e-06 test loss: 24.99638557434082\n",
      "Epoch 190 train loss: 1.0674978511815425e-05 test loss: 25.000991821289062\n",
      "Epoch 200 train loss: 6.933822533028433e-06 test loss: 25.00417709350586\n",
      "Epoch 210 train loss: 6.656477125943638e-06 test loss: 25.00012969970703\n",
      "Epoch 220 train loss: 6.5797908064268995e-06 test loss: 24.996601104736328\n",
      "Epoch 230 train loss: 5.295514711178839e-06 test loss: 24.994722366333008\n",
      "Epoch 240 train loss: 6.076490080886288e-06 test loss: 24.994802474975586\n",
      "Epoch 250 train loss: 6.529847269121092e-06 test loss: 24.998126983642578\n",
      "Epoch 260 train loss: 5.505810804606881e-06 test loss: 24.994802474975586\n",
      "Epoch 270 train loss: 8.209446605178528e-06 test loss: 24.9930477142334\n",
      "Epoch 280 train loss: 7.410252237605164e-06 test loss: 24.993419647216797\n",
      "Epoch 290 train loss: 7.573821221740218e-06 test loss: 24.99251937866211\n",
      "IL\n",
      "Epoch 0 train loss: 0.7534053325653076 test loss: 10.408665657043457\n",
      "Epoch 10 train loss: 0.6531982421875 test loss: 10.133932113647461\n",
      "Epoch 20 train loss: 0.6548078060150146 test loss: 10.095209121704102\n",
      "Epoch 30 train loss: 0.6557079553604126 test loss: 10.134122848510742\n",
      "Epoch 40 train loss: 0.6555163264274597 test loss: 10.123553276062012\n",
      "Epoch 50 train loss: 0.6553160548210144 test loss: 10.108067512512207\n",
      "Epoch 60 train loss: 0.6547715663909912 test loss: 10.118046760559082\n",
      "Epoch 70 train loss: 0.6520878076553345 test loss: 10.108175277709961\n",
      "Epoch 80 train loss: 0.6518582105636597 test loss: 10.10545825958252\n",
      "Epoch 90 train loss: 0.6521414518356323 test loss: 10.093399047851562\n",
      "Epoch 100 train loss: 0.6501801013946533 test loss: 10.107304573059082\n",
      "Epoch 110 train loss: 0.6516508460044861 test loss: 10.104005813598633\n",
      "Epoch 120 train loss: 0.6529549360275269 test loss: 10.108285903930664\n",
      "Epoch 130 train loss: 0.6526728868484497 test loss: 10.097094535827637\n",
      "Epoch 140 train loss: 0.6517788171768188 test loss: 10.098631858825684\n",
      "Epoch 150 train loss: 0.649654746055603 test loss: 10.094977378845215\n",
      "Epoch 160 train loss: 0.6525973677635193 test loss: 10.09832763671875\n",
      "Epoch 170 train loss: 0.6498972177505493 test loss: 10.095721244812012\n",
      "Epoch 180 train loss: 0.6513283252716064 test loss: 10.107805252075195\n",
      "Epoch 190 train loss: 0.6521064043045044 test loss: 10.105534553527832\n",
      "Epoch 200 train loss: 0.6520825028419495 test loss: 10.108420372009277\n",
      "Epoch 210 train loss: 0.6538095474243164 test loss: 10.11458683013916\n",
      "Epoch 220 train loss: 0.6523556709289551 test loss: 10.104666709899902\n",
      "Epoch 230 train loss: 0.6519449949264526 test loss: 10.10743522644043\n",
      "Epoch 240 train loss: 0.6516774892807007 test loss: 10.105484008789062\n",
      "Epoch 250 train loss: 0.6528677344322205 test loss: 10.111553192138672\n",
      "Epoch 260 train loss: 0.6529664993286133 test loss: 10.117359161376953\n",
      "Epoch 270 train loss: 0.6529746055603027 test loss: 10.113457679748535\n",
      "Epoch 280 train loss: 0.6533546447753906 test loss: 10.115971565246582\n",
      "Epoch 290 train loss: 0.652390718460083 test loss: 10.115375518798828\n",
      "IN\n",
      "Epoch 0 train loss: 0.9559176564216614 test loss: 3.6072001457214355\n",
      "Epoch 10 train loss: 0.9420617818832397 test loss: 3.517382860183716\n",
      "Epoch 20 train loss: 0.9408583641052246 test loss: 3.5463826656341553\n",
      "Epoch 30 train loss: 0.944550633430481 test loss: 3.548327922821045\n",
      "Epoch 40 train loss: 0.9443135857582092 test loss: 3.5438220500946045\n",
      "Epoch 50 train loss: 0.94381183385849 test loss: 3.545438528060913\n",
      "Epoch 60 train loss: 0.9405034780502319 test loss: 3.535337209701538\n",
      "Epoch 70 train loss: 0.9404535293579102 test loss: 3.5307586193084717\n",
      "Epoch 80 train loss: 0.9435874819755554 test loss: 3.542651653289795\n",
      "Epoch 90 train loss: 0.9397602081298828 test loss: 3.531907320022583\n",
      "Epoch 100 train loss: 0.941373884677887 test loss: 3.530925750732422\n",
      "Epoch 110 train loss: 0.9424821734428406 test loss: 3.5310909748077393\n",
      "Epoch 120 train loss: 0.9403506517410278 test loss: 3.5295956134796143\n",
      "Epoch 130 train loss: 0.9412902593612671 test loss: 3.531494617462158\n",
      "Epoch 140 train loss: 0.9405004382133484 test loss: 3.532315254211426\n",
      "Epoch 150 train loss: 0.9409618377685547 test loss: 3.534071922302246\n",
      "Epoch 160 train loss: 0.9420126676559448 test loss: 3.530153512954712\n",
      "Epoch 170 train loss: 0.9398480653762817 test loss: 3.5358645915985107\n",
      "Epoch 180 train loss: 0.942772626876831 test loss: 3.5361483097076416\n",
      "Epoch 190 train loss: 0.9395731687545776 test loss: 3.530867099761963\n",
      "Epoch 200 train loss: 0.9422577619552612 test loss: 3.5366055965423584\n",
      "Epoch 210 train loss: 0.9420821666717529 test loss: 3.5376899242401123\n",
      "Epoch 220 train loss: 0.9419045448303223 test loss: 3.535633087158203\n",
      "Epoch 230 train loss: 0.9430313110351562 test loss: 3.5387823581695557\n",
      "Epoch 240 train loss: 0.9423894286155701 test loss: 3.540506601333618\n",
      "Epoch 250 train loss: 0.9425053000450134 test loss: 3.537893056869507\n",
      "Epoch 260 train loss: 0.9433850646018982 test loss: 3.541013479232788\n",
      "Epoch 270 train loss: 0.9428321719169617 test loss: 3.5396103858947754\n",
      "Epoch 280 train loss: 0.9434542655944824 test loss: 3.542703866958618\n",
      "Epoch 290 train loss: 0.9435303211212158 test loss: 3.543696403503418\n",
      "IA\n",
      "Epoch 0 train loss: 0.9021100997924805 test loss: 2.005631446838379\n",
      "Epoch 10 train loss: 0.8983080387115479 test loss: 1.9644451141357422\n",
      "Epoch 20 train loss: 0.897071361541748 test loss: 1.9720587730407715\n",
      "Epoch 30 train loss: 0.8958553075790405 test loss: 1.970518946647644\n",
      "Epoch 40 train loss: 0.9007272720336914 test loss: 1.9726111888885498\n",
      "Epoch 50 train loss: 0.896885335445404 test loss: 1.9726333618164062\n",
      "Epoch 60 train loss: 0.8971037864685059 test loss: 1.9705969095230103\n",
      "Epoch 70 train loss: 0.8963872194290161 test loss: 1.9698094129562378\n",
      "Epoch 80 train loss: 0.8965362310409546 test loss: 1.9733158349990845\n",
      "Epoch 90 train loss: 0.8946355581283569 test loss: 1.9702425003051758\n",
      "Epoch 100 train loss: 0.894828200340271 test loss: 1.9697669744491577\n",
      "Epoch 110 train loss: 0.8951267600059509 test loss: 1.9702773094177246\n",
      "Epoch 120 train loss: 0.8979276418685913 test loss: 1.9714839458465576\n",
      "Epoch 130 train loss: 0.8959835767745972 test loss: 1.9710407257080078\n",
      "Epoch 140 train loss: 0.8963100910186768 test loss: 1.9711869955062866\n",
      "Epoch 150 train loss: 0.8956026434898376 test loss: 1.9717390537261963\n",
      "Epoch 160 train loss: 0.8965597152709961 test loss: 1.971927523612976\n",
      "Epoch 170 train loss: 0.895816445350647 test loss: 1.9725341796875\n",
      "Epoch 180 train loss: 0.8968313932418823 test loss: 1.972832202911377\n",
      "Epoch 190 train loss: 0.8971265554428101 test loss: 1.9747318029403687\n",
      "Epoch 200 train loss: 0.8969656229019165 test loss: 1.9737837314605713\n",
      "Epoch 210 train loss: 0.8964802026748657 test loss: 1.9726802110671997\n",
      "Epoch 220 train loss: 0.8971219062805176 test loss: 1.974406123161316\n",
      "Epoch 230 train loss: 0.8970638513565063 test loss: 1.975596308708191\n",
      "Epoch 240 train loss: 0.8971110582351685 test loss: 1.9752615690231323\n",
      "Epoch 250 train loss: 0.8969163298606873 test loss: 1.9750088453292847\n",
      "Epoch 260 train loss: 0.8970750570297241 test loss: 1.9756042957305908\n",
      "Epoch 270 train loss: 0.8971124887466431 test loss: 1.9754579067230225\n",
      "Epoch 280 train loss: 0.8968969583511353 test loss: 1.9741753339767456\n",
      "Epoch 290 train loss: 0.8972144722938538 test loss: 1.975152611732483\n",
      "KS\n",
      "Epoch 0 train loss: 3.6988484859466553 test loss: 119.64947509765625\n",
      "Epoch 10 train loss: 3.6277546882629395 test loss: 118.51092529296875\n",
      "Epoch 20 train loss: 3.602083206176758 test loss: 118.22893524169922\n",
      "Epoch 30 train loss: 3.5794429779052734 test loss: 117.99130249023438\n",
      "Epoch 40 train loss: 3.5494155883789062 test loss: 117.38457489013672\n",
      "Epoch 50 train loss: 3.5185275077819824 test loss: 117.09282684326172\n",
      "Epoch 60 train loss: 3.498147964477539 test loss: 116.7376480102539\n",
      "Epoch 70 train loss: 3.460956335067749 test loss: 115.9979248046875\n",
      "Epoch 80 train loss: 3.413625955581665 test loss: 115.1766128540039\n",
      "Epoch 90 train loss: 3.364053726196289 test loss: 114.33382415771484\n",
      "Epoch 100 train loss: 3.3095195293426514 test loss: 113.63764953613281\n",
      "Epoch 110 train loss: 3.239389181137085 test loss: 112.4435806274414\n",
      "Epoch 120 train loss: 3.1623640060424805 test loss: 111.29803466796875\n",
      "Epoch 130 train loss: 3.058746814727783 test loss: 109.29711151123047\n",
      "Epoch 140 train loss: 2.9038219451904297 test loss: 107.87718963623047\n"
     ]
    },
    {
     "name": "stdout",
     "output_type": "stream",
     "text": [
      "Epoch 150 train loss: 2.748412847518921 test loss: 105.03233337402344\n",
      "Epoch 160 train loss: 2.6001014709472656 test loss: 102.43873596191406\n",
      "Epoch 170 train loss: 2.400012493133545 test loss: 99.32608795166016\n",
      "Epoch 180 train loss: 2.1820831298828125 test loss: 96.0388412475586\n",
      "Epoch 190 train loss: 1.9551095962524414 test loss: 90.55964660644531\n",
      "Epoch 200 train loss: 1.7294142246246338 test loss: 87.01893615722656\n",
      "Epoch 210 train loss: 1.513485312461853 test loss: 80.54681396484375\n",
      "Epoch 220 train loss: 1.3868120908737183 test loss: 77.11263275146484\n",
      "Epoch 230 train loss: 1.1907981634140015 test loss: 73.17290496826172\n",
      "Epoch 240 train loss: 1.1440991163253784 test loss: 70.36378479003906\n",
      "Epoch 250 train loss: 1.0348793268203735 test loss: 71.68871307373047\n",
      "Epoch 260 train loss: 1.0059469938278198 test loss: 65.79500579833984\n",
      "Epoch 270 train loss: 0.9297121167182922 test loss: 67.73819732666016\n",
      "Epoch 280 train loss: 0.9782529473304749 test loss: 68.1329345703125\n",
      "Epoch 290 train loss: 0.9763690233230591 test loss: 66.24295043945312\n",
      "KY\n",
      "Epoch 0 train loss: 1.0967931747436523 test loss: 4.219947814941406\n",
      "Epoch 10 train loss: 1.0955157279968262 test loss: 4.2162394523620605\n",
      "Epoch 20 train loss: 1.0938141345977783 test loss: 4.213428497314453\n",
      "Epoch 30 train loss: 1.0923044681549072 test loss: 4.20810079574585\n",
      "Epoch 40 train loss: 1.0892903804779053 test loss: 4.201117515563965\n",
      "Epoch 50 train loss: 1.0888763666152954 test loss: 4.205841541290283\n",
      "Epoch 60 train loss: 1.087609052658081 test loss: 4.186301231384277\n",
      "Epoch 70 train loss: 1.0874381065368652 test loss: 4.189212322235107\n",
      "Epoch 80 train loss: 1.0853097438812256 test loss: 4.1889166831970215\n",
      "Epoch 90 train loss: 1.0906908512115479 test loss: 4.188030242919922\n",
      "Epoch 100 train loss: 1.0878695249557495 test loss: 4.192905902862549\n",
      "Epoch 110 train loss: 1.0858408212661743 test loss: 4.185068130493164\n",
      "Epoch 120 train loss: 1.0888252258300781 test loss: 4.192567348480225\n",
      "Epoch 130 train loss: 1.0870840549468994 test loss: 4.190183162689209\n",
      "Epoch 140 train loss: 1.0878490209579468 test loss: 4.19277811050415\n",
      "Epoch 150 train loss: 1.0877537727355957 test loss: 4.193281173706055\n",
      "Epoch 160 train loss: 1.0873318910598755 test loss: 4.189390659332275\n",
      "Epoch 170 train loss: 1.087850570678711 test loss: 4.1932759284973145\n",
      "Epoch 180 train loss: 1.0898525714874268 test loss: 4.1983160972595215\n",
      "Epoch 190 train loss: 1.089468002319336 test loss: 4.192804336547852\n",
      "Epoch 200 train loss: 1.088952660560608 test loss: 4.192083835601807\n",
      "Epoch 210 train loss: 1.0895962715148926 test loss: 4.196208953857422\n",
      "Epoch 220 train loss: 1.0900405645370483 test loss: 4.195839881896973\n",
      "Epoch 230 train loss: 1.0903997421264648 test loss: 4.2001543045043945\n",
      "Epoch 240 train loss: 1.0914855003356934 test loss: 4.201950550079346\n",
      "Epoch 250 train loss: 1.0919438600540161 test loss: 4.205206871032715\n",
      "Epoch 260 train loss: 1.0910530090332031 test loss: 4.202090263366699\n",
      "Epoch 270 train loss: 1.0913069248199463 test loss: 4.207084655761719\n",
      "Epoch 280 train loss: 1.0924627780914307 test loss: 4.207494258880615\n",
      "Epoch 290 train loss: 1.092708945274353 test loss: 4.205046653747559\n",
      "LA\n",
      "Epoch 0 train loss: 0.1573014259338379 test loss: 51.594505310058594\n",
      "Epoch 10 train loss: 0.10086940973997116 test loss: 51.03025817871094\n",
      "Epoch 20 train loss: 0.10165543109178543 test loss: 51.0789794921875\n",
      "Epoch 30 train loss: 0.10246706008911133 test loss: 51.166831970214844\n",
      "Epoch 40 train loss: 0.10251452028751373 test loss: 51.13155746459961\n",
      "Epoch 50 train loss: 0.10053899139165878 test loss: 51.102237701416016\n",
      "Epoch 60 train loss: 0.10095660388469696 test loss: 51.101707458496094\n",
      "Epoch 70 train loss: 0.10161081701517105 test loss: 51.12938690185547\n",
      "Epoch 80 train loss: 0.10115709900856018 test loss: 51.10665512084961\n",
      "Epoch 90 train loss: 0.10248029232025146 test loss: 51.11806869506836\n",
      "Epoch 100 train loss: 0.10178189724683762 test loss: 51.121219635009766\n",
      "Epoch 110 train loss: 0.10131378471851349 test loss: 51.100738525390625\n",
      "Epoch 120 train loss: 0.10166436433792114 test loss: 51.09652328491211\n",
      "Epoch 130 train loss: 0.10142619907855988 test loss: 51.108280181884766\n",
      "Epoch 140 train loss: 0.10182104259729385 test loss: 51.10797882080078\n",
      "Epoch 150 train loss: 0.10145155340433121 test loss: 51.091575622558594\n",
      "Epoch 160 train loss: 0.10152456164360046 test loss: 51.112186431884766\n",
      "Epoch 170 train loss: 0.10146323591470718 test loss: 51.10417556762695\n",
      "Epoch 180 train loss: 0.10168702900409698 test loss: 51.1085090637207\n",
      "Epoch 190 train loss: 0.10134254395961761 test loss: 51.1162223815918\n",
      "Epoch 200 train loss: 0.1014058068394661 test loss: 51.10926055908203\n",
      "Epoch 210 train loss: 0.10121041536331177 test loss: 51.116153717041016\n",
      "Epoch 220 train loss: 0.10138169676065445 test loss: 51.1046257019043\n",
      "Epoch 230 train loss: 0.10148493200540543 test loss: 51.109493255615234\n",
      "Epoch 240 train loss: 0.10140730440616608 test loss: 51.11063766479492\n",
      "Epoch 250 train loss: 0.10152126848697662 test loss: 51.11359786987305\n",
      "Epoch 260 train loss: 0.10169671475887299 test loss: 51.11589431762695\n",
      "Epoch 270 train loss: 0.10141080617904663 test loss: 51.10957336425781\n",
      "Epoch 280 train loss: 0.10149461030960083 test loss: 51.110809326171875\n",
      "Epoch 290 train loss: 0.10146073251962662 test loss: 51.1150016784668\n",
      "ME\n",
      "Epoch 0 train loss: 0.03683798760175705 test loss: 289.7512512207031\n",
      "Epoch 10 train loss: 0.0003205325629096478 test loss: 288.79302978515625\n",
      "Epoch 20 train loss: 5.168956340639852e-05 test loss: 288.9215393066406\n",
      "Epoch 30 train loss: 0.0005456412909552455 test loss: 289.0775146484375\n",
      "Epoch 40 train loss: 4.0009519580053166e-05 test loss: 288.8425598144531\n",
      "Epoch 50 train loss: 7.70118203945458e-05 test loss: 289.08935546875\n",
      "Epoch 60 train loss: 9.782575216377154e-05 test loss: 288.8725891113281\n",
      "Epoch 70 train loss: 4.9723730626283213e-05 test loss: 288.8797302246094\n",
      "Epoch 80 train loss: 4.970484224031679e-05 test loss: 288.9018249511719\n",
      "Epoch 90 train loss: 5.5430362408515066e-05 test loss: 288.862548828125\n",
      "Epoch 100 train loss: 5.0815240683732554e-05 test loss: 288.9776916503906\n",
      "Epoch 110 train loss: 2.948943802039139e-05 test loss: 288.9538879394531\n",
      "Epoch 120 train loss: 2.0044810298713855e-05 test loss: 288.9920349121094\n",
      "Epoch 130 train loss: 2.0203508029226214e-05 test loss: 288.9649963378906\n",
      "Epoch 140 train loss: 1.3866717381461058e-05 test loss: 288.9375\n",
      "Epoch 150 train loss: 1.331515704805497e-05 test loss: 289.0055847167969\n",
      "Epoch 160 train loss: 1.4348668628372252e-05 test loss: 288.9724426269531\n",
      "Epoch 170 train loss: 1.4341165297082625e-05 test loss: 288.9415588378906\n",
      "Epoch 180 train loss: 8.84676592249889e-06 test loss: 288.99664306640625\n",
      "Epoch 190 train loss: 6.077918897062773e-06 test loss: 289.0042724609375\n",
      "Epoch 200 train loss: 1.2603651157405693e-05 test loss: 288.9947509765625\n",
      "Epoch 210 train loss: 1.1878691111633088e-05 test loss: 288.9632873535156\n",
      "Epoch 220 train loss: 1.0861625924007967e-05 test loss: 288.9866943359375\n",
      "Epoch 230 train loss: 8.3187505879323e-06 test loss: 288.9839172363281\n",
      "Epoch 240 train loss: 1.2853954103775322e-05 test loss: 288.9924011230469\n",
      "Epoch 250 train loss: 1.0764170838228893e-05 test loss: 288.99456787109375\n",
      "Epoch 260 train loss: 1.260285444004694e-05 test loss: 289.0025939941406\n",
      "Epoch 270 train loss: 1.2202798643556889e-05 test loss: 288.98846435546875\n",
      "Epoch 280 train loss: 1.1539008482941426e-05 test loss: 288.9932556152344\n",
      "Epoch 290 train loss: 1.29814206957235e-05 test loss: 289.01123046875\n",
      "MD\n",
      "Epoch 0 train loss: 1.7609719038009644 test loss: 11.909103393554688\n",
      "Epoch 10 train loss: 1.3417532444000244 test loss: 11.425322532653809\n",
      "Epoch 20 train loss: 1.3060758113861084 test loss: 11.191192626953125\n",
      "Epoch 30 train loss: 1.3008472919464111 test loss: 11.211518287658691\n",
      "Epoch 40 train loss: 1.305585503578186 test loss: 11.259923934936523\n",
      "Epoch 50 train loss: 1.2949438095092773 test loss: 11.215339660644531\n",
      "Epoch 60 train loss: 1.2902600765228271 test loss: 11.163064002990723\n",
      "Epoch 70 train loss: 1.2875385284423828 test loss: 11.139129638671875\n",
      "Epoch 80 train loss: 1.2836122512817383 test loss: 11.116734504699707\n",
      "Epoch 90 train loss: 1.2745168209075928 test loss: 11.117321014404297\n",
      "Epoch 100 train loss: 1.2725144624710083 test loss: 11.099591255187988\n"
     ]
    },
    {
     "name": "stdout",
     "output_type": "stream",
     "text": [
      "Epoch 110 train loss: 1.269925832748413 test loss: 11.059244155883789\n",
      "Epoch 120 train loss: 1.2624435424804688 test loss: 11.0684175491333\n",
      "Epoch 130 train loss: 1.2606041431427002 test loss: 11.042865753173828\n",
      "Epoch 140 train loss: 1.2602542638778687 test loss: 11.017129898071289\n",
      "Epoch 150 train loss: 1.2493548393249512 test loss: 10.983449935913086\n",
      "Epoch 160 train loss: 1.2423734664916992 test loss: 10.943428039550781\n",
      "Epoch 170 train loss: 1.23664391040802 test loss: 10.911760330200195\n",
      "Epoch 180 train loss: 1.227285623550415 test loss: 10.864859580993652\n",
      "Epoch 190 train loss: 1.2227773666381836 test loss: 10.798946380615234\n",
      "Epoch 200 train loss: 1.211890459060669 test loss: 10.845260620117188\n",
      "Epoch 210 train loss: 1.2018940448760986 test loss: 10.743834495544434\n",
      "Epoch 220 train loss: 1.1991299390792847 test loss: 10.690139770507812\n",
      "Epoch 230 train loss: 1.1817700862884521 test loss: 10.644877433776855\n",
      "Epoch 240 train loss: 1.1655360460281372 test loss: 10.535587310791016\n",
      "Epoch 250 train loss: 1.1557506322860718 test loss: 10.466069221496582\n",
      "Epoch 260 train loss: 1.130677580833435 test loss: 10.349380493164062\n",
      "Epoch 270 train loss: 1.108625054359436 test loss: 10.309914588928223\n",
      "Epoch 280 train loss: 1.0782535076141357 test loss: 10.143070220947266\n",
      "Epoch 290 train loss: 1.0543462038040161 test loss: 9.979072570800781\n",
      "MA\n",
      "Epoch 0 train loss: 1.6136884689331055 test loss: 3.3297932147979736\n",
      "Epoch 10 train loss: 1.4496091604232788 test loss: 3.156208038330078\n",
      "Epoch 20 train loss: 1.4418468475341797 test loss: 3.093651056289673\n"
     ]
    }
   ],
   "source": [
    "data_saver = {}\n",
    "\n",
    "for s in state_abrs:\n",
    "    print(s)\n",
    "    \n",
    "    # Instanial our loader / transformer\n",
    "    test_dl = LSTM_data_loader(df=tdf,\n",
    "                          region_abr=s,\n",
    "                          country='US',\n",
    "                          region_list=state_abrs,\n",
    "                          state_mapper=state_mapper,\n",
    "                          sequence_lenth=2)\n",
    "    \n",
    "    test_dl.subset_df()\n",
    "    test_dl.transform_df_datetime()\n",
    "    test_dl.gen_data_sets(test_data_size=5)\n",
    "\n",
    "    X_train, y_train = test_dl.set_seq()\n",
    "    X_test, y_test = test_dl.set_seq(train=False)\n",
    "\n",
    "    X_train = torch.from_numpy(X_train).float()\n",
    "    y_train = torch.from_numpy(y_train).float()\n",
    "    X_test = torch.from_numpy(X_test).float()\n",
    "    y_test = torch.from_numpy(y_test).float()\n",
    "    \n",
    "    model = CoronaVirusPredictor(\n",
    "      n_features=1,\n",
    "      n_hidden=512,\n",
    "      seq_len=test_dl.sequence_lenth,\n",
    "      n_layers=2\n",
    "    )\n",
    "    \n",
    "    model, train_hist, test_hist = train_model(\n",
    "      model,\n",
    "      X_train,\n",
    "      y_train,\n",
    "      X_test,\n",
    "      y_test\n",
    "    )\n",
    "    \n",
    "    with torch.no_grad():\n",
    "        test_seq = X_test[:1]\n",
    "        preds = []\n",
    "        for _ in range(len(X_test)):\n",
    "            y_test_pred = model(test_seq)\n",
    "            pred = torch.flatten(y_test_pred).item()\n",
    "            preds.append(pred)\n",
    "            new_seq = test_seq.numpy().flatten()\n",
    "            new_seq = np.append(new_seq, [pred])\n",
    "            new_seq = new_seq[1:]\n",
    "            test_seq = torch.as_tensor(new_seq).view(1, test_dl.sequence_lenth, 1).float()\n",
    "        \n",
    "    true_cases = test_dl.scaler.inverse_transform(\n",
    "        np.expand_dims(y_test.flatten().numpy(), axis=0)\n",
    "    ).flatten()\n",
    "\n",
    "    predicted_cases = test_dl.scaler.inverse_transform(\n",
    "      np.expand_dims(preds, axis=0)\n",
    "    ).flatten()\n",
    "    \n",
    "    data_saver[s] = {\n",
    "        'train_hist' : train_hist,\n",
    "        'test_hist' : test_hist,\n",
    "        'xtrain' : X_train,\n",
    "        'xtest' : X_test,\n",
    "        'ytrain' : y_test,\n",
    "        'ytest' : y_test,\n",
    "        'true_cases' : true_cases,\n",
    "        'predicted_cases' : predicted_cases\n",
    "    }\n",
    "    \n",
    "#     print(data_saver)\n",
    "    "
   ]
  },
  {
   "cell_type": "code",
   "execution_count": 49,
   "metadata": {},
   "outputs": [],
   "source": [
    "save_the_data_317 = data_saver"
   ]
  },
  {
   "cell_type": "code",
   "execution_count": 35,
   "metadata": {},
   "outputs": [
    {
     "name": "stdout",
     "output_type": "stream",
     "text": [
      "Epoch 0 train loss: 13.389084815979004 test loss: 1.9732123613357544\n",
      "Epoch 10 train loss: 8.327491760253906 test loss: 1.5774154663085938\n",
      "Epoch 20 train loss: 4.138882160186768 test loss: 1.0888692140579224\n",
      "Epoch 30 train loss: 3.923527240753174 test loss: 0.6946665644645691\n",
      "Epoch 40 train loss: 3.512434959411621 test loss: 0.8968299627304077\n",
      "Epoch 50 train loss: 3.564000368118286 test loss: 0.9149094820022583\n",
      "Epoch 60 train loss: 3.469043731689453 test loss: 0.8279104232788086\n",
      "Epoch 70 train loss: 3.4717698097229004 test loss: 0.863163948059082\n",
      "Epoch 80 train loss: 3.4912571907043457 test loss: 0.855752170085907\n",
      "Epoch 90 train loss: 3.526294469833374 test loss: 0.8283991813659668\n",
      "Epoch 100 train loss: 3.4745535850524902 test loss: 0.8497444987297058\n",
      "Epoch 110 train loss: 3.442981481552124 test loss: 0.8435304760932922\n",
      "Epoch 120 train loss: 3.3929386138916016 test loss: 0.8195550441741943\n",
      "Epoch 130 train loss: 3.3693761825561523 test loss: 0.8279690146446228\n",
      "Epoch 140 train loss: 3.379403591156006 test loss: 0.8181343078613281\n",
      "Epoch 150 train loss: 3.368058204650879 test loss: 0.8249240517616272\n",
      "Epoch 160 train loss: 3.3336336612701416 test loss: 0.8200064301490784\n",
      "Epoch 170 train loss: 3.300020456314087 test loss: 0.7837895154953003\n",
      "Epoch 180 train loss: 3.20821213722229 test loss: 0.7721796035766602\n",
      "Epoch 190 train loss: 3.2122092247009277 test loss: 0.7631612420082092\n",
      "Epoch 200 train loss: 3.0306143760681152 test loss: 0.7387099862098694\n",
      "Epoch 210 train loss: 2.6935787200927734 test loss: 0.6467693448066711\n",
      "Epoch 220 train loss: 0.9700583815574646 test loss: 0.3709348440170288\n",
      "Epoch 230 train loss: 0.6192016005516052 test loss: 0.05633099749684334\n",
      "Epoch 240 train loss: 0.6351057887077332 test loss: 0.1429244875907898\n",
      "Epoch 250 train loss: 0.37273159623146057 test loss: 0.07290971279144287\n",
      "Epoch 260 train loss: 0.30153483152389526 test loss: 0.1044219434261322\n",
      "Epoch 270 train loss: 0.3369120657444 test loss: 0.12268658727407455\n",
      "Epoch 280 train loss: 0.26875290274620056 test loss: 0.1000533252954483\n",
      "Epoch 290 train loss: 0.29984211921691895 test loss: 0.12259282916784286\n"
     ]
    }
   ],
   "source": [
    "model = CoronaVirusPredictor(\n",
    "  n_features=1,\n",
    "  n_hidden=512,\n",
    "  seq_len=test_dl.sequence_lenth,\n",
    "  n_layers=2\n",
    ")\n",
    "model, train_hist, test_hist = train_model(\n",
    "  model,\n",
    "  X_train,\n",
    "  y_train,\n",
    "  X_test,\n",
    "  y_test\n",
    ")"
   ]
  },
  {
   "cell_type": "code",
   "execution_count": null,
   "metadata": {},
   "outputs": [],
   "source": [
    "seq_length \n",
    "\n",
    "with torch.no_grad():\n",
    "    test_seq = X_test[:1]\n",
    "    print(test_seq)\n",
    "    preds = []\n",
    "    for _ in range(len(X_test)):\n",
    "        y_test_pred = model(test_seq)\n",
    "        pred = torch.flatten(y_test_pred).item()\n",
    "        preds.append(pred)\n",
    "        new_seq = test_seq.numpy().flatten()\n",
    "        new_seq = np.append(new_seq, [pred])\n",
    "        new_seq = new_seq[1:]\n",
    "        test_seq = torch.as_tensor(new_seq).view(1, seq_length, 1).float()\n",
    "        \n",
    "true_cases = scaler.inverse_transform(\n",
    "    np.expand_dims(y_test.flatten().numpy(), axis=0)\n",
    ").flatten()\n",
    "\n",
    "predicted_cases = scaler.inverse_transform(\n",
    "  np.expand_dims(preds, axis=0)\n",
    ").flatten()"
   ]
  },
  {
   "cell_type": "code",
   "execution_count": null,
   "metadata": {},
   "outputs": [],
   "source": [
    "plt.plot(train_hist, label=\"Training loss\")\n",
    "plt.plot(test_hist, label=\"Test loss\")\n",
    "plt.ylim((0, 10))\n",
    "plt.legend()"
   ]
  },
  {
   "cell_type": "code",
   "execution_count": null,
   "metadata": {},
   "outputs": [],
   "source": [
    "mask1 = confirmed_melted['Date'].str.contains(first_day)\n",
    "mask2 = confirmed_melted['Country/Region'].str.contains('US')\n",
    "first_day_df_US = confirmed_melted[mask1 & mask2]\n",
    "first_day_df_US.head()\n",
    "\n",
    "first_day_df_US = first_day_df_US[['Province/State','Confirmed']]\n",
    "\n",
    "for x in state_abrs:\n",
    "    counter=0\n",
    "    for r in first_day_df_US['Province/State']:\n",
    "        if x in r:\n",
    "            first_day_df_US['Province/State'].iloc[counter] = x\n",
    "        elif r in state_mapper.keys():\n",
    "            first_day_df_US['Province/State'].iloc[counter] = remap_to_abr(r, state_mapper)\n",
    "        counter+=1\n",
    "        \n",
    "\n",
    "first_day_df_US = first_day_df_US.groupby('Province/State').sum().reset_index()\n",
    "first_day_df_US.head()"
   ]
  },
  {
   "cell_type": "code",
   "execution_count": null,
   "metadata": {},
   "outputs": [],
   "source": [
    "mask = confirmed_melted['Country/Region'].str.contains('US')\n",
    "first_day_df_US = confirmed_melted[mask1 & mask2]\n",
    "first_day_df_US.head()\n",
    "\n",
    "first_day_df_US = first_day_df_US[['Province/State','Confirmed']]\n",
    "\n",
    "for x in state_abrs:\n",
    "    counter=0\n",
    "    for r in first_day_df_US['Province/State']:\n",
    "        if x in r:\n",
    "            first_day_df_US['Province/State'].iloc[counter] = x\n",
    "        elif r in state_mapper.keys():\n",
    "            first_day_df_US['Province/State'].iloc[counter] = remap_to_abr(r, state_mapper)\n",
    "        counter+=1\n",
    "        \n",
    "\n",
    "first_day_df_US = first_day_df_US.groupby('Province/State').sum().reset_index()\n",
    "first_day_df_US.head()"
   ]
  }
 ],
 "metadata": {
  "kernelspec": {
   "display_name": "Python 3",
   "language": "python",
   "name": "python3"
  },
  "language_info": {
   "codemirror_mode": {
    "name": "ipython",
    "version": 3
   },
   "file_extension": ".py",
   "mimetype": "text/x-python",
   "name": "python",
   "nbconvert_exporter": "python",
   "pygments_lexer": "ipython3",
   "version": "3.7.6"
  }
 },
 "nbformat": 4,
 "nbformat_minor": 4
}
