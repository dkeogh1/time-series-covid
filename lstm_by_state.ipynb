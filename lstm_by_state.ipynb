{
 "cells": [
  {
   "cell_type": "code",
   "execution_count": 1,
   "metadata": {},
   "outputs": [
    {
     "name": "stdout",
     "output_type": "stream",
     "text": [
      "CPython 3.7.6\n",
      "IPython 7.13.0\n",
      "\n",
      "numpy 1.18.1\n",
      "pandas 0.23.4\n",
      "torch 1.4.0\n"
     ]
    }
   ],
   "source": [
    "%reload_ext watermark\n",
    "%watermark -v -p numpy,pandas,torch"
   ]
  },
  {
   "cell_type": "code",
   "execution_count": 2,
   "metadata": {},
   "outputs": [],
   "source": [
    "import torch\n",
    "\n",
    "import os, wget\n",
    "import numpy as np\n",
    "import pandas as pd\n",
    "from tqdm import tqdm\n",
    "import seaborn as sns\n",
    "from pylab import rcParams\n",
    "import matplotlib.pyplot as plt\n",
    "from matplotlib import rc\n",
    "from sklearn.preprocessing import MinMaxScaler\n",
    "from pandas.plotting import register_matplotlib_converters\n",
    "from torch import nn, optim"
   ]
  },
  {
   "cell_type": "code",
   "execution_count": 3,
   "metadata": {},
   "outputs": [],
   "source": [
    "import json"
   ]
  },
  {
   "cell_type": "code",
   "execution_count": 4,
   "metadata": {},
   "outputs": [],
   "source": [
    "from ML.lstm_torch import LSTM_Predictor, set_seq, train_lstm, LSTM_data_loader\n",
    "\n",
    "import warnings\n",
    "warnings.filterwarnings('ignore')"
   ]
  },
  {
   "cell_type": "code",
   "execution_count": 5,
   "metadata": {},
   "outputs": [],
   "source": [
    "%matplotlib inline\n",
    "%config InlineBackend.figure_format='retina'"
   ]
  },
  {
   "cell_type": "code",
   "execution_count": 6,
   "metadata": {},
   "outputs": [],
   "source": [
    "sns.set(style='whitegrid', palette='muted', font_scale=1.2)"
   ]
  },
  {
   "cell_type": "code",
   "execution_count": 7,
   "metadata": {},
   "outputs": [],
   "source": [
    "HAPPY_COLORS_PALETTE = [\"#01BEFE\", \"#FFDD00\", \"#FF7D00\", \"#FF006D\", \"#93D30C\", \"#8F00FF\"]"
   ]
  },
  {
   "cell_type": "code",
   "execution_count": 8,
   "metadata": {},
   "outputs": [],
   "source": [
    "sns.set_palette(sns.color_palette(HAPPY_COLORS_PALETTE))"
   ]
  },
  {
   "cell_type": "code",
   "execution_count": 9,
   "metadata": {},
   "outputs": [],
   "source": [
    "rcParams['figure.figsize'] = 14, 10\n",
    "register_matplotlib_converters()"
   ]
  },
  {
   "cell_type": "code",
   "execution_count": 10,
   "metadata": {},
   "outputs": [
    {
     "data": {
      "text/plain": [
       "<torch._C.Generator at 0x120b966b0>"
      ]
     },
     "execution_count": 10,
     "metadata": {},
     "output_type": "execute_result"
    }
   ],
   "source": [
    "RANDOM_SEED = 42\n",
    "np.random.seed(RANDOM_SEED)\n",
    "torch.manual_seed(RANDOM_SEED)"
   ]
  },
  {
   "cell_type": "code",
   "execution_count": 11,
   "metadata": {},
   "outputs": [],
   "source": [
    "tdf = pd.read_csv('/Users/danielkeogh/projects/time-series-covid/time_series_19-covid-Confirmed.csv')"
   ]
  },
  {
   "cell_type": "code",
   "execution_count": 12,
   "metadata": {},
   "outputs": [],
   "source": [
    "with open('./data/us-states.json', 'r') as f:\n",
    "    us_states = json.load(f)\n",
    "    \n",
    "state_abrs = [x['id'] for x in us_states['features']]\n",
    "\n",
    "state_mapper_lst = [{x['properties']['name']:x['id']} for x in us_states['features']]\n",
    "\n",
    "state_mapper_lst\n",
    "state_mapper = {}\n",
    "for s in state_mapper_lst:\n",
    "    state_mapper.update(s)"
   ]
  },
  {
   "cell_type": "code",
   "execution_count": 36,
   "metadata": {},
   "outputs": [],
   "source": [
    "test_dl = LSTM_data_loader(df=tdf,\n",
    "                          region_abr='WA',\n",
    "                          country='US',\n",
    "                          region_list=state_abrs,\n",
    "                          state_mapper=state_mapper,\n",
    "                          sequence_lenth=3)"
   ]
  },
  {
   "cell_type": "code",
   "execution_count": 37,
   "metadata": {},
   "outputs": [
    {
     "data": {
      "text/html": [
       "<div>\n",
       "<style scoped>\n",
       "    .dataframe tbody tr th:only-of-type {\n",
       "        vertical-align: middle;\n",
       "    }\n",
       "\n",
       "    .dataframe tbody tr th {\n",
       "        vertical-align: top;\n",
       "    }\n",
       "\n",
       "    .dataframe thead th {\n",
       "        text-align: right;\n",
       "    }\n",
       "</style>\n",
       "<table border=\"1\" class=\"dataframe\">\n",
       "  <thead>\n",
       "    <tr style=\"text-align: right;\">\n",
       "      <th></th>\n",
       "      <th>Province/State</th>\n",
       "      <th>Country/Region</th>\n",
       "      <th>Lat</th>\n",
       "      <th>Long</th>\n",
       "      <th>1/22/20</th>\n",
       "      <th>1/23/20</th>\n",
       "      <th>1/24/20</th>\n",
       "      <th>1/25/20</th>\n",
       "      <th>1/26/20</th>\n",
       "      <th>1/27/20</th>\n",
       "      <th>...</th>\n",
       "      <th>3/8/20</th>\n",
       "      <th>3/9/20</th>\n",
       "      <th>3/10/20</th>\n",
       "      <th>3/11/20</th>\n",
       "      <th>3/12/20</th>\n",
       "      <th>3/13/20</th>\n",
       "      <th>3/14/20</th>\n",
       "      <th>3/15/20</th>\n",
       "      <th>3/16/20</th>\n",
       "      <th>3/17/20</th>\n",
       "    </tr>\n",
       "  </thead>\n",
       "  <tbody>\n",
       "    <tr>\n",
       "      <th>0</th>\n",
       "      <td>NaN</td>\n",
       "      <td>Thailand</td>\n",
       "      <td>15.0000</td>\n",
       "      <td>101.0000</td>\n",
       "      <td>2</td>\n",
       "      <td>3</td>\n",
       "      <td>5</td>\n",
       "      <td>7</td>\n",
       "      <td>8</td>\n",
       "      <td>8</td>\n",
       "      <td>...</td>\n",
       "      <td>50</td>\n",
       "      <td>50</td>\n",
       "      <td>53</td>\n",
       "      <td>59</td>\n",
       "      <td>70</td>\n",
       "      <td>75</td>\n",
       "      <td>82</td>\n",
       "      <td>114</td>\n",
       "      <td>147</td>\n",
       "      <td>177</td>\n",
       "    </tr>\n",
       "    <tr>\n",
       "      <th>1</th>\n",
       "      <td>NaN</td>\n",
       "      <td>Japan</td>\n",
       "      <td>36.0000</td>\n",
       "      <td>138.0000</td>\n",
       "      <td>2</td>\n",
       "      <td>1</td>\n",
       "      <td>2</td>\n",
       "      <td>2</td>\n",
       "      <td>4</td>\n",
       "      <td>4</td>\n",
       "      <td>...</td>\n",
       "      <td>502</td>\n",
       "      <td>511</td>\n",
       "      <td>581</td>\n",
       "      <td>639</td>\n",
       "      <td>639</td>\n",
       "      <td>701</td>\n",
       "      <td>773</td>\n",
       "      <td>839</td>\n",
       "      <td>825</td>\n",
       "      <td>878</td>\n",
       "    </tr>\n",
       "    <tr>\n",
       "      <th>2</th>\n",
       "      <td>NaN</td>\n",
       "      <td>Singapore</td>\n",
       "      <td>1.2833</td>\n",
       "      <td>103.8333</td>\n",
       "      <td>0</td>\n",
       "      <td>1</td>\n",
       "      <td>3</td>\n",
       "      <td>3</td>\n",
       "      <td>4</td>\n",
       "      <td>5</td>\n",
       "      <td>...</td>\n",
       "      <td>150</td>\n",
       "      <td>150</td>\n",
       "      <td>160</td>\n",
       "      <td>178</td>\n",
       "      <td>178</td>\n",
       "      <td>200</td>\n",
       "      <td>212</td>\n",
       "      <td>226</td>\n",
       "      <td>243</td>\n",
       "      <td>266</td>\n",
       "    </tr>\n",
       "    <tr>\n",
       "      <th>3</th>\n",
       "      <td>NaN</td>\n",
       "      <td>Nepal</td>\n",
       "      <td>28.1667</td>\n",
       "      <td>84.2500</td>\n",
       "      <td>0</td>\n",
       "      <td>0</td>\n",
       "      <td>0</td>\n",
       "      <td>1</td>\n",
       "      <td>1</td>\n",
       "      <td>1</td>\n",
       "      <td>...</td>\n",
       "      <td>1</td>\n",
       "      <td>1</td>\n",
       "      <td>1</td>\n",
       "      <td>1</td>\n",
       "      <td>1</td>\n",
       "      <td>1</td>\n",
       "      <td>1</td>\n",
       "      <td>1</td>\n",
       "      <td>1</td>\n",
       "      <td>1</td>\n",
       "    </tr>\n",
       "    <tr>\n",
       "      <th>4</th>\n",
       "      <td>NaN</td>\n",
       "      <td>Malaysia</td>\n",
       "      <td>2.5000</td>\n",
       "      <td>112.5000</td>\n",
       "      <td>0</td>\n",
       "      <td>0</td>\n",
       "      <td>0</td>\n",
       "      <td>3</td>\n",
       "      <td>4</td>\n",
       "      <td>4</td>\n",
       "      <td>...</td>\n",
       "      <td>99</td>\n",
       "      <td>117</td>\n",
       "      <td>129</td>\n",
       "      <td>149</td>\n",
       "      <td>149</td>\n",
       "      <td>197</td>\n",
       "      <td>238</td>\n",
       "      <td>428</td>\n",
       "      <td>566</td>\n",
       "      <td>673</td>\n",
       "    </tr>\n",
       "  </tbody>\n",
       "</table>\n",
       "<p>5 rows × 60 columns</p>\n",
       "</div>"
      ],
      "text/plain": [
       "  Province/State Country/Region      Lat      Long  1/22/20  1/23/20  1/24/20  \\\n",
       "0            NaN       Thailand  15.0000  101.0000        2        3        5   \n",
       "1            NaN          Japan  36.0000  138.0000        2        1        2   \n",
       "2            NaN      Singapore   1.2833  103.8333        0        1        3   \n",
       "3            NaN          Nepal  28.1667   84.2500        0        0        0   \n",
       "4            NaN       Malaysia   2.5000  112.5000        0        0        0   \n",
       "\n",
       "   1/25/20  1/26/20  1/27/20   ...     3/8/20  3/9/20  3/10/20  3/11/20  \\\n",
       "0        7        8        8   ...         50      50       53       59   \n",
       "1        2        4        4   ...        502     511      581      639   \n",
       "2        3        4        5   ...        150     150      160      178   \n",
       "3        1        1        1   ...          1       1        1        1   \n",
       "4        3        4        4   ...         99     117      129      149   \n",
       "\n",
       "   3/12/20  3/13/20  3/14/20  3/15/20  3/16/20  3/17/20  \n",
       "0       70       75       82      114      147      177  \n",
       "1      639      701      773      839      825      878  \n",
       "2      178      200      212      226      243      266  \n",
       "3        1        1        1        1        1        1  \n",
       "4      149      197      238      428      566      673  \n",
       "\n",
       "[5 rows x 60 columns]"
      ]
     },
     "execution_count": 37,
     "metadata": {},
     "output_type": "execute_result"
    }
   ],
   "source": [
    "test_dl.df.head()"
   ]
  },
  {
   "cell_type": "code",
   "execution_count": 38,
   "metadata": {},
   "outputs": [],
   "source": [
    "test_dl.subset_df()\n",
    "test_dl.transform_df_datetime()\n",
    "test_dl.gen_data_sets(test_data_size=5)\n",
    "\n",
    "X_train, y_train = test_dl.set_seq()\n",
    "X_test, y_test = test_dl.set_seq(train=False)\n",
    "\n",
    "X_train = torch.from_numpy(X_train).float()\n",
    "y_train = torch.from_numpy(y_train).float()\n",
    "X_test = torch.from_numpy(X_test).float()\n",
    "y_test = torch.from_numpy(y_test).float()"
   ]
  },
  {
   "cell_type": "code",
   "execution_count": 17,
   "metadata": {},
   "outputs": [
    {
     "data": {
      "text/plain": [
       "<matplotlib.axes._subplots.AxesSubplot at 0x12a5d4c50>"
      ]
     },
     "execution_count": 17,
     "metadata": {},
     "output_type": "execute_result"
    },
    {
     "data": {
      "image/png": "[encoded data removed]",
      "text/plain": [
       "<Figure size 1008x720 with 1 Axes>"
      ]
     },
     "metadata": {
      "image/png": {
       "height": 621,
       "width": 849
      }
     },
     "output_type": "display_data"
    }
   ],
   "source": [
    "test_dl.df.plot()"
   ]
  },
  {
   "cell_type": "code",
   "execution_count": 18,
   "metadata": {},
   "outputs": [],
   "source": [
    "test_dl.gen_data_sets(test_data_size=5)"
   ]
  },
  {
   "cell_type": "code",
   "execution_count": 22,
   "metadata": {},
   "outputs": [
    {
     "data": {
      "text/plain": [
       "(5, 1)"
      ]
     },
     "execution_count": 22,
     "metadata": {},
     "output_type": "execute_result"
    }
   ],
   "source": [
    "test_dl.test_data.shape"
   ]
  },
  {
   "cell_type": "code",
   "execution_count": 28,
   "metadata": {},
   "outputs": [],
   "source": [
    "X_train, y_train = test_dl.set_seq()\n",
    "X_test, y_test = test_dl.set_seq(train=False)"
   ]
  },
  {
   "cell_type": "code",
   "execution_count": 29,
   "metadata": {},
   "outputs": [],
   "source": [
    "X_test, y_test = test_dl.set_seq(train=False)"
   ]
  },
  {
   "cell_type": "code",
   "execution_count": 30,
   "metadata": {},
   "outputs": [],
   "source": [
    "X_train, y_train = test_dl.set_seq()\n",
    "X_test, y_test = test_dl.set_seq(train=False)\n",
    "\n",
    "X_train = torch.from_numpy(X_train).float()\n",
    "y_train = torch.from_numpy(y_train).float()\n",
    "\n",
    "X_test = torch.from_numpy(X_test).float()\n",
    "y_test = torch.from_numpy(y_test).float()"
   ]
  },
  {
   "cell_type": "code",
   "execution_count": 31,
   "metadata": {},
   "outputs": [
    {
     "data": {
      "text/plain": [
       "torch.Size([1, 1])"
      ]
     },
     "execution_count": 31,
     "metadata": {},
     "output_type": "execute_result"
    }
   ],
   "source": [
    "y_test.shape"
   ]
  },
  {
   "cell_type": "code",
   "execution_count": 32,
   "metadata": {},
   "outputs": [],
   "source": [
    "class CoronaVirusPredictor(nn.Module):\n",
    "\n",
    "  def __init__(self, n_features, n_hidden, seq_len, n_layers=2):\n",
    "    super(CoronaVirusPredictor, self).__init__()\n",
    "\n",
    "    self.n_hidden = n_hidden\n",
    "    self.seq_len = seq_len\n",
    "    self.n_layers = n_layers\n",
    "\n",
    "    self.lstm = nn.LSTM(\n",
    "      input_size=n_features,\n",
    "      hidden_size=n_hidden,\n",
    "      num_layers=n_layers,\n",
    "      dropout=0.3\n",
    "    )\n",
    "\n",
    "    self.linear = nn.Linear(in_features=n_hidden, out_features=1)\n",
    "\n",
    "  def reset_hidden_state(self):\n",
    "    self.hidden = (\n",
    "        torch.zeros(self.n_layers, self.seq_len, self.n_hidden),\n",
    "        torch.zeros(self.n_layers, self.seq_len, self.n_hidden)\n",
    "    )\n",
    "\n",
    "  def forward(self, sequences):\n",
    "    lstm_out, self.hidden = self.lstm(\n",
    "      sequences.view(len(sequences), self.seq_len, -1),\n",
    "      self.hidden\n",
    "    )\n",
    "    last_time_step = \\\n",
    "      lstm_out.view(self.seq_len, len(sequences), self.n_hidden)[-1]\n",
    "    y_pred = self.linear(last_time_step)\n",
    "    return y_pred"
   ]
  },
  {
   "cell_type": "code",
   "execution_count": 33,
   "metadata": {},
   "outputs": [],
   "source": [
    "def train_model(model, train_data, train_labels, test_data=None,test_labels=None, n_epochs=300):\n",
    "    \n",
    "  loss_fn = torch.nn.MSELoss(reduction='sum')\n",
    "\n",
    "  optimiser = torch.optim.Adam(model.parameters(), lr=1e-4, weight_decay=0.1)\n",
    "\n",
    "  train_hist = np.zeros(n_epochs)\n",
    "  test_hist = np.zeros(n_epochs)\n",
    "\n",
    "  for t in range(n_epochs):\n",
    "    model.reset_hidden_state()\n",
    "\n",
    "    y_pred = model(X_train)\n",
    "\n",
    "    loss = loss_fn(y_pred.float(), y_train)\n",
    "\n",
    "    if test_data is not None:\n",
    "      with torch.no_grad():\n",
    "        y_test_pred = model(X_test)\n",
    "        test_loss = loss_fn(y_test_pred.float(), y_test)\n",
    "      test_hist[t] = test_loss.item()\n",
    "\n",
    "      if t % 10 == 0:\n",
    "        print(f'Epoch {t} train loss: {loss.item()} test loss: {test_loss.item()}')\n",
    "    elif t % 10 == 0:\n",
    "      print(f'Epoch {t} train loss: {loss.item()}')\n",
    "\n",
    "    train_hist[t] = loss.item()\n",
    "\n",
    "    optimiser.zero_grad()\n",
    "\n",
    "    loss.backward()\n",
    "\n",
    "    optimiser.step()\n",
    "\n",
    "  return model.eval(), train_hist, test_hist"
   ]
  },
  {
   "cell_type": "code",
   "execution_count": 34,
   "metadata": {},
   "outputs": [
    {
     "data": {
      "text/plain": [
       "3"
      ]
     },
     "execution_count": 34,
     "metadata": {},
     "output_type": "execute_result"
    }
   ],
   "source": [
    "test_dl.sequence_lenth"
   ]
  },
  {
   "cell_type": "code",
   "execution_count": null,
   "metadata": {},
   "outputs": [
    {
     "name": "stdout",
     "output_type": "stream",
     "text": [
      "AL\n",
      "Epoch 0 train loss: 0.0025551083963364363 test loss: 840.7509155273438\n",
      "Epoch 10 train loss: 4.010730117443018e-05 test loss: 841.1318969726562\n",
      "Epoch 20 train loss: 7.249724149005488e-05 test loss: 840.7929077148438\n",
      "Epoch 30 train loss: 2.9153761715861037e-05 test loss: 841.001220703125\n",
      "Epoch 40 train loss: 5.052225969848223e-05 test loss: 841.0662841796875\n",
      "Epoch 50 train loss: 2.18679997487925e-05 test loss: 841.0452270507812\n",
      "Epoch 60 train loss: 2.23827337322291e-05 test loss: 840.9663696289062\n",
      "Epoch 70 train loss: 1.763032742019277e-05 test loss: 841.1888427734375\n",
      "Epoch 80 train loss: 1.4435041521210223e-05 test loss: 841.1116333007812\n",
      "Epoch 90 train loss: 1.9455615984043106e-05 test loss: 840.9024047851562\n",
      "Epoch 100 train loss: 6.80600442137802e-06 test loss: 841.1019897460938\n",
      "Epoch 110 train loss: 1.2083312867616769e-05 test loss: 840.9496459960938\n",
      "Epoch 120 train loss: 4.860349690716248e-06 test loss: 841.1672973632812\n",
      "Epoch 130 train loss: 2.9448713121382752e-06 test loss: 841.14306640625\n",
      "Epoch 140 train loss: 3.606620339269284e-06 test loss: 840.9780883789062\n",
      "Epoch 150 train loss: 4.217976766085485e-06 test loss: 840.9579467773438\n",
      "Epoch 160 train loss: 5.861279078089865e-06 test loss: 841.0726928710938\n",
      "Epoch 170 train loss: 1.5212774542305851e-06 test loss: 840.95849609375\n",
      "Epoch 180 train loss: 3.1978458991943626e-06 test loss: 840.9756469726562\n",
      "Epoch 190 train loss: 2.4534172098356066e-06 test loss: 840.9766845703125\n",
      "Epoch 200 train loss: 1.4381248547579162e-06 test loss: 840.9996948242188\n",
      "Epoch 210 train loss: 2.6913512556347996e-06 test loss: 840.989501953125\n",
      "Epoch 220 train loss: 2.0346703877294203e-06 test loss: 840.9973754882812\n",
      "Epoch 230 train loss: 2.1211114926700247e-06 test loss: 840.9859619140625\n",
      "Epoch 240 train loss: 1.8557593648438342e-06 test loss: 841.0534057617188\n",
      "Epoch 250 train loss: 9.60567376750987e-07 test loss: 840.9887084960938\n",
      "Epoch 260 train loss: 1.9769702248595422e-06 test loss: 841.0359497070312\n",
      "Epoch 270 train loss: 1.650302351663413e-06 test loss: 841.0066528320312\n",
      "Epoch 280 train loss: 1.5392170098493807e-06 test loss: 840.9910278320312\n",
      "Epoch 290 train loss: 1.642704432924802e-06 test loss: 841.0078735351562\n",
      "AK\n",
      "Epoch 0 train loss: 0.013928886502981186 test loss: 0.9660099744796753\n",
      "Epoch 10 train loss: 0.0006020841537974775 test loss: 1.0075106620788574\n",
      "Epoch 20 train loss: 0.00029222239390946925 test loss: 0.9933330416679382\n",
      "Epoch 30 train loss: 3.814655792666599e-05 test loss: 0.9980373382568359\n",
      "Epoch 40 train loss: 1.978789623535704e-05 test loss: 0.9955826997756958\n",
      "Epoch 50 train loss: 5.292189962347038e-05 test loss: 0.9991287589073181\n",
      "Epoch 60 train loss: 1.6667838281136937e-05 test loss: 0.9982666373252869\n",
      "Epoch 70 train loss: 2.5878389351419173e-05 test loss: 0.9993515014648438\n",
      "Epoch 80 train loss: 1.9057160898228176e-05 test loss: 1.0006521940231323\n",
      "Epoch 90 train loss: 2.404526821919717e-05 test loss: 0.9992542266845703\n",
      "Epoch 100 train loss: 2.0941510229022242e-05 test loss: 0.998965859413147\n",
      "Epoch 110 train loss: 8.215241905418225e-06 test loss: 0.9998060464859009\n",
      "Epoch 120 train loss: 1.4070553334022406e-05 test loss: 1.000756859779358\n",
      "Epoch 130 train loss: 5.370127837522887e-06 test loss: 0.99894779920578\n",
      "Epoch 140 train loss: 8.162174708559178e-06 test loss: 1.00001859664917\n",
      "Epoch 150 train loss: 4.291924597055186e-06 test loss: 0.9990780353546143\n",
      "Epoch 160 train loss: 8.553786756237969e-06 test loss: 0.9991751313209534\n",
      "Epoch 170 train loss: 5.24998222317663e-06 test loss: 0.9992201924324036\n",
      "Epoch 180 train loss: 5.423942639026791e-06 test loss: 0.9994018077850342\n",
      "Epoch 190 train loss: 6.294817922025686e-06 test loss: 0.9992820024490356\n",
      "Epoch 200 train loss: 3.5185707929485943e-06 test loss: 0.9984838962554932\n",
      "Epoch 210 train loss: 4.770884061144898e-06 test loss: 0.999206006526947\n",
      "Epoch 220 train loss: 3.7906602301518433e-06 test loss: 0.9995117783546448\n",
      "Epoch 230 train loss: 4.319324034440797e-06 test loss: 0.9993630647659302\n",
      "Epoch 240 train loss: 3.5093437418254325e-06 test loss: 0.9995800852775574\n",
      "Epoch 250 train loss: 4.90415504827979e-06 test loss: 0.9991655945777893\n",
      "Epoch 260 train loss: 5.679147307091625e-06 test loss: 0.9991335272789001\n",
      "Epoch 270 train loss: 4.237831035425188e-06 test loss: 0.9991043210029602\n",
      "Epoch 280 train loss: 4.960758815286681e-06 test loss: 0.9994974732398987\n",
      "Epoch 290 train loss: 4.572075340547599e-06 test loss: 0.9993375539779663\n",
      "AZ\n",
      "Epoch 0 train loss: 3.0501537322998047 test loss: 4.1067795753479\n",
      "Epoch 10 train loss: 1.617908239364624 test loss: 3.6522774696350098\n",
      "Epoch 20 train loss: 1.3164165019989014 test loss: 3.336979627609253\n",
      "Epoch 30 train loss: 1.3125925064086914 test loss: 3.3059332370758057\n",
      "Epoch 40 train loss: 1.3173096179962158 test loss: 3.3851330280303955\n",
      "Epoch 50 train loss: 1.3145232200622559 test loss: 3.3991451263427734\n",
      "Epoch 60 train loss: 1.317169189453125 test loss: 3.3642373085021973\n",
      "Epoch 70 train loss: 1.296785593032837 test loss: 3.339632034301758\n",
      "Epoch 80 train loss: 1.295513391494751 test loss: 3.3344008922576904\n",
      "Epoch 90 train loss: 1.3027808666229248 test loss: 3.3321316242218018\n",
      "Epoch 100 train loss: 1.2893974781036377 test loss: 3.301173210144043\n",
      "Epoch 110 train loss: 1.2837779521942139 test loss: 3.3194572925567627\n",
      "Epoch 120 train loss: 1.2849379777908325 test loss: 3.3124258518218994\n",
      "Epoch 130 train loss: 1.2764394283294678 test loss: 3.2982585430145264\n",
      "Epoch 140 train loss: 1.2794320583343506 test loss: 3.295163869857788\n",
      "Epoch 150 train loss: 1.269756555557251 test loss: 3.296316385269165\n",
      "Epoch 160 train loss: 1.2552008628845215 test loss: 3.2829601764678955\n",
      "Epoch 170 train loss: 1.250145435333252 test loss: 3.2525646686553955\n",
      "Epoch 180 train loss: 1.2631373405456543 test loss: 3.268972158432007\n",
      "Epoch 190 train loss: 1.256642460823059 test loss: 3.2596466541290283\n",
      "Epoch 200 train loss: 1.2409934997558594 test loss: 3.24360990524292\n",
      "Epoch 210 train loss: 1.2426514625549316 test loss: 3.24613094329834\n",
      "Epoch 220 train loss: 1.2266318798065186 test loss: 3.1914377212524414\n",
      "Epoch 230 train loss: 1.2480831146240234 test loss: 3.2384555339813232\n",
      "Epoch 240 train loss: 1.2246384620666504 test loss: 3.2098677158355713\n",
      "Epoch 250 train loss: 1.2281157970428467 test loss: 3.1816799640655518\n",
      "Epoch 260 train loss: 1.2085504531860352 test loss: 3.1798720359802246\n",
      "Epoch 270 train loss: 1.2176544666290283 test loss: 3.155972957611084\n",
      "Epoch 280 train loss: 1.2039124965667725 test loss: 3.129303455352783\n",
      "Epoch 290 train loss: 1.192097783088684 test loss: 3.1192450523376465\n",
      "AR\n",
      "Epoch 0 train loss: 0.029533814638853073 test loss: 13.375266075134277\n",
      "Epoch 10 train loss: 0.027459166944026947 test loss: 13.41322135925293\n",
      "Epoch 20 train loss: 0.027693012729287148 test loss: 13.423039436340332\n",
      "Epoch 30 train loss: 0.027257781475782394 test loss: 13.406661033630371\n",
      "Epoch 40 train loss: 0.027075503021478653 test loss: 13.416226387023926\n",
      "Epoch 50 train loss: 0.027442798018455505 test loss: 13.417885780334473\n",
      "Epoch 60 train loss: 0.02777009829878807 test loss: 13.416259765625\n",
      "Epoch 70 train loss: 0.02746010757982731 test loss: 13.413877487182617\n",
      "Epoch 80 train loss: 0.027202796190977097 test loss: 13.411998748779297\n",
      "Epoch 90 train loss: 0.027273081243038177 test loss: 13.414289474487305\n",
      "Epoch 100 train loss: 0.027209220454096794 test loss: 13.41114330291748\n",
      "Epoch 110 train loss: 0.02732090651988983 test loss: 13.424560546875\n",
      "Epoch 120 train loss: 0.027210494503378868 test loss: 13.413839340209961\n",
      "Epoch 130 train loss: 0.027204591780900955 test loss: 13.416366577148438\n",
      "Epoch 140 train loss: 0.02735062688589096 test loss: 13.415904998779297\n",
      "Epoch 150 train loss: 0.027186930179595947 test loss: 13.418509483337402\n",
      "Epoch 160 train loss: 0.02716485597193241 test loss: 13.417789459228516\n",
      "Epoch 170 train loss: 0.027217922732234 test loss: 13.415043830871582\n",
      "Epoch 180 train loss: 0.027257850393652916 test loss: 13.414556503295898\n",
      "Epoch 190 train loss: 0.027160421013832092 test loss: 13.414217948913574\n",
      "Epoch 200 train loss: 0.02729448676109314 test loss: 13.419229507446289\n",
      "Epoch 210 train loss: 0.027191055938601494 test loss: 13.414162635803223\n",
      "Epoch 220 train loss: 0.027155214920639992 test loss: 13.41510009765625\n",
      "Epoch 230 train loss: 0.027210231870412827 test loss: 13.4154634475708\n"
     ]
    },
    {
     "name": "stdout",
     "output_type": "stream",
     "text": [
      "Epoch 240 train loss: 0.02717181295156479 test loss: 13.414810180664062\n",
      "Epoch 250 train loss: 0.027174580842256546 test loss: 13.414738655090332\n",
      "Epoch 260 train loss: 0.027205146849155426 test loss: 13.416072845458984\n",
      "Epoch 270 train loss: 0.027216004207730293 test loss: 13.415032386779785\n",
      "Epoch 280 train loss: 0.027175672352313995 test loss: 13.416356086730957\n",
      "Epoch 290 train loss: 0.02721828781068325 test loss: 13.416778564453125\n",
      "CA\n",
      "Epoch 0 train loss: 1.5638538599014282 test loss: 6.197348117828369\n",
      "Epoch 10 train loss: 1.3379380702972412 test loss: 5.904670715332031\n",
      "Epoch 20 train loss: 1.3265635967254639 test loss: 5.836333274841309\n",
      "Epoch 30 train loss: 1.3181498050689697 test loss: 5.831844806671143\n",
      "Epoch 40 train loss: 1.3084213733673096 test loss: 5.825945854187012\n",
      "Epoch 50 train loss: 1.3121395111083984 test loss: 5.808676242828369\n",
      "Epoch 60 train loss: 1.298343539237976 test loss: 5.790519714355469\n",
      "Epoch 70 train loss: 1.2928237915039062 test loss: 5.772502899169922\n",
      "Epoch 80 train loss: 1.290643334388733 test loss: 5.752531051635742\n",
      "Epoch 90 train loss: 1.2881872653961182 test loss: 5.747925281524658\n",
      "Epoch 100 train loss: 1.281414270401001 test loss: 5.726059436798096\n",
      "Epoch 110 train loss: 1.2726889848709106 test loss: 5.722773551940918\n",
      "Epoch 120 train loss: 1.2618191242218018 test loss: 5.668649196624756\n",
      "Epoch 130 train loss: 1.2572171688079834 test loss: 5.660416603088379\n",
      "Epoch 140 train loss: 1.2401045560836792 test loss: 5.655639171600342\n",
      "Epoch 150 train loss: 1.2380770444869995 test loss: 5.6449689865112305\n",
      "Epoch 160 train loss: 1.2282941341400146 test loss: 5.604282379150391\n",
      "Epoch 170 train loss: 1.2102080583572388 test loss: 5.575194835662842\n",
      "Epoch 180 train loss: 1.1968374252319336 test loss: 5.543089866638184\n",
      "Epoch 190 train loss: 1.1704198122024536 test loss: 5.4742584228515625\n",
      "Epoch 200 train loss: 1.146368145942688 test loss: 5.439775466918945\n",
      "Epoch 210 train loss: 1.1178385019302368 test loss: 5.353295803070068\n",
      "Epoch 220 train loss: 1.0930300951004028 test loss: 5.290030479431152\n",
      "Epoch 230 train loss: 1.0395317077636719 test loss: 5.173903942108154\n",
      "Epoch 240 train loss: 1.0051478147506714 test loss: 5.0520405769348145\n",
      "Epoch 250 train loss: 0.9108340740203857 test loss: 4.916629314422607\n",
      "Epoch 260 train loss: 0.8285830616950989 test loss: 4.736576557159424\n",
      "Epoch 270 train loss: 0.7297933101654053 test loss: 4.423942565917969\n",
      "Epoch 280 train loss: 0.5566001534461975 test loss: 4.1236891746521\n",
      "Epoch 290 train loss: 0.42331093549728394 test loss: 3.6411499977111816\n",
      "CO\n",
      "Epoch 0 train loss: 0.8500701189041138 test loss: 12.788278579711914\n",
      "Epoch 10 train loss: 0.7007819414138794 test loss: 12.44731616973877\n",
      "Epoch 20 train loss: 0.6984598636627197 test loss: 12.365955352783203\n",
      "Epoch 30 train loss: 0.703822135925293 test loss: 12.412474632263184\n",
      "Epoch 40 train loss: 0.7017266154289246 test loss: 12.406469345092773\n",
      "Epoch 50 train loss: 0.7007263898849487 test loss: 12.398041725158691\n",
      "Epoch 60 train loss: 0.7034872770309448 test loss: 12.388317108154297\n",
      "Epoch 70 train loss: 0.7022333145141602 test loss: 12.383578300476074\n",
      "Epoch 80 train loss: 0.7001912593841553 test loss: 12.376730918884277\n",
      "Epoch 90 train loss: 0.7010365724563599 test loss: 12.378145217895508\n",
      "Epoch 100 train loss: 0.7028392553329468 test loss: 12.369233131408691\n",
      "Epoch 110 train loss: 0.6992501020431519 test loss: 12.368465423583984\n",
      "Epoch 120 train loss: 0.6997833847999573 test loss: 12.366957664489746\n",
      "Epoch 130 train loss: 0.6995002031326294 test loss: 12.354740142822266\n",
      "Epoch 140 train loss: 0.6993486881256104 test loss: 12.369414329528809\n",
      "Epoch 150 train loss: 0.699622392654419 test loss: 12.355864524841309\n",
      "Epoch 160 train loss: 0.6996587514877319 test loss: 12.358661651611328\n",
      "Epoch 170 train loss: 0.7013775110244751 test loss: 12.36487865447998\n",
      "Epoch 180 train loss: 0.6997449994087219 test loss: 12.36856460571289\n",
      "Epoch 190 train loss: 0.6996428966522217 test loss: 12.365144729614258\n",
      "Epoch 200 train loss: 0.7011288404464722 test loss: 12.365962028503418\n",
      "Epoch 210 train loss: 0.7021602392196655 test loss: 12.368480682373047\n",
      "Epoch 220 train loss: 0.7017122507095337 test loss: 12.373315811157227\n",
      "Epoch 230 train loss: 0.7013654708862305 test loss: 12.370556831359863\n",
      "Epoch 240 train loss: 0.7001386880874634 test loss: 12.371978759765625\n",
      "Epoch 250 train loss: 0.7013499140739441 test loss: 12.372703552246094\n",
      "Epoch 260 train loss: 0.7002325057983398 test loss: 12.369149208068848\n",
      "Epoch 270 train loss: 0.7006967663764954 test loss: 12.37705135345459\n",
      "Epoch 280 train loss: 0.7012529373168945 test loss: 12.378509521484375\n",
      "Epoch 290 train loss: 0.7018955945968628 test loss: 12.378510475158691\n",
      "CT\n"
     ]
    }
   ],
   "source": [
    "data_saver = {}\n",
    "\n",
    "for s in state_abrs:\n",
    "    print(s)\n",
    "    \n",
    "    # Instanial our loader / transformer\n",
    "    test_dl = LSTM_data_loader(df=tdf,\n",
    "                          region_abr=s,\n",
    "                          country='US',\n",
    "                          region_list=state_abrs,\n",
    "                          state_mapper=state_mapper,\n",
    "                          sequence_lenth=3)\n",
    "    \n",
    "    test_dl.subset_df()\n",
    "    test_dl.transform_df_datetime()\n",
    "    test_dl.gen_data_sets(test_data_size=5)\n",
    "\n",
    "    X_train, y_train = test_dl.set_seq()\n",
    "    X_test, y_test = test_dl.set_seq(train=False)\n",
    "\n",
    "    X_train = torch.from_numpy(X_train).float()\n",
    "    y_train = torch.from_numpy(y_train).float()\n",
    "    X_test = torch.from_numpy(X_test).float()\n",
    "    y_test = torch.from_numpy(y_test).float()\n",
    "    \n",
    "    model = CoronaVirusPredictor(\n",
    "      n_features=1,\n",
    "      n_hidden=512,\n",
    "      seq_len=test_dl.sequence_lenth,\n",
    "      n_layers=2\n",
    "    )\n",
    "    \n",
    "    model, train_hist, test_hist = train_model(\n",
    "      model,\n",
    "      X_train,\n",
    "      y_train,\n",
    "      X_test,\n",
    "      y_test\n",
    "    )\n",
    "    \n",
    "    with torch.no_grad():\n",
    "        test_seq = X_test[:1]\n",
    "        preds = []\n",
    "        for _ in range(len(X_test)):\n",
    "            y_test_pred = model(test_seq)\n",
    "            pred = torch.flatten(y_test_pred).item()\n",
    "            preds.append(pred)\n",
    "            new_seq = test_seq.numpy().flatten()\n",
    "            new_seq = np.append(new_seq, [pred])\n",
    "            new_seq = new_seq[1:]\n",
    "            test_seq = torch.as_tensor(new_seq).view(1, test_dl.sequence_lenth, 1).float()\n",
    "        \n",
    "    true_cases = test_dl.scaler.inverse_transform(\n",
    "        np.expand_dims(y_test.flatten().numpy(), axis=0)\n",
    "    ).flatten()\n",
    "\n",
    "    predicted_cases = test_dl.scaler.inverse_transform(\n",
    "      np.expand_dims(preds, axis=0)\n",
    "    ).flatten()\n",
    "    \n",
    "    data_saver[s] = {\n",
    "        'train_hist' : train_hist,\n",
    "        'test_hist' : test_hist,\n",
    "        'xtrain' : X_train,\n",
    "        'xtest' : X_test,\n",
    "        'ytrain' : y_test,\n",
    "        'ytest' : y_test,\n",
    "        'true_cases' : true_cases,\n",
    "        'predicted_cases' : predicted_cases\n",
    "    }\n",
    "    \n",
    "#     print(data_saver)\n",
    "    "
   ]
  },
  {
   "cell_type": "code",
   "execution_count": 35,
   "metadata": {},
   "outputs": [
    {
     "name": "stdout",
     "output_type": "stream",
     "text": [
      "Epoch 0 train loss: 13.389084815979004 test loss: 1.9732123613357544\n",
      "Epoch 10 train loss: 8.327491760253906 test loss: 1.5774154663085938\n",
      "Epoch 20 train loss: 4.138882160186768 test loss: 1.0888692140579224\n",
      "Epoch 30 train loss: 3.923527240753174 test loss: 0.6946665644645691\n",
      "Epoch 40 train loss: 3.512434959411621 test loss: 0.8968299627304077\n",
      "Epoch 50 train loss: 3.564000368118286 test loss: 0.9149094820022583\n",
      "Epoch 60 train loss: 3.469043731689453 test loss: 0.8279104232788086\n",
      "Epoch 70 train loss: 3.4717698097229004 test loss: 0.863163948059082\n",
      "Epoch 80 train loss: 3.4912571907043457 test loss: 0.855752170085907\n",
      "Epoch 90 train loss: 3.526294469833374 test loss: 0.8283991813659668\n",
      "Epoch 100 train loss: 3.4745535850524902 test loss: 0.8497444987297058\n",
      "Epoch 110 train loss: 3.442981481552124 test loss: 0.8435304760932922\n",
      "Epoch 120 train loss: 3.3929386138916016 test loss: 0.8195550441741943\n",
      "Epoch 130 train loss: 3.3693761825561523 test loss: 0.8279690146446228\n",
      "Epoch 140 train loss: 3.379403591156006 test loss: 0.8181343078613281\n",
      "Epoch 150 train loss: 3.368058204650879 test loss: 0.8249240517616272\n",
      "Epoch 160 train loss: 3.3336336612701416 test loss: 0.8200064301490784\n",
      "Epoch 170 train loss: 3.300020456314087 test loss: 0.7837895154953003\n",
      "Epoch 180 train loss: 3.20821213722229 test loss: 0.7721796035766602\n",
      "Epoch 190 train loss: 3.2122092247009277 test loss: 0.7631612420082092\n",
      "Epoch 200 train loss: 3.0306143760681152 test loss: 0.7387099862098694\n",
      "Epoch 210 train loss: 2.6935787200927734 test loss: 0.6467693448066711\n",
      "Epoch 220 train loss: 0.9700583815574646 test loss: 0.3709348440170288\n",
      "Epoch 230 train loss: 0.6192016005516052 test loss: 0.05633099749684334\n",
      "Epoch 240 train loss: 0.6351057887077332 test loss: 0.1429244875907898\n",
      "Epoch 250 train loss: 0.37273159623146057 test loss: 0.07290971279144287\n",
      "Epoch 260 train loss: 0.30153483152389526 test loss: 0.1044219434261322\n",
      "Epoch 270 train loss: 0.3369120657444 test loss: 0.12268658727407455\n",
      "Epoch 280 train loss: 0.26875290274620056 test loss: 0.1000533252954483\n",
      "Epoch 290 train loss: 0.29984211921691895 test loss: 0.12259282916784286\n"
     ]
    }
   ],
   "source": [
    "model = CoronaVirusPredictor(\n",
    "  n_features=1,\n",
    "  n_hidden=512,\n",
    "  seq_len=test_dl.sequence_lenth,\n",
    "  n_layers=2\n",
    ")\n",
    "model, train_hist, test_hist = train_model(\n",
    "  model,\n",
    "  X_train,\n",
    "  y_train,\n",
    "  X_test,\n",
    "  y_test\n",
    ")"
   ]
  },
  {
   "cell_type": "code",
   "execution_count": null,
   "metadata": {},
   "outputs": [],
   "source": [
    "with torch.no_grad():\n",
    "    test_seq = X_test[:1]\n",
    "    print(test_seq)\n",
    "    preds = []\n",
    "    for _ in range(len(X_test)):\n",
    "        y_test_pred = model(test_seq)\n",
    "        pred = torch.flatten(y_test_pred).item()\n",
    "        preds.append(pred)\n",
    "        new_seq = test_seq.numpy().flatten()\n",
    "        new_seq = np.append(new_seq, [pred])\n",
    "        new_seq = new_seq[1:]\n",
    "        test_seq = torch.as_tensor(new_seq).view(1, seq_length, 1).float()\n",
    "        \n",
    "true_cases = scaler.inverse_transform(\n",
    "    np.expand_dims(y_test.flatten().numpy(), axis=0)\n",
    ").flatten()\n",
    "\n",
    "predicted_cases = scaler.inverse_transform(\n",
    "  np.expand_dims(preds, axis=0)\n",
    ").flatten()"
   ]
  },
  {
   "cell_type": "code",
   "execution_count": null,
   "metadata": {},
   "outputs": [],
   "source": [
    "plt.plot(train_hist, label=\"Training loss\")\n",
    "plt.plot(test_hist, label=\"Test loss\")\n",
    "plt.ylim((0, 10))\n",
    "plt.legend()"
   ]
  },
  {
   "cell_type": "code",
   "execution_count": null,
   "metadata": {},
   "outputs": [],
   "source": [
    "mask1 = confirmed_melted['Date'].str.contains(first_day)\n",
    "mask2 = confirmed_melted['Country/Region'].str.contains('US')\n",
    "first_day_df_US = confirmed_melted[mask1 & mask2]\n",
    "first_day_df_US.head()\n",
    "\n",
    "first_day_df_US = first_day_df_US[['Province/State','Confirmed']]\n",
    "\n",
    "for x in state_abrs:\n",
    "    counter=0\n",
    "    for r in first_day_df_US['Province/State']:\n",
    "        if x in r:\n",
    "            first_day_df_US['Province/State'].iloc[counter] = x\n",
    "        elif r in state_mapper.keys():\n",
    "            first_day_df_US['Province/State'].iloc[counter] = remap_to_abr(r, state_mapper)\n",
    "        counter+=1\n",
    "        \n",
    "\n",
    "first_day_df_US = first_day_df_US.groupby('Province/State').sum().reset_index()\n",
    "first_day_df_US.head()"
   ]
  },
  {
   "cell_type": "code",
   "execution_count": null,
   "metadata": {},
   "outputs": [],
   "source": [
    "mask = confirmed_melted['Country/Region'].str.contains('US')\n",
    "first_day_df_US = confirmed_melted[mask1 & mask2]\n",
    "first_day_df_US.head()\n",
    "\n",
    "first_day_df_US = first_day_df_US[['Province/State','Confirmed']]\n",
    "\n",
    "for x in state_abrs:\n",
    "    counter=0\n",
    "    for r in first_day_df_US['Province/State']:\n",
    "        if x in r:\n",
    "            first_day_df_US['Province/State'].iloc[counter] = x\n",
    "        elif r in state_mapper.keys():\n",
    "            first_day_df_US['Province/State'].iloc[counter] = remap_to_abr(r, state_mapper)\n",
    "        counter+=1\n",
    "        \n",
    "\n",
    "first_day_df_US = first_day_df_US.groupby('Province/State').sum().reset_index()\n",
    "first_day_df_US.head()"
   ]
  }
 ],
 "metadata": {
  "kernelspec": {
   "display_name": "Python 3",
   "language": "python",
   "name": "python3"
  },
  "language_info": {
   "codemirror_mode": {
    "name": "ipython",
    "version": 3
   },
   "file_extension": ".py",
   "mimetype": "text/x-python",
   "name": "python",
   "nbconvert_exporter": "python",
   "pygments_lexer": "ipython3",
   "version": "3.7.6"
  }
 },
 "nbformat": 4,
 "nbformat_minor": 4
}
